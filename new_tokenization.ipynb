{
 "cells": [
  {
   "cell_type": "code",
   "execution_count": 2,
   "metadata": {},
   "outputs": [],
   "source": [
    "import pandas as pd\n",
    "import json\n",
    "\n",
    "with open('data/train_clean_small.json', 'r') as openfile:\n",
    "    json_loaded = json.load(openfile)\n",
    "\n",
    "\n",
    "data_clean_small = pd.DataFrame(data=json_loaded)"
   ]
  },
  {
   "cell_type": "code",
   "execution_count": 3,
   "metadata": {},
   "outputs": [
    {
     "name": "stdout",
     "output_type": "stream",
     "text": [
      "<class 'pandas.core.frame.DataFrame'>\n",
      "Index: 418870 entries, 0 to 427666\n",
      "Data columns (total 11 columns):\n",
      " #   Column        Non-Null Count   Dtype  \n",
      "---  ------        --------------   -----  \n",
      " 0   TRIP_ID       418870 non-null  int64  \n",
      " 1   CALL_TYPE     418870 non-null  object \n",
      " 2   ORIGIN_CALL   88360 non-null   float64\n",
      " 3   ORIGIN_STAND  208787 non-null  float64\n",
      " 4   TAXI_ID       418870 non-null  int64  \n",
      " 5   TIMESTAMP     418870 non-null  int64  \n",
      " 6   DAY_TYPE      418870 non-null  object \n",
      " 7   MISSING_DATA  418870 non-null  bool   \n",
      " 8   POLYLINE      418870 non-null  object \n",
      " 9   Tokenization  418870 non-null  object \n",
      " 10  Nb_points     418870 non-null  int64  \n",
      "dtypes: bool(1), float64(2), int64(4), object(4)\n",
      "memory usage: 35.6+ MB\n"
     ]
    }
   ],
   "source": [
    "data_clean_small.info()"
   ]
  },
  {
   "cell_type": "code",
   "execution_count": 18,
   "metadata": {},
   "outputs": [],
   "source": [
    "import datetime\n",
    "\n",
    "#on récupère la date à partir du timestamp\n",
    "data_clean_small['DATE'] = data_clean_small['TIMESTAMP'].apply(lambda x: datetime.datetime.fromtimestamp(x).strftime('%Y-%m-%d %H:%M:%S'))\n",
    "\n",
    "#a partir de cela on récupère le jour de la semaine sous forme d'un nombre entre 1 et 7 pour lundi à dimanche\n",
    "data_clean_small['DAY'] = data_clean_small['DATE'].apply(lambda x: str(datetime.datetime.strptime(x.split(' ')[0],'%Y-%m-%d').isocalendar()[2]))\n",
    "#ensuite, on récupère l'heure sous forme d'un nombre entre 0 et 23\n",
    "data_clean_small['HOUR'] = data_clean_small['DATE'].apply(lambda x: str(x.split(' ')[1].split(':')[0]))\n",
    "#enfin on recupère le numéro de la semaine dans l'année\n",
    "data_clean_small['WEEK'] = data_clean_small['DATE'].apply(lambda x: str(datetime.datetime.strptime(x.split(' ')[0],'%Y-%m-%d').isocalendar()[1]))"
   ]
  },
  {
   "cell_type": "code",
   "execution_count": 7,
   "metadata": {},
   "outputs": [],
   "source": [
    "#on enlève les colonnes inutiles\n",
    "data_clean_small.drop(['DATE','ORIGIN_CALL','TRIP_ID', 'DAY_TYPE', 'ORIGIN_CALL', 'ORIGIN_STAND', 'Nb_points' ],axis=1,inplace=True)"
   ]
  },
  {
   "cell_type": "code",
   "execution_count": 19,
   "metadata": {},
   "outputs": [
    {
     "name": "stdout",
     "output_type": "stream",
     "text": [
      "<class 'pandas.core.frame.DataFrame'>\n",
      "Index: 418870 entries, 0 to 427666\n",
      "Data columns (total 9 columns):\n",
      " #   Column        Non-Null Count   Dtype \n",
      "---  ------        --------------   ----- \n",
      " 0   CALL_TYPE     418870 non-null  object\n",
      " 1   TAXI_ID       418870 non-null  int64 \n",
      " 2   TIMESTAMP     418870 non-null  int64 \n",
      " 3   POLYLINE      418870 non-null  object\n",
      " 4   Tokenization  418870 non-null  object\n",
      " 5   DAY           418870 non-null  object\n",
      " 6   HOUR          418870 non-null  object\n",
      " 7   WEEK          418870 non-null  object\n",
      " 8   DATE          418870 non-null  object\n",
      "dtypes: int64(2), object(7)\n",
      "memory usage: 32.0+ MB\n"
     ]
    }
   ],
   "source": [
    "data_clean_small.info()\n"
   ]
  },
  {
   "cell_type": "code",
   "execution_count": 9,
   "metadata": {},
   "outputs": [],
   "source": [
    "data_clean_small.drop(['MISSING_DATA' ],axis=1,inplace=True)"
   ]
  },
  {
   "cell_type": "code",
   "execution_count": 24,
   "metadata": {},
   "outputs": [
    {
     "data": {
      "text/plain": [
       "'40'"
      ]
     },
     "execution_count": 24,
     "metadata": {},
     "output_type": "execute_result"
    }
   ],
   "source": [
    "data_clean_small['WEEK'][-1]"
   ]
  },
  {
   "cell_type": "code",
   "execution_count": null,
   "metadata": {},
   "outputs": [],
   "source": []
  }
 ],
 "metadata": {
  "kernelspec": {
   "display_name": "base",
   "language": "python",
   "name": "python3"
  },
  "language_info": {
   "codemirror_mode": {
    "name": "ipython",
    "version": 3
   },
   "file_extension": ".py",
   "mimetype": "text/x-python",
   "name": "python",
   "nbconvert_exporter": "python",
   "pygments_lexer": "ipython3",
   "version": "3.9.13"
  },
  "orig_nbformat": 4
 },
 "nbformat": 4,
 "nbformat_minor": 2
}
