{
 "cells": [
  {
   "cell_type": "code",
   "execution_count": 1,
   "metadata": {},
   "outputs": [],
   "source": [
    "import folium\n",
    "import h3\n",
    "import json\n",
    "import pandas as pd"
   ]
  },
  {
   "cell_type": "code",
   "execution_count": null,
   "metadata": {},
   "outputs": [],
   "source": [
    "test_traj = [[-8.618643, 41.141412], [-8.618499, 41.141376], [-8.620326, 41.14251], [-8.622153, 41.143815], [-8.623953, 41.144373], [-8.62668, 41.144778], [-8.627373, 41.144697], [-8.630226, 41.14521], [-8.632746, 41.14692], [-8.631738, 41.148225], [-8.629938, 41.150385], [-8.62911, 41.151213], [-8.629128, 41.15124], [-8.628786, 41.152203], [-8.628687, 41.152374], [-8.628759, 41.152518], [-8.630838, 41.15268], [-8.632323, 41.153022], [-8.631144, 41.154489], [-8.630829, 41.154507], [-8.630829, 41.154516], [-8.630829, 41.154498], [-8.630838, 41.154489]]\n",
    "\n",
    "\n",
    "# display the trajectory on a map\n",
    "m = folium.Map(location=[41.141412, -8.618643], zoom_start=15)\n",
    "folium.PolyLine(test_traj, color=\"red\", weight=2.5, opacity=1).add_to(m)\n",
    "m"
   ]
  },
  {
   "cell_type": "code",
   "execution_count": 2,
   "metadata": {},
   "outputs": [
    {
     "name": "stdout",
     "output_type": "stream",
     "text": [
      "/home/daril_kw/trajcbert/trajcbert\n"
     ]
    }
   ],
   "source": [
    "!pwd"
   ]
  },
  {
   "cell_type": "code",
   "execution_count": 2,
   "metadata": {},
   "outputs": [],
   "source": [
    "#we read the data\n",
    "with open('data/train_clean_small.json', 'r') as openfile:\n",
    "     \n",
    "        # Reading from json file\n",
    "        json_loaded = json.load(openfile)\n"
   ]
  },
  {
   "cell_type": "code",
   "execution_count": 3,
   "metadata": {},
   "outputs": [],
   "source": [
    "#we put them in a dataframe\n",
    "data_clean = pd.DataFrame(data=json_loaded)"
   ]
  },
  {
   "cell_type": "code",
   "execution_count": 177,
   "metadata": {},
   "outputs": [],
   "source": [
    "#we check if the tokenization column match with the polyline column for the first trajectory\n",
    "\n",
    "#liste_verif=[h3.geo_to_h3(data_clean['POLYLINE'][0][i][0], data_clean['POLYLINE'][0][i][1], 10) == data_clean['Tokenization'][0][i] for i in range(len(data_clean['POLYLINE'][0]))]"
   ]
  },
  {
   "cell_type": "code",
   "execution_count": 181,
   "metadata": {},
   "outputs": [],
   "source": [
    "#liste_verif_2= [h3.geo_to_h3(data_clean['POLYLINE'][0][i][1], data_clean['POLYLINE'][0][i][0], 10) == data_clean['Tokenization'][0][i] for i in range(len(data_clean['POLYLINE'][0]))]"
   ]
  },
  {
   "cell_type": "code",
   "execution_count": 183,
   "metadata": {},
   "outputs": [
    {
     "data": {
      "text/plain": [
       "0"
      ]
     },
     "execution_count": 183,
     "metadata": {},
     "output_type": "execute_result"
    }
   ],
   "source": [
    "#liste_verif_2.count(False)"
   ]
  },
  {
   "cell_type": "code",
   "execution_count": 37,
   "metadata": {},
   "outputs": [],
   "source": [
    "#we take the first trajectory of the first taxi\n",
    "trajectory = data_clean['POLYLINE'][0]\n",
    "#on inverse l'ordre des coordonnees de trajectory\n",
    "for i in range(len(trajectory)):\n",
    "    tmp = trajectory[i][0]\n",
    "    trajectory[i][0] = trajectory[i][1]\n",
    "    trajectory[i][1] = tmp\n",
    "\n",
    "#map_center = trajectory[0]"
   ]
  },
  {
   "cell_type": "code",
   "execution_count": 38,
   "metadata": {},
   "outputs": [
    {
     "data": {
      "text/plain": [
       "[41.141412, -8.618643]"
      ]
     },
     "execution_count": 38,
     "metadata": {},
     "output_type": "execute_result"
    }
   ],
   "source": [
    "trajectory[0]"
   ]
  },
  {
   "cell_type": "code",
   "execution_count": null,
   "metadata": {},
   "outputs": [],
   "source": []
  },
  {
   "cell_type": "code",
   "execution_count": 4,
   "metadata": {},
   "outputs": [
    {
     "ename": "TypeError",
     "evalue": "'float' object cannot be interpreted as an integer",
     "output_type": "error",
     "traceback": [
      "\u001b[1;31m---------------------------------------------------------------------------\u001b[0m",
      "\u001b[1;31mTypeError\u001b[0m                                 Traceback (most recent call last)",
      "Cell \u001b[1;32mIn[4], line 3\u001b[0m\n\u001b[0;32m      1\u001b[0m \u001b[39m#we add a column to the dataframe with the tokenization of the trajectory\u001b[39;00m\n\u001b[0;32m      2\u001b[0m liste_token\u001b[39m=\u001b[39m[]\n\u001b[1;32m----> 3\u001b[0m \u001b[39mfor\u001b[39;00m i \u001b[39min\u001b[39;00m \u001b[39mrange\u001b[39;49m(\u001b[39mlen\u001b[39;49m(data_clean[\u001b[39m'\u001b[39;49m\u001b[39mPOLYLINE\u001b[39;49m\u001b[39m'\u001b[39;49m])\u001b[39m/\u001b[39;49m\u001b[39m4\u001b[39;49m):\n\u001b[0;32m      4\u001b[0m     liste_token\u001b[39m.\u001b[39mappend(h3\u001b[39m.\u001b[39mgeo_to_h3(data_clean[\u001b[39m'\u001b[39m\u001b[39mPOLYLINE\u001b[39m\u001b[39m'\u001b[39m][i][\u001b[39m1\u001b[39m], data_clean[\u001b[39m'\u001b[39m\u001b[39mPOLYLINE\u001b[39m\u001b[39m'\u001b[39m][i][\u001b[39m0\u001b[39m], \u001b[39m10\u001b[39m))\n\u001b[0;32m      9\u001b[0m map_center \u001b[39m=\u001b[39m [\u001b[39m41.157943\u001b[39m, \u001b[39m-\u001b[39m\u001b[39m8.629105\u001b[39m] \u001b[39m# Porto coordinates\u001b[39;00m\n",
      "\u001b[1;31mTypeError\u001b[0m: 'float' object cannot be interpreted as an integer"
     ]
    }
   ],
   "source": [
    "#we add a column to the dataframe with the tokenization of the trajectory\n",
    "liste_token=[]\n",
    "for i in range(len(data_clean['POLYLINE'])/4):\n",
    "    liste_token.append(h3.geo_to_h3(data_clean['POLYLINE'][i][1], data_clean['POLYLINE'][i][0], 10))\n",
    "\n",
    "\n",
    "\n",
    "\n",
    "map_center = [41.157943, -8.629105] # Porto coordinates\n",
    "\n",
    "\n",
    "\n",
    "#on inverse l'ordre des coordonnees des liste de la colonne POLYLINE\n",
    "\"\"\"\n",
    "for i in range(len(data_clean['POLYLINE'])):\n",
    "    for j in range(len(data_clean['POLYLINE'][i])):\n",
    "        tmp = data_clean['POLYLINE'][i][j][0]\n",
    "        data_clean['POLYLINE'][i][j][0] = data_clean['POLYLINE'][i][j][1]\n",
    "        data_clean['POLYLINE'][i][j][1] = tmp\n",
    "\n",
    "\n",
    "#we tokenize the trajectories from the POLYLINE column for every line of the dataframe\n",
    "data_clean['Tokenization_2'] =  data_clean\"\"\"\n",
    "\n",
    "\n"
   ]
  },
  {
   "cell_type": "code",
   "execution_count": 6,
   "metadata": {},
   "outputs": [],
   "source": [
    "liste_token=[]\n",
    "for i in range(len(data_clean['POLYLINE'])//4):\n",
    "    for j in range(len(data_clean['POLYLINE'][i])):\n",
    "        liste_token.append(h3.geo_to_h3(data_clean['POLYLINE'][i][j][1], data_clean['POLYLINE'][i][j][0], 10))"
   ]
  },
  {
   "cell_type": "code",
   "execution_count": 7,
   "metadata": {},
   "outputs": [
    {
     "data": {
      "text/plain": [
       "['8a39220f062ffff',\n",
       " '8a39220f062ffff',\n",
       " '8a39220f0627fff',\n",
       " '8a39220f0707fff',\n",
       " '8a39220f009ffff',\n",
       " '8a39220f0097fff',\n",
       " '8a39220f054ffff',\n",
       " '8a39220f0547fff',\n",
       " '8a39220f0cc7fff',\n",
       " '8a39220f0ceffff']"
      ]
     },
     "execution_count": 7,
     "metadata": {},
     "output_type": "execute_result"
    }
   ],
   "source": []
  },
  {
   "cell_type": "code",
   "execution_count": 8,
   "metadata": {},
   "outputs": [],
   "source": [
    "liste_token=list(set(liste_token))"
   ]
  },
  {
   "cell_type": "code",
   "execution_count": 14,
   "metadata": {},
   "outputs": [],
   "source": [
    "map_center = [41.157943, -8.629105] # Porto coordinates"
   ]
  },
  {
   "cell_type": "code",
   "execution_count": 11,
   "metadata": {},
   "outputs": [
    {
     "data": {
      "text/plain": [
       "35951"
      ]
     },
     "execution_count": 11,
     "metadata": {},
     "output_type": "execute_result"
    }
   ],
   "source": [
    "len(liste_token)\n"
   ]
  },
  {
   "cell_type": "code",
   "execution_count": 18,
   "metadata": {},
   "outputs": [],
   "source": [
    "h3_tokens=liste_token[:1000]"
   ]
  },
  {
   "cell_type": "code",
   "execution_count": 20,
   "metadata": {},
   "outputs": [
    {
     "data": {
      "text/plain": [
       "True"
      ]
     },
     "execution_count": 20,
     "metadata": {},
     "output_type": "execute_result"
    }
   ],
   "source": [
    "data_clean['Tokenization_2'][0]==data_clean['Tokenization'][0]"
   ]
  },
  {
   "cell_type": "code",
   "execution_count": 53,
   "metadata": {},
   "outputs": [],
   "source": [
    "#la tokenization n'est pas bonne car latitudes et longitudes sont inversées\n",
    "#on refait donc une tokenization dans une collone 'Tokenization_2' de la dataframe\n",
    "\n",
    "h3_tokens=[]\n",
    "for i in range(len(trajectory)):\n",
    "    h3_tokens.append(h3.geo_to_h3(trajectory[i][0], trajectory[i][1], 10))\n"
   ]
  },
  {
   "cell_type": "code",
   "execution_count": 9,
   "metadata": {},
   "outputs": [
    {
     "data": {
      "text/plain": [
       "['8a39220f062ffff',\n",
       " '8a39220f062ffff',\n",
       " '8a39220f0627fff',\n",
       " '8a39220f0707fff',\n",
       " '8a39220f009ffff',\n",
       " '8a39220f0097fff',\n",
       " '8a39220f054ffff',\n",
       " '8a39220f0547fff',\n",
       " '8a39220f0cc7fff',\n",
       " '8a39220f0ceffff',\n",
       " '8a39220f0c4ffff',\n",
       " '8a39220f0137fff',\n",
       " '8a39220f0137fff',\n",
       " '8a39220f0137fff',\n",
       " '8a39220f0127fff',\n",
       " '8a39220f0127fff',\n",
       " '8a39220f0897fff',\n",
       " '8a39220f0d4ffff',\n",
       " '8a39220f08a7fff',\n",
       " '8a39220f08a7fff',\n",
       " '8a39220f08a7fff',\n",
       " '8a39220f08a7fff',\n",
       " '8a39220f08a7fff']"
      ]
     },
     "execution_count": 9,
     "metadata": {},
     "output_type": "execute_result"
    }
   ],
   "source": [
    "h3_tokens"
   ]
  },
  {
   "cell_type": "code",
   "execution_count": 10,
   "metadata": {},
   "outputs": [
    {
     "data": {
      "text/plain": [
       "[41.141412, -8.618643]"
      ]
     },
     "execution_count": 10,
     "metadata": {},
     "output_type": "execute_result"
    }
   ],
   "source": [
    "map_center\n"
   ]
  },
  {
   "cell_type": "code",
   "execution_count": 60,
   "metadata": {},
   "outputs": [],
   "source": [
    "#we create the map\n",
    "m = folium.Map(location=trajectory[0], zoom_start=13)"
   ]
  },
  {
   "cell_type": "code",
   "execution_count": 61,
   "metadata": {},
   "outputs": [],
   "source": [
    "#we add the trajectory to the map\n",
    "folium.PolyLine(trajectory, color=\"red\", weight=2.5, opacity=1).add_to(m)\n",
    "#we add the points of the trajectory to the map\n",
    "for i in range(len(trajectory)):\n",
    "    folium.CircleMarker(trajectory[i], radius=1, color='blue', fill=True, fill_color='blue', fill_opacity=0.6).add_to(m)"
   ]
  },
  {
   "cell_type": "code",
   "execution_count": 41,
   "metadata": {},
   "outputs": [
    {
     "data": {
      "text/plain": [
       "([-8.618643, 41.141412], [(-8.619175456764575, 41.1415091594447)])"
      ]
     },
     "execution_count": 41,
     "metadata": {},
     "output_type": "execute_result"
    }
   ],
   "source": [
    "[data_clean['POLYLINE'][0][0][1],data_clean['POLYLINE'][0][0][0]], [h3.h3_to_geo(data_clean['Tokenization'][0][0])] #long, lat au lieu de lat, long"
   ]
  },
  {
   "cell_type": "code",
   "execution_count": 174,
   "metadata": {},
   "outputs": [
    {
     "data": {
      "text/plain": [
       "([41.141412, -8.618643], [(-8.619175456764575, 41.1415091594447)])"
      ]
     },
     "execution_count": 174,
     "metadata": {},
     "output_type": "execute_result"
    }
   ],
   "source": [
    "[data_clean['POLYLINE'][0][0][0],data_clean['POLYLINE'][0][0][1]],[h3.h3_to_geo(data_clean['Tokenization'][0][0])]\n",
    "#porto coordinates : 41.157943, -8.629105"
   ]
  },
  {
   "cell_type": "code",
   "execution_count": 59,
   "metadata": {},
   "outputs": [],
   "source": [
    "# Generate H3 hexagons at a specific resolution for each center\n",
    "hexagon_vertices = []\n",
    "resolution = 10\n",
    "for h3_token in h3_tokens:\n",
    "    hexagon_vertices.append(h3.h3_to_geo_boundary(h3_token))\n",
    "\n",
    "for i in range(len(hexagon_vertices)):   \n",
    "    folium.Polygon(locations=hexagon_vertices[i],color='green',fill=True,fill_color='green',fill_opacity=0.4).add_to(m)\n",
    "\n",
    "\n"
   ]
  },
  {
   "cell_type": "code",
   "execution_count": 63,
   "metadata": {},
   "outputs": [],
   "source": [
    "#we dispal the hexagons for the first trajectory\n",
    "hex_traj=[]\n",
    "h3_tokens=list(set(h3_tokens))\n",
    "for i in range(len(h3_tokens)):\n",
    "    hex_traj.append(h3.h3_to_geo_boundary(h3_tokens[i]))\n",
    "\n",
    "for i in range(len(hex_traj)):\n",
    "    folium.Polygon(locations=hex_traj[i],color='green',fill=True,fill_color='green',fill_opacity=0.4).add_to(m)"
   ]
  },
  {
   "cell_type": "code",
   "execution_count": 64,
   "metadata": {},
   "outputs": [
    {
     "data": {
      "text/html": [
       "<div style=\"width:100%;\"><div style=\"position:relative;width:100%;height:0;padding-bottom:60%;\"><span style=\"color:#565656\">Make this Notebook Trusted to load map: File -> Trust Notebook</span><iframe srcdoc=\"&lt;!DOCTYPE html&gt;\n",
       "&lt;html&gt;\n",
       "&lt;head&gt;\n",
       "    \n",
       "    &lt;meta http-equiv=&quot;content-type&quot; content=&quot;text/html; charset=UTF-8&quot; /&gt;\n",
       "    \n",
       "        &lt;script&gt;\n",
       "            L_NO_TOUCH = false;\n",
       "            L_DISABLE_3D = false;\n",
       "        &lt;/script&gt;\n",
       "    \n",
       "    &lt;style&gt;html, body {width: 100%;height: 100%;margin: 0;padding: 0;}&lt;/style&gt;\n",
       "    &lt;style&gt;#map {position:absolute;top:0;bottom:0;right:0;left:0;}&lt;/style&gt;\n",
       "    &lt;script src=&quot;https://cdn.jsdelivr.net/npm/leaflet@1.9.3/dist/leaflet.js&quot;&gt;&lt;/script&gt;\n",
       "    &lt;script src=&quot;https://code.jquery.com/jquery-1.12.4.min.js&quot;&gt;&lt;/script&gt;\n",
       "    &lt;script src=&quot;https://cdn.jsdelivr.net/npm/bootstrap@5.2.2/dist/js/bootstrap.bundle.min.js&quot;&gt;&lt;/script&gt;\n",
       "    &lt;script src=&quot;https://cdnjs.cloudflare.com/ajax/libs/Leaflet.awesome-markers/2.0.2/leaflet.awesome-markers.js&quot;&gt;&lt;/script&gt;\n",
       "    &lt;link rel=&quot;stylesheet&quot; href=&quot;https://cdn.jsdelivr.net/npm/leaflet@1.9.3/dist/leaflet.css&quot;/&gt;\n",
       "    &lt;link rel=&quot;stylesheet&quot; href=&quot;https://cdn.jsdelivr.net/npm/bootstrap@5.2.2/dist/css/bootstrap.min.css&quot;/&gt;\n",
       "    &lt;link rel=&quot;stylesheet&quot; href=&quot;https://netdna.bootstrapcdn.com/bootstrap/3.0.0/css/bootstrap.min.css&quot;/&gt;\n",
       "    &lt;link rel=&quot;stylesheet&quot; href=&quot;https://cdn.jsdelivr.net/npm/@fortawesome/fontawesome-free@6.2.0/css/all.min.css&quot;/&gt;\n",
       "    &lt;link rel=&quot;stylesheet&quot; href=&quot;https://cdnjs.cloudflare.com/ajax/libs/Leaflet.awesome-markers/2.0.2/leaflet.awesome-markers.css&quot;/&gt;\n",
       "    &lt;link rel=&quot;stylesheet&quot; href=&quot;https://cdn.jsdelivr.net/gh/python-visualization/folium/folium/templates/leaflet.awesome.rotate.min.css&quot;/&gt;\n",
       "    \n",
       "            &lt;meta name=&quot;viewport&quot; content=&quot;width=device-width,\n",
       "                initial-scale=1.0, maximum-scale=1.0, user-scalable=no&quot; /&gt;\n",
       "            &lt;style&gt;\n",
       "                #map_003b75c92c885659aabe2cb13c6367a9 {\n",
       "                    position: relative;\n",
       "                    width: 100.0%;\n",
       "                    height: 100.0%;\n",
       "                    left: 0.0%;\n",
       "                    top: 0.0%;\n",
       "                }\n",
       "                .leaflet-container { font-size: 1rem; }\n",
       "            &lt;/style&gt;\n",
       "        \n",
       "&lt;/head&gt;\n",
       "&lt;body&gt;\n",
       "    \n",
       "    \n",
       "            &lt;div class=&quot;folium-map&quot; id=&quot;map_003b75c92c885659aabe2cb13c6367a9&quot; &gt;&lt;/div&gt;\n",
       "        \n",
       "&lt;/body&gt;\n",
       "&lt;script&gt;\n",
       "    \n",
       "    \n",
       "            var map_003b75c92c885659aabe2cb13c6367a9 = L.map(\n",
       "                &quot;map_003b75c92c885659aabe2cb13c6367a9&quot;,\n",
       "                {\n",
       "                    center: [41.141412, -8.618643],\n",
       "                    crs: L.CRS.EPSG3857,\n",
       "                    zoom: 13,\n",
       "                    zoomControl: true,\n",
       "                    preferCanvas: false,\n",
       "                }\n",
       "            );\n",
       "\n",
       "            \n",
       "\n",
       "        \n",
       "    \n",
       "            var tile_layer_b01b3d5359470c02605b7e6d3bd6120c = L.tileLayer(\n",
       "                &quot;https://{s}.tile.openstreetmap.org/{z}/{x}/{y}.png&quot;,\n",
       "                {&quot;attribution&quot;: &quot;Data by \\u0026copy; \\u003ca target=\\&quot;_blank\\&quot; href=\\&quot;http://openstreetmap.org\\&quot;\\u003eOpenStreetMap\\u003c/a\\u003e, under \\u003ca target=\\&quot;_blank\\&quot; href=\\&quot;http://www.openstreetmap.org/copyright\\&quot;\\u003eODbL\\u003c/a\\u003e.&quot;, &quot;detectRetina&quot;: false, &quot;maxNativeZoom&quot;: 18, &quot;maxZoom&quot;: 18, &quot;minZoom&quot;: 0, &quot;noWrap&quot;: false, &quot;opacity&quot;: 1, &quot;subdomains&quot;: &quot;abc&quot;, &quot;tms&quot;: false}\n",
       "            ).addTo(map_003b75c92c885659aabe2cb13c6367a9);\n",
       "        \n",
       "    \n",
       "            var poly_line_ee7a2c36fef77684a70614a095ff7344 = L.polyline(\n",
       "                [[41.141412, -8.618643], [41.141376, -8.618499], [41.14251, -8.620326], [41.143815, -8.622153], [41.144373, -8.623953], [41.144778, -8.62668], [41.144697, -8.627373], [41.14521, -8.630226], [41.14692, -8.632746], [41.148225, -8.631738], [41.150385, -8.629938], [41.151213, -8.62911], [41.15124, -8.629128], [41.152203, -8.628786], [41.152374, -8.628687], [41.152518, -8.628759], [41.15268, -8.630838], [41.153022, -8.632323], [41.154489, -8.631144], [41.154507, -8.630829], [41.154516, -8.630829], [41.154498, -8.630829], [41.154489, -8.630838]],\n",
       "                {&quot;bubblingMouseEvents&quot;: true, &quot;color&quot;: &quot;red&quot;, &quot;dashArray&quot;: null, &quot;dashOffset&quot;: null, &quot;fill&quot;: false, &quot;fillColor&quot;: &quot;red&quot;, &quot;fillOpacity&quot;: 0.2, &quot;fillRule&quot;: &quot;evenodd&quot;, &quot;lineCap&quot;: &quot;round&quot;, &quot;lineJoin&quot;: &quot;round&quot;, &quot;noClip&quot;: false, &quot;opacity&quot;: 1, &quot;smoothFactor&quot;: 1.0, &quot;stroke&quot;: true, &quot;weight&quot;: 2.5}\n",
       "            ).addTo(map_003b75c92c885659aabe2cb13c6367a9);\n",
       "        \n",
       "    \n",
       "            var circle_marker_f03e04863a476798e3dfa359d388e475 = L.circleMarker(\n",
       "                [41.141412, -8.618643],\n",
       "                {&quot;bubblingMouseEvents&quot;: true, &quot;color&quot;: &quot;blue&quot;, &quot;dashArray&quot;: null, &quot;dashOffset&quot;: null, &quot;fill&quot;: true, &quot;fillColor&quot;: &quot;blue&quot;, &quot;fillOpacity&quot;: 0.6, &quot;fillRule&quot;: &quot;evenodd&quot;, &quot;lineCap&quot;: &quot;round&quot;, &quot;lineJoin&quot;: &quot;round&quot;, &quot;opacity&quot;: 1.0, &quot;radius&quot;: 1, &quot;stroke&quot;: true, &quot;weight&quot;: 3}\n",
       "            ).addTo(map_003b75c92c885659aabe2cb13c6367a9);\n",
       "        \n",
       "    \n",
       "            var circle_marker_b3b8368ba438e025a71faf286a2ab8cb = L.circleMarker(\n",
       "                [41.141376, -8.618499],\n",
       "                {&quot;bubblingMouseEvents&quot;: true, &quot;color&quot;: &quot;blue&quot;, &quot;dashArray&quot;: null, &quot;dashOffset&quot;: null, &quot;fill&quot;: true, &quot;fillColor&quot;: &quot;blue&quot;, &quot;fillOpacity&quot;: 0.6, &quot;fillRule&quot;: &quot;evenodd&quot;, &quot;lineCap&quot;: &quot;round&quot;, &quot;lineJoin&quot;: &quot;round&quot;, &quot;opacity&quot;: 1.0, &quot;radius&quot;: 1, &quot;stroke&quot;: true, &quot;weight&quot;: 3}\n",
       "            ).addTo(map_003b75c92c885659aabe2cb13c6367a9);\n",
       "        \n",
       "    \n",
       "            var circle_marker_8a56030d2ee21c09c76c9a93ba0aa668 = L.circleMarker(\n",
       "                [41.14251, -8.620326],\n",
       "                {&quot;bubblingMouseEvents&quot;: true, &quot;color&quot;: &quot;blue&quot;, &quot;dashArray&quot;: null, &quot;dashOffset&quot;: null, &quot;fill&quot;: true, &quot;fillColor&quot;: &quot;blue&quot;, &quot;fillOpacity&quot;: 0.6, &quot;fillRule&quot;: &quot;evenodd&quot;, &quot;lineCap&quot;: &quot;round&quot;, &quot;lineJoin&quot;: &quot;round&quot;, &quot;opacity&quot;: 1.0, &quot;radius&quot;: 1, &quot;stroke&quot;: true, &quot;weight&quot;: 3}\n",
       "            ).addTo(map_003b75c92c885659aabe2cb13c6367a9);\n",
       "        \n",
       "    \n",
       "            var circle_marker_8a979100f965aad926c708c7ba4e1f4d = L.circleMarker(\n",
       "                [41.143815, -8.622153],\n",
       "                {&quot;bubblingMouseEvents&quot;: true, &quot;color&quot;: &quot;blue&quot;, &quot;dashArray&quot;: null, &quot;dashOffset&quot;: null, &quot;fill&quot;: true, &quot;fillColor&quot;: &quot;blue&quot;, &quot;fillOpacity&quot;: 0.6, &quot;fillRule&quot;: &quot;evenodd&quot;, &quot;lineCap&quot;: &quot;round&quot;, &quot;lineJoin&quot;: &quot;round&quot;, &quot;opacity&quot;: 1.0, &quot;radius&quot;: 1, &quot;stroke&quot;: true, &quot;weight&quot;: 3}\n",
       "            ).addTo(map_003b75c92c885659aabe2cb13c6367a9);\n",
       "        \n",
       "    \n",
       "            var circle_marker_06c33b5928c86412d2260b5eaffc29de = L.circleMarker(\n",
       "                [41.144373, -8.623953],\n",
       "                {&quot;bubblingMouseEvents&quot;: true, &quot;color&quot;: &quot;blue&quot;, &quot;dashArray&quot;: null, &quot;dashOffset&quot;: null, &quot;fill&quot;: true, &quot;fillColor&quot;: &quot;blue&quot;, &quot;fillOpacity&quot;: 0.6, &quot;fillRule&quot;: &quot;evenodd&quot;, &quot;lineCap&quot;: &quot;round&quot;, &quot;lineJoin&quot;: &quot;round&quot;, &quot;opacity&quot;: 1.0, &quot;radius&quot;: 1, &quot;stroke&quot;: true, &quot;weight&quot;: 3}\n",
       "            ).addTo(map_003b75c92c885659aabe2cb13c6367a9);\n",
       "        \n",
       "    \n",
       "            var circle_marker_56f33b7080d7fdb6ec99fc634aae9184 = L.circleMarker(\n",
       "                [41.144778, -8.62668],\n",
       "                {&quot;bubblingMouseEvents&quot;: true, &quot;color&quot;: &quot;blue&quot;, &quot;dashArray&quot;: null, &quot;dashOffset&quot;: null, &quot;fill&quot;: true, &quot;fillColor&quot;: &quot;blue&quot;, &quot;fillOpacity&quot;: 0.6, &quot;fillRule&quot;: &quot;evenodd&quot;, &quot;lineCap&quot;: &quot;round&quot;, &quot;lineJoin&quot;: &quot;round&quot;, &quot;opacity&quot;: 1.0, &quot;radius&quot;: 1, &quot;stroke&quot;: true, &quot;weight&quot;: 3}\n",
       "            ).addTo(map_003b75c92c885659aabe2cb13c6367a9);\n",
       "        \n",
       "    \n",
       "            var circle_marker_81ffd489b400b44d78134fb01dfa0e47 = L.circleMarker(\n",
       "                [41.144697, -8.627373],\n",
       "                {&quot;bubblingMouseEvents&quot;: true, &quot;color&quot;: &quot;blue&quot;, &quot;dashArray&quot;: null, &quot;dashOffset&quot;: null, &quot;fill&quot;: true, &quot;fillColor&quot;: &quot;blue&quot;, &quot;fillOpacity&quot;: 0.6, &quot;fillRule&quot;: &quot;evenodd&quot;, &quot;lineCap&quot;: &quot;round&quot;, &quot;lineJoin&quot;: &quot;round&quot;, &quot;opacity&quot;: 1.0, &quot;radius&quot;: 1, &quot;stroke&quot;: true, &quot;weight&quot;: 3}\n",
       "            ).addTo(map_003b75c92c885659aabe2cb13c6367a9);\n",
       "        \n",
       "    \n",
       "            var circle_marker_3a1eebf0828d89c967893f49be0b798e = L.circleMarker(\n",
       "                [41.14521, -8.630226],\n",
       "                {&quot;bubblingMouseEvents&quot;: true, &quot;color&quot;: &quot;blue&quot;, &quot;dashArray&quot;: null, &quot;dashOffset&quot;: null, &quot;fill&quot;: true, &quot;fillColor&quot;: &quot;blue&quot;, &quot;fillOpacity&quot;: 0.6, &quot;fillRule&quot;: &quot;evenodd&quot;, &quot;lineCap&quot;: &quot;round&quot;, &quot;lineJoin&quot;: &quot;round&quot;, &quot;opacity&quot;: 1.0, &quot;radius&quot;: 1, &quot;stroke&quot;: true, &quot;weight&quot;: 3}\n",
       "            ).addTo(map_003b75c92c885659aabe2cb13c6367a9);\n",
       "        \n",
       "    \n",
       "            var circle_marker_bf9ac28ce8a7f911de9f03ebcd5a5348 = L.circleMarker(\n",
       "                [41.14692, -8.632746],\n",
       "                {&quot;bubblingMouseEvents&quot;: true, &quot;color&quot;: &quot;blue&quot;, &quot;dashArray&quot;: null, &quot;dashOffset&quot;: null, &quot;fill&quot;: true, &quot;fillColor&quot;: &quot;blue&quot;, &quot;fillOpacity&quot;: 0.6, &quot;fillRule&quot;: &quot;evenodd&quot;, &quot;lineCap&quot;: &quot;round&quot;, &quot;lineJoin&quot;: &quot;round&quot;, &quot;opacity&quot;: 1.0, &quot;radius&quot;: 1, &quot;stroke&quot;: true, &quot;weight&quot;: 3}\n",
       "            ).addTo(map_003b75c92c885659aabe2cb13c6367a9);\n",
       "        \n",
       "    \n",
       "            var circle_marker_afb0ea7b0024cf0886fdf1ab58123423 = L.circleMarker(\n",
       "                [41.148225, -8.631738],\n",
       "                {&quot;bubblingMouseEvents&quot;: true, &quot;color&quot;: &quot;blue&quot;, &quot;dashArray&quot;: null, &quot;dashOffset&quot;: null, &quot;fill&quot;: true, &quot;fillColor&quot;: &quot;blue&quot;, &quot;fillOpacity&quot;: 0.6, &quot;fillRule&quot;: &quot;evenodd&quot;, &quot;lineCap&quot;: &quot;round&quot;, &quot;lineJoin&quot;: &quot;round&quot;, &quot;opacity&quot;: 1.0, &quot;radius&quot;: 1, &quot;stroke&quot;: true, &quot;weight&quot;: 3}\n",
       "            ).addTo(map_003b75c92c885659aabe2cb13c6367a9);\n",
       "        \n",
       "    \n",
       "            var circle_marker_d822eed499790bb64bbdb0f3cd6c1f6a = L.circleMarker(\n",
       "                [41.150385, -8.629938],\n",
       "                {&quot;bubblingMouseEvents&quot;: true, &quot;color&quot;: &quot;blue&quot;, &quot;dashArray&quot;: null, &quot;dashOffset&quot;: null, &quot;fill&quot;: true, &quot;fillColor&quot;: &quot;blue&quot;, &quot;fillOpacity&quot;: 0.6, &quot;fillRule&quot;: &quot;evenodd&quot;, &quot;lineCap&quot;: &quot;round&quot;, &quot;lineJoin&quot;: &quot;round&quot;, &quot;opacity&quot;: 1.0, &quot;radius&quot;: 1, &quot;stroke&quot;: true, &quot;weight&quot;: 3}\n",
       "            ).addTo(map_003b75c92c885659aabe2cb13c6367a9);\n",
       "        \n",
       "    \n",
       "            var circle_marker_5184beb540a5150d49d8305632c1b984 = L.circleMarker(\n",
       "                [41.151213, -8.62911],\n",
       "                {&quot;bubblingMouseEvents&quot;: true, &quot;color&quot;: &quot;blue&quot;, &quot;dashArray&quot;: null, &quot;dashOffset&quot;: null, &quot;fill&quot;: true, &quot;fillColor&quot;: &quot;blue&quot;, &quot;fillOpacity&quot;: 0.6, &quot;fillRule&quot;: &quot;evenodd&quot;, &quot;lineCap&quot;: &quot;round&quot;, &quot;lineJoin&quot;: &quot;round&quot;, &quot;opacity&quot;: 1.0, &quot;radius&quot;: 1, &quot;stroke&quot;: true, &quot;weight&quot;: 3}\n",
       "            ).addTo(map_003b75c92c885659aabe2cb13c6367a9);\n",
       "        \n",
       "    \n",
       "            var circle_marker_e7b7b936f0276c9552cf3b89ee45c29c = L.circleMarker(\n",
       "                [41.15124, -8.629128],\n",
       "                {&quot;bubblingMouseEvents&quot;: true, &quot;color&quot;: &quot;blue&quot;, &quot;dashArray&quot;: null, &quot;dashOffset&quot;: null, &quot;fill&quot;: true, &quot;fillColor&quot;: &quot;blue&quot;, &quot;fillOpacity&quot;: 0.6, &quot;fillRule&quot;: &quot;evenodd&quot;, &quot;lineCap&quot;: &quot;round&quot;, &quot;lineJoin&quot;: &quot;round&quot;, &quot;opacity&quot;: 1.0, &quot;radius&quot;: 1, &quot;stroke&quot;: true, &quot;weight&quot;: 3}\n",
       "            ).addTo(map_003b75c92c885659aabe2cb13c6367a9);\n",
       "        \n",
       "    \n",
       "            var circle_marker_55d657bf99b2f643b13f6e93d6978f43 = L.circleMarker(\n",
       "                [41.152203, -8.628786],\n",
       "                {&quot;bubblingMouseEvents&quot;: true, &quot;color&quot;: &quot;blue&quot;, &quot;dashArray&quot;: null, &quot;dashOffset&quot;: null, &quot;fill&quot;: true, &quot;fillColor&quot;: &quot;blue&quot;, &quot;fillOpacity&quot;: 0.6, &quot;fillRule&quot;: &quot;evenodd&quot;, &quot;lineCap&quot;: &quot;round&quot;, &quot;lineJoin&quot;: &quot;round&quot;, &quot;opacity&quot;: 1.0, &quot;radius&quot;: 1, &quot;stroke&quot;: true, &quot;weight&quot;: 3}\n",
       "            ).addTo(map_003b75c92c885659aabe2cb13c6367a9);\n",
       "        \n",
       "    \n",
       "            var circle_marker_b0d095c58711e2aa16c655a0e343d27b = L.circleMarker(\n",
       "                [41.152374, -8.628687],\n",
       "                {&quot;bubblingMouseEvents&quot;: true, &quot;color&quot;: &quot;blue&quot;, &quot;dashArray&quot;: null, &quot;dashOffset&quot;: null, &quot;fill&quot;: true, &quot;fillColor&quot;: &quot;blue&quot;, &quot;fillOpacity&quot;: 0.6, &quot;fillRule&quot;: &quot;evenodd&quot;, &quot;lineCap&quot;: &quot;round&quot;, &quot;lineJoin&quot;: &quot;round&quot;, &quot;opacity&quot;: 1.0, &quot;radius&quot;: 1, &quot;stroke&quot;: true, &quot;weight&quot;: 3}\n",
       "            ).addTo(map_003b75c92c885659aabe2cb13c6367a9);\n",
       "        \n",
       "    \n",
       "            var circle_marker_409c521f8a228e8aa14331e9f7a07444 = L.circleMarker(\n",
       "                [41.152518, -8.628759],\n",
       "                {&quot;bubblingMouseEvents&quot;: true, &quot;color&quot;: &quot;blue&quot;, &quot;dashArray&quot;: null, &quot;dashOffset&quot;: null, &quot;fill&quot;: true, &quot;fillColor&quot;: &quot;blue&quot;, &quot;fillOpacity&quot;: 0.6, &quot;fillRule&quot;: &quot;evenodd&quot;, &quot;lineCap&quot;: &quot;round&quot;, &quot;lineJoin&quot;: &quot;round&quot;, &quot;opacity&quot;: 1.0, &quot;radius&quot;: 1, &quot;stroke&quot;: true, &quot;weight&quot;: 3}\n",
       "            ).addTo(map_003b75c92c885659aabe2cb13c6367a9);\n",
       "        \n",
       "    \n",
       "            var circle_marker_0e8d1c3ccb44eb3f1d7e42e17a8fc7a1 = L.circleMarker(\n",
       "                [41.15268, -8.630838],\n",
       "                {&quot;bubblingMouseEvents&quot;: true, &quot;color&quot;: &quot;blue&quot;, &quot;dashArray&quot;: null, &quot;dashOffset&quot;: null, &quot;fill&quot;: true, &quot;fillColor&quot;: &quot;blue&quot;, &quot;fillOpacity&quot;: 0.6, &quot;fillRule&quot;: &quot;evenodd&quot;, &quot;lineCap&quot;: &quot;round&quot;, &quot;lineJoin&quot;: &quot;round&quot;, &quot;opacity&quot;: 1.0, &quot;radius&quot;: 1, &quot;stroke&quot;: true, &quot;weight&quot;: 3}\n",
       "            ).addTo(map_003b75c92c885659aabe2cb13c6367a9);\n",
       "        \n",
       "    \n",
       "            var circle_marker_4fe593071887e7d58adc6f3f85fa6c52 = L.circleMarker(\n",
       "                [41.153022, -8.632323],\n",
       "                {&quot;bubblingMouseEvents&quot;: true, &quot;color&quot;: &quot;blue&quot;, &quot;dashArray&quot;: null, &quot;dashOffset&quot;: null, &quot;fill&quot;: true, &quot;fillColor&quot;: &quot;blue&quot;, &quot;fillOpacity&quot;: 0.6, &quot;fillRule&quot;: &quot;evenodd&quot;, &quot;lineCap&quot;: &quot;round&quot;, &quot;lineJoin&quot;: &quot;round&quot;, &quot;opacity&quot;: 1.0, &quot;radius&quot;: 1, &quot;stroke&quot;: true, &quot;weight&quot;: 3}\n",
       "            ).addTo(map_003b75c92c885659aabe2cb13c6367a9);\n",
       "        \n",
       "    \n",
       "            var circle_marker_6bc8213a66381d2a2704d99272ed6679 = L.circleMarker(\n",
       "                [41.154489, -8.631144],\n",
       "                {&quot;bubblingMouseEvents&quot;: true, &quot;color&quot;: &quot;blue&quot;, &quot;dashArray&quot;: null, &quot;dashOffset&quot;: null, &quot;fill&quot;: true, &quot;fillColor&quot;: &quot;blue&quot;, &quot;fillOpacity&quot;: 0.6, &quot;fillRule&quot;: &quot;evenodd&quot;, &quot;lineCap&quot;: &quot;round&quot;, &quot;lineJoin&quot;: &quot;round&quot;, &quot;opacity&quot;: 1.0, &quot;radius&quot;: 1, &quot;stroke&quot;: true, &quot;weight&quot;: 3}\n",
       "            ).addTo(map_003b75c92c885659aabe2cb13c6367a9);\n",
       "        \n",
       "    \n",
       "            var circle_marker_6bff6fee20ac16e8ab7b6c4002c4c05c = L.circleMarker(\n",
       "                [41.154507, -8.630829],\n",
       "                {&quot;bubblingMouseEvents&quot;: true, &quot;color&quot;: &quot;blue&quot;, &quot;dashArray&quot;: null, &quot;dashOffset&quot;: null, &quot;fill&quot;: true, &quot;fillColor&quot;: &quot;blue&quot;, &quot;fillOpacity&quot;: 0.6, &quot;fillRule&quot;: &quot;evenodd&quot;, &quot;lineCap&quot;: &quot;round&quot;, &quot;lineJoin&quot;: &quot;round&quot;, &quot;opacity&quot;: 1.0, &quot;radius&quot;: 1, &quot;stroke&quot;: true, &quot;weight&quot;: 3}\n",
       "            ).addTo(map_003b75c92c885659aabe2cb13c6367a9);\n",
       "        \n",
       "    \n",
       "            var circle_marker_881aefa1e1d92c1231e1524b6af73d83 = L.circleMarker(\n",
       "                [41.154516, -8.630829],\n",
       "                {&quot;bubblingMouseEvents&quot;: true, &quot;color&quot;: &quot;blue&quot;, &quot;dashArray&quot;: null, &quot;dashOffset&quot;: null, &quot;fill&quot;: true, &quot;fillColor&quot;: &quot;blue&quot;, &quot;fillOpacity&quot;: 0.6, &quot;fillRule&quot;: &quot;evenodd&quot;, &quot;lineCap&quot;: &quot;round&quot;, &quot;lineJoin&quot;: &quot;round&quot;, &quot;opacity&quot;: 1.0, &quot;radius&quot;: 1, &quot;stroke&quot;: true, &quot;weight&quot;: 3}\n",
       "            ).addTo(map_003b75c92c885659aabe2cb13c6367a9);\n",
       "        \n",
       "    \n",
       "            var circle_marker_73869679e6d07a9d1532fb730b2a535e = L.circleMarker(\n",
       "                [41.154498, -8.630829],\n",
       "                {&quot;bubblingMouseEvents&quot;: true, &quot;color&quot;: &quot;blue&quot;, &quot;dashArray&quot;: null, &quot;dashOffset&quot;: null, &quot;fill&quot;: true, &quot;fillColor&quot;: &quot;blue&quot;, &quot;fillOpacity&quot;: 0.6, &quot;fillRule&quot;: &quot;evenodd&quot;, &quot;lineCap&quot;: &quot;round&quot;, &quot;lineJoin&quot;: &quot;round&quot;, &quot;opacity&quot;: 1.0, &quot;radius&quot;: 1, &quot;stroke&quot;: true, &quot;weight&quot;: 3}\n",
       "            ).addTo(map_003b75c92c885659aabe2cb13c6367a9);\n",
       "        \n",
       "    \n",
       "            var circle_marker_a0a25cbaf7bc8bfa2fec0e96dbca24ca = L.circleMarker(\n",
       "                [41.154489, -8.630838],\n",
       "                {&quot;bubblingMouseEvents&quot;: true, &quot;color&quot;: &quot;blue&quot;, &quot;dashArray&quot;: null, &quot;dashOffset&quot;: null, &quot;fill&quot;: true, &quot;fillColor&quot;: &quot;blue&quot;, &quot;fillOpacity&quot;: 0.6, &quot;fillRule&quot;: &quot;evenodd&quot;, &quot;lineCap&quot;: &quot;round&quot;, &quot;lineJoin&quot;: &quot;round&quot;, &quot;opacity&quot;: 1.0, &quot;radius&quot;: 1, &quot;stroke&quot;: true, &quot;weight&quot;: 3}\n",
       "            ).addTo(map_003b75c92c885659aabe2cb13c6367a9);\n",
       "        \n",
       "    \n",
       "            var polygon_f4f2bc503a09834b324f74c3d444d34f = L.polygon(\n",
       "                [[41.151273157787436, -8.62972646823602], [41.15097844073406, -8.630570611154898], [41.15025978187023, -8.630645138458263], [41.149835844604276, -8.629875537641933], [41.15013056024424, -8.629031408921598], [41.15084921456352, -8.628956866819204]],\n",
       "                {&quot;bubblingMouseEvents&quot;: true, &quot;color&quot;: &quot;green&quot;, &quot;dashArray&quot;: null, &quot;dashOffset&quot;: null, &quot;fill&quot;: true, &quot;fillColor&quot;: &quot;green&quot;, &quot;fillOpacity&quot;: 0.4, &quot;fillRule&quot;: &quot;evenodd&quot;, &quot;lineCap&quot;: &quot;round&quot;, &quot;lineJoin&quot;: &quot;round&quot;, &quot;noClip&quot;: false, &quot;opacity&quot;: 1.0, &quot;smoothFactor&quot;: 1.0, &quot;stroke&quot;: true, &quot;weight&quot;: 3}\n",
       "            ).addTo(map_003b75c92c885659aabe2cb13c6367a9);\n",
       "        \n",
       "    \n",
       "            var polygon_63cad8c70be9075103d8ae8f518a663a = L.polygon(\n",
       "                [[41.14556013690854, -8.626251419141175], [41.14526542692067, -8.62709549106959], [41.14454676330139, -8.627170044746508], [41.14412281421574, -8.626400541290804], [41.14441752279101, -8.625556483559784], [41.145136181864494, -8.62548191508721]],\n",
       "                {&quot;bubblingMouseEvents&quot;: true, &quot;color&quot;: &quot;green&quot;, &quot;dashArray&quot;: null, &quot;dashOffset&quot;: null, &quot;fill&quot;: true, &quot;fillColor&quot;: &quot;green&quot;, &quot;fillOpacity&quot;: 0.4, &quot;fillRule&quot;: &quot;evenodd&quot;, &quot;lineCap&quot;: &quot;round&quot;, &quot;lineJoin&quot;: &quot;round&quot;, &quot;noClip&quot;: false, &quot;opacity&quot;: 1.0, &quot;smoothFactor&quot;: 1.0, &quot;stroke&quot;: true, &quot;weight&quot;: 3}\n",
       "            ).addTo(map_003b75c92c885659aabe2cb13c6367a9);\n",
       "        \n",
       "    \n",
       "            var polygon_20ffe780dc0c07840efea475b3d2b12f = L.polygon(\n",
       "                [[41.15355834291501, -8.631116661115849], [41.15326362303432, -8.63196083243249], [41.152544966077095, -8.632035349183338], [41.152121033544546, -8.631265709418049], [41.15241575201151, -8.630421552300387], [41.153134404424684, -8.630347020749177]],\n",
       "                {&quot;bubblingMouseEvents&quot;: true, &quot;color&quot;: &quot;green&quot;, &quot;dashArray&quot;: null, &quot;dashOffset&quot;: null, &quot;fill&quot;: true, &quot;fillColor&quot;: &quot;green&quot;, &quot;fillOpacity&quot;: 0.4, &quot;fillRule&quot;: &quot;evenodd&quot;, &quot;lineCap&quot;: &quot;round&quot;, &quot;lineJoin&quot;: &quot;round&quot;, &quot;noClip&quot;: false, &quot;opacity&quot;: 1.0, &quot;smoothFactor&quot;: 1.0, &quot;stroke&quot;: true, &quot;weight&quot;: 3}\n",
       "            ).addTo(map_003b75c92c885659aabe2cb13c6367a9);\n",
       "        \n",
       "    \n",
       "            var polygon_be3a4334d4ccba74bec760d9a44b5f49 = L.polygon(\n",
       "                [[41.152286516751914, -8.628807778365854], [41.15199181115397, -8.629651931408997], [41.151273157787436, -8.62972646823602], [41.15084921456352, -8.628956866819204], [41.15114391874833, -8.628112727975285], [41.15186256757013, -8.628038176349111]],\n",
       "                {&quot;bubblingMouseEvents&quot;: true, &quot;color&quot;: &quot;green&quot;, &quot;dashArray&quot;: null, &quot;dashOffset&quot;: null, &quot;fill&quot;: true, &quot;fillColor&quot;: &quot;green&quot;, &quot;fillOpacity&quot;: 0.4, &quot;fillRule&quot;: &quot;evenodd&quot;, &quot;lineCap&quot;: &quot;round&quot;, &quot;lineJoin&quot;: &quot;round&quot;, &quot;noClip&quot;: false, &quot;opacity&quot;: 1.0, &quot;smoothFactor&quot;: 1.0, &quot;stroke&quot;: true, &quot;weight&quot;: 3}\n",
       "            ).addTo(map_003b75c92c885659aabe2cb13c6367a9);\n",
       "        \n",
       "    \n",
       "            var polygon_e0630b5697a2ad1e65d5dca3c428c39d = L.polygon(\n",
       "                [[41.14275771638786, -8.618407692165945], [41.142463060684925, -8.619251719379678], [41.14174441335565, -8.619326342776906], [41.14132042627737, -8.618556953752673], [41.141615080569856, -8.617712940737661], [41.14233372335105, -8.617638302548304]],\n",
       "                {&quot;bubblingMouseEvents&quot;: true, &quot;color&quot;: &quot;green&quot;, &quot;dashArray&quot;: null, &quot;dashOffset&quot;: null, &quot;fill&quot;: true, &quot;fillColor&quot;: &quot;green&quot;, &quot;fillOpacity&quot;: 0.4, &quot;fillRule&quot;: &quot;evenodd&quot;, &quot;lineCap&quot;: &quot;round&quot;, &quot;lineJoin&quot;: &quot;round&quot;, &quot;noClip&quot;: false, &quot;opacity&quot;: 1.0, &quot;smoothFactor&quot;: 1.0, &quot;stroke&quot;: true, &quot;weight&quot;: 3}\n",
       "            ).addTo(map_003b75c92c885659aabe2cb13c6367a9);\n",
       "        \n",
       "    \n",
       "            var polygon_d27867a7378a1212b75f26cb00135b33 = L.polygon(\n",
       "                [[41.15368755319896, -8.632730491673275], [41.153392820448516, -8.633574667062696], [41.15267415894768, -8.63364916901262], [41.15225023474083, -8.632879510374206], [41.152544966077095, -8.632035349183338], [41.15326362303432, -8.63196083243249]],\n",
       "                {&quot;bubblingMouseEvents&quot;: true, &quot;color&quot;: &quot;green&quot;, &quot;dashArray&quot;: null, &quot;dashOffset&quot;: null, &quot;fill&quot;: true, &quot;fillColor&quot;: &quot;green&quot;, &quot;fillOpacity&quot;: 0.4, &quot;fillRule&quot;: &quot;evenodd&quot;, &quot;lineCap&quot;: &quot;round&quot;, &quot;lineJoin&quot;: &quot;round&quot;, &quot;noClip&quot;: false, &quot;opacity&quot;: 1.0, &quot;smoothFactor&quot;: 1.0, &quot;stroke&quot;: true, &quot;weight&quot;: 3}\n",
       "            ).addTo(map_003b75c92c885659aabe2cb13c6367a9);\n",
       "        \n",
       "    \n",
       "            var polygon_4190b5796f81646ce06f781eb89fa17b = L.polygon(\n",
       "                [[41.149246389001384, -8.631563789032766], [41.14895164903859, -8.63240791170255], [41.148232979181955, -8.632482419959674], [41.14780905383222, -8.631712820345923], [41.148103792381015, -8.630868711873353], [41.14882245769349, -8.63079418881746]],\n",
       "                {&quot;bubblingMouseEvents&quot;: true, &quot;color&quot;: &quot;green&quot;, &quot;dashArray&quot;: null, &quot;dashOffset&quot;: null, &quot;fill&quot;: true, &quot;fillColor&quot;: &quot;green&quot;, &quot;fillOpacity&quot;: 0.4, &quot;fillRule&quot;: &quot;evenodd&quot;, &quot;lineCap&quot;: &quot;round&quot;, &quot;lineJoin&quot;: &quot;round&quot;, &quot;noClip&quot;: false, &quot;opacity&quot;: 1.0, &quot;smoothFactor&quot;: 1.0, &quot;stroke&quot;: true, &quot;weight&quot;: 3}\n",
       "            ).addTo(map_003b75c92c885659aabe2cb13c6367a9);\n",
       "        \n",
       "    \n",
       "            var polygon_efad86c66db0d1cb37948769664e15ac = L.polygon(\n",
       "                [[41.14568937364397, -8.627865013996084], [41.14539465078954, -8.628709090000372], [41.144675982624946, -8.628783628881068], [41.14425204186005, -8.628014106553834], [41.14454676330139, -8.627170044746508], [41.14526542692067, -8.62709549106959]],\n",
       "                {&quot;bubblingMouseEvents&quot;: true, &quot;color&quot;: &quot;green&quot;, &quot;dashArray&quot;: null, &quot;dashOffset&quot;: null, &quot;fill&quot;: true, &quot;fillColor&quot;: &quot;green&quot;, &quot;fillOpacity&quot;: 0.4, &quot;fillRule&quot;: &quot;evenodd&quot;, &quot;lineCap&quot;: &quot;round&quot;, &quot;lineJoin&quot;: &quot;round&quot;, &quot;noClip&quot;: false, &quot;opacity&quot;: 1.0, &quot;smoothFactor&quot;: 1.0, &quot;stroke&quot;: true, &quot;weight&quot;: 3}\n",
       "            ).addTo(map_003b75c92c885659aabe2cb13c6367a9);\n",
       "        \n",
       "    \n",
       "            var polygon_7c50506de0d97ff334c0925241a6381c = L.polygon(\n",
       "                [[41.14581858919138, -8.629478631798623], [41.145523853470124, -8.630322711877469], [41.14480518076064, -8.6303972359614], [41.14438124831723, -8.6296276947634], [41.144675982624946, -8.628783628881068], [41.14539465078954, -8.628709090000372]],\n",
       "                {&quot;bubblingMouseEvents&quot;: true, &quot;color&quot;: &quot;green&quot;, &quot;dashArray&quot;: null, &quot;dashOffset&quot;: null, &quot;fill&quot;: true, &quot;fillColor&quot;: &quot;green&quot;, &quot;fillOpacity&quot;: 0.4, &quot;fillRule&quot;: &quot;evenodd&quot;, &quot;lineCap&quot;: &quot;round&quot;, &quot;lineJoin&quot;: &quot;round&quot;, &quot;noClip&quot;: false, &quot;opacity&quot;: 1.0, &quot;smoothFactor&quot;: 1.0, &quot;stroke&quot;: true, &quot;weight&quot;: 3}\n",
       "            ).addTo(map_003b75c92c885659aabe2cb13c6367a9);\n",
       "        \n",
       "    \n",
       "            var polygon_4821631b5c4997622d04d33cd3521994 = L.polygon(\n",
       "                [[41.14415897821357, -8.622329430038173], [41.14386429536969, -8.623173479612644], [41.143145639893724, -8.623248068152357], [41.142721671808516, -8.622478621911672], [41.14301635324087, -8.621634586535261], [41.143735004169905, -8.621559983201639]],\n",
       "                {&quot;bubblingMouseEvents&quot;: true, &quot;color&quot;: &quot;green&quot;, &quot;dashArray&quot;: null, &quot;dashOffset&quot;: null, &quot;fill&quot;: true, &quot;fillColor&quot;: &quot;green&quot;, &quot;fillOpacity&quot;: 0.4, &quot;fillRule&quot;: &quot;evenodd&quot;, &quot;lineCap&quot;: &quot;round&quot;, &quot;lineJoin&quot;: &quot;round&quot;, &quot;noClip&quot;: false, &quot;opacity&quot;: 1.0, &quot;smoothFactor&quot;: 1.0, &quot;stroke&quot;: true, &quot;weight&quot;: 3}\n",
       "            ).addTo(map_003b75c92c885659aabe2cb13c6367a9);\n",
       "        \n",
       "    \n",
       "            var polygon_ccded55a354eecc4e5869a639f277631 = L.polygon(\n",
       "                [[41.15329985876261, -8.627889068847619], [41.15300516462059, -8.62873323201483], [41.152286516751914, -8.628807778365854], [41.15186256757013, -8.628038176349111], [41.152157260299305, -8.627194027381801], [41.152875903623055, -8.62711946623149]],\n",
       "                {&quot;bubblingMouseEvents&quot;: true, &quot;color&quot;: &quot;green&quot;, &quot;dashArray&quot;: null, &quot;dashOffset&quot;: null, &quot;fill&quot;: true, &quot;fillColor&quot;: &quot;green&quot;, &quot;fillOpacity&quot;: 0.4, &quot;fillRule&quot;: &quot;evenodd&quot;, &quot;lineCap&quot;: &quot;round&quot;, &quot;lineJoin&quot;: &quot;round&quot;, &quot;noClip&quot;: false, &quot;opacity&quot;: 1.0, &quot;smoothFactor&quot;: 1.0, &quot;stroke&quot;: true, &quot;weight&quot;: 3}\n",
       "            ).addTo(map_003b75c92c885659aabe2cb13c6367a9);\n",
       "        \n",
       "    \n",
       "            var polygon_f24f8f7ed8231d86d5be1f9c395e93be = L.polygon(\n",
       "                [[41.14288704540526, -8.620021127872429], [41.14259237683773, -8.62086515916815], [41.141873724960874, -8.620939767772697], [41.14144974619907, -8.620170359874342], [41.14174441335565, -8.619326342776906], [41.142463060684925, -8.619251719379678]],\n",
       "                {&quot;bubblingMouseEvents&quot;: true, &quot;color&quot;: &quot;green&quot;, &quot;dashArray&quot;: null, &quot;dashOffset&quot;: null, &quot;fill&quot;: true, &quot;fillColor&quot;: &quot;green&quot;, &quot;fillOpacity&quot;: 0.4, &quot;fillRule&quot;: &quot;evenodd&quot;, &quot;lineCap&quot;: &quot;round&quot;, &quot;lineJoin&quot;: &quot;round&quot;, &quot;noClip&quot;: false, &quot;opacity&quot;: 1.0, &quot;smoothFactor&quot;: 1.0, &quot;stroke&quot;: true, &quot;weight&quot;: 3}\n",
       "            ).addTo(map_003b75c92c885659aabe2cb13c6367a9);\n",
       "        \n",
       "    \n",
       "            var polygon_af4990fc5fd001168829f4145c9db383 = L.polygon(\n",
       "                [[41.14543087898609, -8.624637847235965], [41.145136181864494, -8.62548191508721], [41.14441752279101, -8.625556483559784], [41.14399356538529, -8.624786998976385], [41.14428826109473, -8.62394294532299], [41.145006915622, -8.623868362055294]],\n",
       "                {&quot;bubblingMouseEvents&quot;: true, &quot;color&quot;: &quot;green&quot;, &quot;dashArray&quot;: null, &quot;dashOffset&quot;: null, &quot;fill&quot;: true, &quot;fillColor&quot;: &quot;green&quot;, &quot;fillOpacity&quot;: 0.4, &quot;fillRule&quot;: &quot;evenodd&quot;, &quot;lineCap&quot;: &quot;round&quot;, &quot;lineJoin&quot;: &quot;round&quot;, &quot;noClip&quot;: false, &quot;opacity&quot;: 1.0, &quot;smoothFactor&quot;: 1.0, &quot;stroke&quot;: true, &quot;weight&quot;: 3}\n",
       "            ).addTo(map_003b75c92c885659aabe2cb13c6367a9);\n",
       "        \n",
       "    \n",
       "            var polygon_187bb6b6ac5bca4a1725f973b74080b7 = L.polygon(\n",
       "                [[41.148232979181955, -8.632482419959674], [41.147938227765174, -8.63332653250461], [41.14721955241301, -8.63340103123913], [41.14679563302153, -8.632631432227512], [41.147090383024, -8.631787333879092], [41.14780905383222, -8.631712820345923]],\n",
       "                {&quot;bubblingMouseEvents&quot;: true, &quot;color&quot;: &quot;green&quot;, &quot;dashArray&quot;: null, &quot;dashOffset&quot;: null, &quot;fill&quot;: true, &quot;fillColor&quot;: &quot;green&quot;, &quot;fillOpacity&quot;: 0.4, &quot;fillRule&quot;: &quot;evenodd&quot;, &quot;lineCap&quot;: &quot;round&quot;, &quot;lineJoin&quot;: &quot;round&quot;, &quot;noClip&quot;: false, &quot;opacity&quot;: 1.0, &quot;smoothFactor&quot;: 1.0, &quot;stroke&quot;: true, &quot;weight&quot;: 3}\n",
       "            ).addTo(map_003b75c92c885659aabe2cb13c6367a9);\n",
       "        \n",
       "    \n",
       "            var polygon_27a99a60052f9085b762e2a83d71cbf6 = L.polygon(\n",
       "                [[41.15571429083937, -8.630893078043082], [41.1554195810011, -8.631737273685234], [41.154700930496546, -8.63181179468348], [41.1542769943742, -8.631042134840886], [41.154571702798854, -8.630197953398644], [41.15529034875942, -8.630123417599219]],\n",
       "                {&quot;bubblingMouseEvents&quot;: true, &quot;color&quot;: &quot;green&quot;, &quot;dashArray&quot;: null, &quot;dashOffset&quot;: null, &quot;fill&quot;: true, &quot;fillColor&quot;: &quot;green&quot;, &quot;fillOpacity&quot;: 0.4, &quot;fillRule&quot;: &quot;evenodd&quot;, &quot;lineCap&quot;: &quot;round&quot;, &quot;lineJoin&quot;: &quot;round&quot;, &quot;noClip&quot;: false, &quot;opacity&quot;: 1.0, &quot;smoothFactor&quot;: 1.0, &quot;stroke&quot;: true, &quot;weight&quot;: 3}\n",
       "            ).addTo(map_003b75c92c885659aabe2cb13c6367a9);\n",
       "        \n",
       "&lt;/script&gt;\n",
       "&lt;/html&gt;\" style=\"position:absolute;width:100%;height:100%;left:0;top:0;border:none !important;\" allowfullscreen webkitallowfullscreen mozallowfullscreen></iframe></div></div>"
      ],
      "text/plain": [
       "<folium.folium.Map at 0x151f372f730>"
      ]
     },
     "execution_count": 64,
     "metadata": {},
     "output_type": "execute_result"
    }
   ],
   "source": [
    "#display the map\n",
    "m"
   ]
  },
  {
   "cell_type": "code",
   "execution_count": 27,
   "metadata": {},
   "outputs": [
    {
     "name": "stdout",
     "output_type": "stream",
     "text": [
      "<class 'pandas.core.frame.DataFrame'>\n",
      "Index: 418870 entries, 0 to 427666\n",
      "Data columns (total 11 columns):\n",
      " #   Column        Non-Null Count   Dtype  \n",
      "---  ------        --------------   -----  \n",
      " 0   TRIP_ID       418870 non-null  int64  \n",
      " 1   CALL_TYPE     418870 non-null  object \n",
      " 2   ORIGIN_CALL   88360 non-null   float64\n",
      " 3   ORIGIN_STAND  208787 non-null  float64\n",
      " 4   TAXI_ID       418870 non-null  int64  \n",
      " 5   TIMESTAMP     418870 non-null  int64  \n",
      " 6   DAY_TYPE      418870 non-null  object \n",
      " 7   MISSING_DATA  418870 non-null  bool   \n",
      " 8   POLYLINE      418870 non-null  object \n",
      " 9   Tokenization  418870 non-null  object \n",
      " 10  Nb_points     418870 non-null  int64  \n",
      "dtypes: bool(1), float64(2), int64(4), object(4)\n",
      "memory usage: 35.6+ MB\n"
     ]
    }
   ],
   "source": [
    "data_clean.info()\n"
   ]
  },
  {
   "cell_type": "code",
   "execution_count": 28,
   "metadata": {},
   "outputs": [
    {
     "data": {
      "text/plain": [
       "[[41.141412, -8.618643],\n",
       " [41.141376, -8.618499],\n",
       " [41.14251, -8.620326],\n",
       " [41.143815, -8.622153],\n",
       " [41.144373, -8.623953],\n",
       " [41.144778, -8.62668],\n",
       " [41.144697, -8.627373],\n",
       " [41.14521, -8.630226],\n",
       " [41.14692, -8.632746],\n",
       " [41.148225, -8.631738],\n",
       " [41.150385, -8.629938],\n",
       " [41.151213, -8.62911],\n",
       " [41.15124, -8.629128],\n",
       " [41.152203, -8.628786],\n",
       " [41.152374, -8.628687],\n",
       " [41.152518, -8.628759],\n",
       " [41.15268, -8.630838],\n",
       " [41.153022, -8.632323],\n",
       " [41.154489, -8.631144],\n",
       " [41.154507, -8.630829],\n",
       " [41.154516, -8.630829],\n",
       " [41.154498, -8.630829],\n",
       " [41.154489, -8.630838]]"
      ]
     },
     "execution_count": 28,
     "metadata": {},
     "output_type": "execute_result"
    }
   ],
   "source": [
    "data_clean['POLYLINE'][0]"
   ]
  },
  {
   "cell_type": "code",
   "execution_count": null,
   "metadata": {},
   "outputs": [],
   "source": []
  }
 ],
 "metadata": {
  "kernelspec": {
   "display_name": "new_env",
   "language": "python",
   "name": "python3"
  },
  "language_info": {
   "codemirror_mode": {
    "name": "ipython",
    "version": 3
   },
   "file_extension": ".py",
   "mimetype": "text/x-python",
   "name": "python",
   "nbconvert_exporter": "python",
   "pygments_lexer": "ipython3",
   "version": "3.10.6"
  },
  "orig_nbformat": 4
 },
 "nbformat": 4,
 "nbformat_minor": 2
}
