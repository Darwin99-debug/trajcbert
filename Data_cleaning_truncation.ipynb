{
 "cells": [
  {
   "cell_type": "markdown",
   "id": "c61bc518",
   "metadata": {},
   "source": [
    "# Imports"
   ]
  },
  {
   "cell_type": "code",
   "execution_count": 1,
   "id": "c23ed4e9",
   "metadata": {},
   "outputs": [
    {
     "name": "stdout",
     "output_type": "stream",
     "text": [
      "Defaulting to user installation because normal site-packages is not writeable\n",
      "Requirement already satisfied: pandas in c:\\programdata\\anaconda3\\lib\\site-packages (1.4.2)\n",
      "Requirement already satisfied: python-dateutil>=2.8.1 in c:\\programdata\\anaconda3\\lib\\site-packages (from pandas) (2.8.2)\n",
      "Requirement already satisfied: pytz>=2020.1 in c:\\programdata\\anaconda3\\lib\\site-packages (from pandas) (2021.3)\n",
      "Requirement already satisfied: numpy>=1.18.5 in c:\\programdata\\anaconda3\\lib\\site-packages (from pandas) (1.21.5)\n",
      "Requirement already satisfied: six>=1.5 in c:\\programdata\\anaconda3\\lib\\site-packages (from python-dateutil>=2.8.1->pandas) (1.16.0)\n"
     ]
    }
   ],
   "source": [
    "!pip install pandas\n",
    "import numpy as np\n",
    "import pandas as pd\n",
    "from numpy import genfromtxt\n",
    "import matplotlib.pyplot as plt\n",
    "import ast\n",
    "import json"
   ]
  },
  {
   "cell_type": "code",
   "execution_count": 2,
   "id": "0aaa80c9",
   "metadata": {},
   "outputs": [
    {
     "data": {
      "text/plain": [
       "4"
      ]
     },
     "execution_count": 2,
     "metadata": {},
     "output_type": "execute_result"
    }
   ],
   "source": [
    "import gc \n",
    "gc.collect()"
   ]
  },
  {
   "cell_type": "code",
   "execution_count": 4,
   "id": "48b23c9e",
   "metadata": {},
   "outputs": [],
   "source": [
    "import statistics as stat"
   ]
  },
  {
   "cell_type": "markdown",
   "id": "1df280d9",
   "metadata": {},
   "source": [
    "# Chargement des données"
   ]
  },
  {
   "cell_type": "markdown",
   "id": "9cdee31d",
   "metadata": {},
   "source": [
    "Ici pour l'instant on teste sur une version raccourcie du jeu de données sinon c'est trop long. "
   ]
  },
  {
   "cell_type": "code",
   "execution_count": 3,
   "id": "4d3dd7ff",
   "metadata": {},
   "outputs": [
    {
     "name": "stdout",
     "output_type": "stream",
     "text": [
      "<class 'dict'>\n"
     ]
    }
   ],
   "source": [
    "# Opening JSON file small version\n",
    "#with open('train_porto_tokenized_small_1st_partV2.json', 'r') as openfile:\n",
    "# Opening JSON file full version\n",
    "with open('train_porto_tokenized.json', 'r') as openfile:\n",
    "\n",
    " \n",
    "    # Reading from json file\n",
    "    json_loaded = json.load(openfile)\n",
    " \n",
    "# print(json_loaded)\n",
    "print(type(json_loaded))"
   ]
  },
  {
   "cell_type": "markdown",
   "id": "9f3e4c1a",
   "metadata": {},
   "source": [
    "On met en dataframe les données chargées."
   ]
  },
  {
   "cell_type": "code",
   "execution_count": 5,
   "id": "a79d98a9",
   "metadata": {},
   "outputs": [],
   "source": [
    "data_loaded = pd.DataFrame(data=json_loaded)"
   ]
  },
  {
   "cell_type": "markdown",
   "id": "54a238a9",
   "metadata": {},
   "source": [
    "On vérifie la tête de nos données et leur type :"
   ]
  },
  {
   "cell_type": "code",
   "execution_count": 6,
   "id": "0e4c8706",
   "metadata": {},
   "outputs": [
    {
     "name": "stdout",
     "output_type": "stream",
     "text": [
      "<class 'pandas.core.frame.DataFrame'>\n",
      "Index: 1710670 entries, 0 to 1710669\n",
      "Data columns (total 10 columns):\n",
      " #   Column        Dtype  \n",
      "---  ------        -----  \n",
      " 0   TRIP_ID       int64  \n",
      " 1   CALL_TYPE     object \n",
      " 2   ORIGIN_CALL   float64\n",
      " 3   ORIGIN_STAND  float64\n",
      " 4   TAXI_ID       int64  \n",
      " 5   TIMESTAMP     int64  \n",
      " 6   DAY_TYPE      object \n",
      " 7   MISSING_DATA  bool   \n",
      " 8   POLYLINE      object \n",
      " 9   Tokenization  object \n",
      "dtypes: bool(1), float64(2), int64(3), object(4)\n",
      "memory usage: 132.1+ MB\n"
     ]
    }
   ],
   "source": [
    "data_loaded.info()"
   ]
  },
  {
   "cell_type": "code",
   "execution_count": 7,
   "id": "c1bcc8d1",
   "metadata": {},
   "outputs": [
    {
     "data": {
      "text/plain": [
       "(pandas.core.series.Series,\n",
       " 0          [[-8.618643, 41.141412], [-8.618499, 41.141376...\n",
       " 1          [[-8.639847, 41.159826], [-8.640351, 41.159871...\n",
       " 2          [[-8.612964, 41.140359], [-8.613378, 41.14035]...\n",
       " 3          [[-8.574678, 41.151951], [-8.574705, 41.151942...\n",
       " 4          [[-8.645994, 41.18049], [-8.645949, 41.180517]...\n",
       "                                  ...                        \n",
       " 1710665    [[-8.612469, 41.14602], [-8.612487, 41.145993]...\n",
       " 1710666    [[-8.610138, 41.140845], [-8.610174, 41.140935...\n",
       " 1710667                                                   []\n",
       " 1710668    [[-8.630712, 41.154885], [-8.63073, 41.154813]...\n",
       " 1710669    [[-8.615538, 41.140629], [-8.615421, 41.140746...\n",
       " Name: POLYLINE, Length: 1710670, dtype: object)"
      ]
     },
     "execution_count": 7,
     "metadata": {},
     "output_type": "execute_result"
    }
   ],
   "source": [
    "#type(data_loaded['POLYLINE']), data_loaded['POLYLINE']"
   ]
  },
  {
   "cell_type": "code",
   "execution_count": 8,
   "id": "856dcf3c",
   "metadata": {},
   "outputs": [
    {
     "data": {
      "text/plain": [
       "(list,\n",
       " [[-8.618643, 41.141412],\n",
       "  [-8.618499, 41.141376],\n",
       "  [-8.620326, 41.14251],\n",
       "  [-8.622153, 41.143815],\n",
       "  [-8.623953, 41.144373],\n",
       "  [-8.62668, 41.144778],\n",
       "  [-8.627373, 41.144697],\n",
       "  [-8.630226, 41.14521],\n",
       "  [-8.632746, 41.14692],\n",
       "  [-8.631738, 41.148225],\n",
       "  [-8.629938, 41.150385],\n",
       "  [-8.62911, 41.151213],\n",
       "  [-8.629128, 41.15124],\n",
       "  [-8.628786, 41.152203],\n",
       "  [-8.628687, 41.152374],\n",
       "  [-8.628759, 41.152518],\n",
       "  [-8.630838, 41.15268],\n",
       "  [-8.632323, 41.153022],\n",
       "  [-8.631144, 41.154489],\n",
       "  [-8.630829, 41.154507],\n",
       "  [-8.630829, 41.154516],\n",
       "  [-8.630829, 41.154498],\n",
       "  [-8.630838, 41.154489]])"
      ]
     },
     "execution_count": 8,
     "metadata": {},
     "output_type": "execute_result"
    }
   ],
   "source": [
    "#type(data_loaded['POLYLINE'][0]), data_loaded['POLYLINE'][0] "
   ]
  },
  {
   "cell_type": "code",
   "execution_count": 9,
   "id": "46d5fb16",
   "metadata": {},
   "outputs": [
    {
     "data": {
      "text/plain": [
       "(list, [-8.618643, 41.141412])"
      ]
     },
     "execution_count": 9,
     "metadata": {},
     "output_type": "execute_result"
    }
   ],
   "source": [
    "#type(data_loaded['POLYLINE'][0][0] ), data_loaded['POLYLINE'][0][0]  "
   ]
  },
  {
   "cell_type": "code",
   "execution_count": 10,
   "id": "cae6ea5c",
   "metadata": {},
   "outputs": [
    {
     "data": {
      "text/plain": [
       "(float, -8.618643)"
      ]
     },
     "execution_count": 10,
     "metadata": {},
     "output_type": "execute_result"
    }
   ],
   "source": [
    "#type(data_loaded['POLYLINE'][0][0][0] ), data_loaded['POLYLINE'][0][0][0]  "
   ]
  },
  {
   "cell_type": "code",
   "execution_count": 11,
   "id": "1751a5b2",
   "metadata": {},
   "outputs": [
    {
     "data": {
      "text/plain": [
       "(str, '8a7b63adb347fff')"
      ]
     },
     "execution_count": 11,
     "metadata": {},
     "output_type": "execute_result"
    }
   ],
   "source": [
    "#type(data_loaded['Tokenization'][0][0] ), data_loaded['Tokenization'][0][0] "
   ]
  },
  {
   "cell_type": "code",
   "execution_count": 12,
   "id": "c99f976e",
   "metadata": {},
   "outputs": [
    {
     "data": {
      "text/html": [
       "<div>\n",
       "<style scoped>\n",
       "    .dataframe tbody tr th:only-of-type {\n",
       "        vertical-align: middle;\n",
       "    }\n",
       "\n",
       "    .dataframe tbody tr th {\n",
       "        vertical-align: top;\n",
       "    }\n",
       "\n",
       "    .dataframe thead th {\n",
       "        text-align: right;\n",
       "    }\n",
       "</style>\n",
       "<table border=\"1\" class=\"dataframe\">\n",
       "  <thead>\n",
       "    <tr style=\"text-align: right;\">\n",
       "      <th></th>\n",
       "      <th>TRIP_ID</th>\n",
       "      <th>CALL_TYPE</th>\n",
       "      <th>ORIGIN_CALL</th>\n",
       "      <th>ORIGIN_STAND</th>\n",
       "      <th>TAXI_ID</th>\n",
       "      <th>TIMESTAMP</th>\n",
       "      <th>DAY_TYPE</th>\n",
       "      <th>MISSING_DATA</th>\n",
       "      <th>POLYLINE</th>\n",
       "      <th>Tokenization</th>\n",
       "    </tr>\n",
       "  </thead>\n",
       "  <tbody>\n",
       "    <tr>\n",
       "      <th>0</th>\n",
       "      <td>1372636858620000589</td>\n",
       "      <td>C</td>\n",
       "      <td>NaN</td>\n",
       "      <td>NaN</td>\n",
       "      <td>20000589</td>\n",
       "      <td>1372636858</td>\n",
       "      <td>A</td>\n",
       "      <td>False</td>\n",
       "      <td>[[-8.618643, 41.141412], [-8.618499, 41.141376...</td>\n",
       "      <td>[8a7b63adb347fff, 8a7b63adb35ffff, 8a7b63adbad...</td>\n",
       "    </tr>\n",
       "    <tr>\n",
       "      <th>1</th>\n",
       "      <td>1372637303620000596</td>\n",
       "      <td>B</td>\n",
       "      <td>NaN</td>\n",
       "      <td>7.0</td>\n",
       "      <td>20000596</td>\n",
       "      <td>1372637303</td>\n",
       "      <td>A</td>\n",
       "      <td>False</td>\n",
       "      <td>[[-8.639847, 41.159826], [-8.640351, 41.159871...</td>\n",
       "      <td>[8a7b63ad8047fff, 8a7b63ad8047fff, 8a7b63ad814...</td>\n",
       "    </tr>\n",
       "    <tr>\n",
       "      <th>2</th>\n",
       "      <td>1372636951620000320</td>\n",
       "      <td>C</td>\n",
       "      <td>NaN</td>\n",
       "      <td>NaN</td>\n",
       "      <td>20000320</td>\n",
       "      <td>1372636951</td>\n",
       "      <td>A</td>\n",
       "      <td>False</td>\n",
       "      <td>[[-8.612964, 41.140359], [-8.613378, 41.14035]...</td>\n",
       "      <td>[8a7b63adb2cffff, 8a7b63adb2cffff, 8a7b63adb2e...</td>\n",
       "    </tr>\n",
       "    <tr>\n",
       "      <th>3</th>\n",
       "      <td>1372636854620000520</td>\n",
       "      <td>C</td>\n",
       "      <td>NaN</td>\n",
       "      <td>NaN</td>\n",
       "      <td>20000520</td>\n",
       "      <td>1372636854</td>\n",
       "      <td>A</td>\n",
       "      <td>False</td>\n",
       "      <td>[[-8.574678, 41.151951], [-8.574705, 41.151942...</td>\n",
       "      <td>[8a7b63370727fff, 8a7b63370727fff, 8a7b6337072...</td>\n",
       "    </tr>\n",
       "    <tr>\n",
       "      <th>4</th>\n",
       "      <td>1372637091620000337</td>\n",
       "      <td>C</td>\n",
       "      <td>NaN</td>\n",
       "      <td>NaN</td>\n",
       "      <td>20000337</td>\n",
       "      <td>1372637091</td>\n",
       "      <td>A</td>\n",
       "      <td>False</td>\n",
       "      <td>[[-8.645994, 41.18049], [-8.645949, 41.180517]...</td>\n",
       "      <td>[8a7b63adea37fff, 8a7b63adea37fff, 8a7b63adea0...</td>\n",
       "    </tr>\n",
       "  </tbody>\n",
       "</table>\n",
       "</div>"
      ],
      "text/plain": [
       "               TRIP_ID CALL_TYPE  ORIGIN_CALL  ORIGIN_STAND   TAXI_ID  \\\n",
       "0  1372636858620000589         C          NaN           NaN  20000589   \n",
       "1  1372637303620000596         B          NaN           7.0  20000596   \n",
       "2  1372636951620000320         C          NaN           NaN  20000320   \n",
       "3  1372636854620000520         C          NaN           NaN  20000520   \n",
       "4  1372637091620000337         C          NaN           NaN  20000337   \n",
       "\n",
       "    TIMESTAMP DAY_TYPE  MISSING_DATA  \\\n",
       "0  1372636858        A         False   \n",
       "1  1372637303        A         False   \n",
       "2  1372636951        A         False   \n",
       "3  1372636854        A         False   \n",
       "4  1372637091        A         False   \n",
       "\n",
       "                                            POLYLINE  \\\n",
       "0  [[-8.618643, 41.141412], [-8.618499, 41.141376...   \n",
       "1  [[-8.639847, 41.159826], [-8.640351, 41.159871...   \n",
       "2  [[-8.612964, 41.140359], [-8.613378, 41.14035]...   \n",
       "3  [[-8.574678, 41.151951], [-8.574705, 41.151942...   \n",
       "4  [[-8.645994, 41.18049], [-8.645949, 41.180517]...   \n",
       "\n",
       "                                        Tokenization  \n",
       "0  [8a7b63adb347fff, 8a7b63adb35ffff, 8a7b63adbad...  \n",
       "1  [8a7b63ad8047fff, 8a7b63ad8047fff, 8a7b63ad814...  \n",
       "2  [8a7b63adb2cffff, 8a7b63adb2cffff, 8a7b63adb2e...  \n",
       "3  [8a7b63370727fff, 8a7b63370727fff, 8a7b6337072...  \n",
       "4  [8a7b63adea37fff, 8a7b63adea37fff, 8a7b63adea0...  "
      ]
     },
     "execution_count": 12,
     "metadata": {},
     "output_type": "execute_result"
    }
   ],
   "source": [
    "data_loaded.head()"
   ]
  },
  {
   "cell_type": "markdown",
   "id": "3d852209",
   "metadata": {},
   "source": [
    "__Conclusion :__\n",
    "\n",
    "On a bien les données dans le format voulu."
   ]
  },
  {
   "cell_type": "markdown",
   "id": "17c1974d",
   "metadata": {},
   "source": [
    "# Séparation des trajectoires en début (input)/point(s) à prédire/destination"
   ]
  },
  {
   "cell_type": "markdown",
   "id": "22204500",
   "metadata": {},
   "source": [
    "## Vérification de la tokenization\n",
    "\n",
    "Le but est de vérifier la taille des listes de tokens avec la liste de points géographique correspondant."
   ]
  },
  {
   "cell_type": "code",
   "execution_count": 13,
   "id": "f967f01e",
   "metadata": {},
   "outputs": [],
   "source": [
    "def count_points(traj):\n",
    "    return len(traj)"
   ]
  },
  {
   "cell_type": "markdown",
   "id": "7cfc150a",
   "metadata": {},
   "source": [
    "On vérifie le fonctionnement sur une ligne :"
   ]
  },
  {
   "cell_type": "code",
   "execution_count": 14,
   "id": "e18d50d6",
   "metadata": {},
   "outputs": [
    {
     "data": {
      "text/plain": [
       "23"
      ]
     },
     "execution_count": 14,
     "metadata": {},
     "output_type": "execute_result"
    }
   ],
   "source": [
    "count_points(data_loaded['POLYLINE'][0])"
   ]
  },
  {
   "cell_type": "code",
   "execution_count": 15,
   "id": "5d674c16",
   "metadata": {},
   "outputs": [
    {
     "data": {
      "text/plain": [
       "[[-8.618643, 41.141412],\n",
       " [-8.618499, 41.141376],\n",
       " [-8.620326, 41.14251],\n",
       " [-8.622153, 41.143815],\n",
       " [-8.623953, 41.144373],\n",
       " [-8.62668, 41.144778],\n",
       " [-8.627373, 41.144697],\n",
       " [-8.630226, 41.14521],\n",
       " [-8.632746, 41.14692],\n",
       " [-8.631738, 41.148225],\n",
       " [-8.629938, 41.150385],\n",
       " [-8.62911, 41.151213],\n",
       " [-8.629128, 41.15124],\n",
       " [-8.628786, 41.152203],\n",
       " [-8.628687, 41.152374],\n",
       " [-8.628759, 41.152518],\n",
       " [-8.630838, 41.15268],\n",
       " [-8.632323, 41.153022],\n",
       " [-8.631144, 41.154489],\n",
       " [-8.630829, 41.154507],\n",
       " [-8.630829, 41.154516],\n",
       " [-8.630829, 41.154498],\n",
       " [-8.630838, 41.154489]]"
      ]
     },
     "execution_count": 15,
     "metadata": {},
     "output_type": "execute_result"
    }
   ],
   "source": [
    "data_loaded['POLYLINE'][0]"
   ]
  },
  {
   "cell_type": "markdown",
   "id": "94b3bcff",
   "metadata": {},
   "source": [
    "On définie une fonction ajoutant une colonne rescensant le nombre de points dans la trajectoire non tokenizée et une pour la trajectoire tokenizée."
   ]
  },
  {
   "cell_type": "code",
   "execution_count": 16,
   "id": "7a018b1f",
   "metadata": {},
   "outputs": [],
   "source": [
    "def verif(data_load):\n",
    "    data_csv=data_load\n",
    "        \n",
    "    data_csv['Nb_points'] = data_loaded['POLYLINE'].apply(lambda x: count_points(x))\n",
    "    data_csv['Nb_points_token'] = data_loaded['Tokenization'].apply(lambda x: count_points(x))\n",
    "        \n",
    "\n",
    "    return data_csv     "
   ]
  },
  {
   "cell_type": "markdown",
   "id": "299d7a5c",
   "metadata": {},
   "source": [
    "Enfin, on définie une fonction qui compare les deux longueurs pour chaque trajectoire, et bon l'appelle."
   ]
  },
  {
   "cell_type": "code",
   "execution_count": 17,
   "id": "1ba9e359",
   "metadata": {},
   "outputs": [],
   "source": [
    "def meme_longueur(data_load) : #retourne vrai si la liste de tokens et celle de points geographiques sont de même taille\n",
    "    dataframe=verif(data_load)\n",
    "    data_liste = (dataframe['Nb_points']==dataframe['Nb_points_token'])\n",
    "    listebool=data_liste.to_numpy()\n",
    "    return (not(False in listebool))"
   ]
  },
  {
   "cell_type": "code",
   "execution_count": 18,
   "id": "703edb5e",
   "metadata": {},
   "outputs": [
    {
     "data": {
      "text/plain": [
       "True"
      ]
     },
     "execution_count": 18,
     "metadata": {},
     "output_type": "execute_result"
    }
   ],
   "source": [
    "meme_longueur(data_loaded)"
   ]
  },
  {
   "cell_type": "markdown",
   "id": "8be9a2b6",
   "metadata": {},
   "source": [
    "__Conclusion :__\n",
    "\n",
    "On a bien les bonnes tailles de listes des points tokenisés.\n",
    "On remarque aussi que les trajectoires ne sont pas toutes de même longueur.\n",
    "\n",
    "On peut donc ne garder qu'une des deux colonnes et procéder à la suite."
   ]
  },
  {
   "cell_type": "code",
   "execution_count": 20,
   "id": "d8cc41ed",
   "metadata": {},
   "outputs": [],
   "source": [
    "data_loaded['Nb_points']=data_loaded['POLYLINE'].apply(lambda x: count_points(x))"
   ]
  },
  {
   "cell_type": "code",
   "execution_count": 21,
   "id": "1ab3f6f5",
   "metadata": {},
   "outputs": [
    {
     "data": {
      "text/html": [
       "<div>\n",
       "<style scoped>\n",
       "    .dataframe tbody tr th:only-of-type {\n",
       "        vertical-align: middle;\n",
       "    }\n",
       "\n",
       "    .dataframe tbody tr th {\n",
       "        vertical-align: top;\n",
       "    }\n",
       "\n",
       "    .dataframe thead th {\n",
       "        text-align: right;\n",
       "    }\n",
       "</style>\n",
       "<table border=\"1\" class=\"dataframe\">\n",
       "  <thead>\n",
       "    <tr style=\"text-align: right;\">\n",
       "      <th></th>\n",
       "      <th>TRIP_ID</th>\n",
       "      <th>CALL_TYPE</th>\n",
       "      <th>ORIGIN_CALL</th>\n",
       "      <th>ORIGIN_STAND</th>\n",
       "      <th>TAXI_ID</th>\n",
       "      <th>TIMESTAMP</th>\n",
       "      <th>DAY_TYPE</th>\n",
       "      <th>MISSING_DATA</th>\n",
       "      <th>POLYLINE</th>\n",
       "      <th>Tokenization</th>\n",
       "      <th>Nb_points</th>\n",
       "      <th>Nb_points_token</th>\n",
       "    </tr>\n",
       "  </thead>\n",
       "  <tbody>\n",
       "    <tr>\n",
       "      <th>0</th>\n",
       "      <td>1372636858620000589</td>\n",
       "      <td>C</td>\n",
       "      <td>NaN</td>\n",
       "      <td>NaN</td>\n",
       "      <td>20000589</td>\n",
       "      <td>1372636858</td>\n",
       "      <td>A</td>\n",
       "      <td>False</td>\n",
       "      <td>[[-8.618643, 41.141412], [-8.618499, 41.141376...</td>\n",
       "      <td>[8a7b63adb347fff, 8a7b63adb35ffff, 8a7b63adbad...</td>\n",
       "      <td>23</td>\n",
       "      <td>23</td>\n",
       "    </tr>\n",
       "    <tr>\n",
       "      <th>1</th>\n",
       "      <td>1372637303620000596</td>\n",
       "      <td>B</td>\n",
       "      <td>NaN</td>\n",
       "      <td>7.0</td>\n",
       "      <td>20000596</td>\n",
       "      <td>1372637303</td>\n",
       "      <td>A</td>\n",
       "      <td>False</td>\n",
       "      <td>[[-8.639847, 41.159826], [-8.640351, 41.159871...</td>\n",
       "      <td>[8a7b63ad8047fff, 8a7b63ad8047fff, 8a7b63ad814...</td>\n",
       "      <td>19</td>\n",
       "      <td>19</td>\n",
       "    </tr>\n",
       "    <tr>\n",
       "      <th>2</th>\n",
       "      <td>1372636951620000320</td>\n",
       "      <td>C</td>\n",
       "      <td>NaN</td>\n",
       "      <td>NaN</td>\n",
       "      <td>20000320</td>\n",
       "      <td>1372636951</td>\n",
       "      <td>A</td>\n",
       "      <td>False</td>\n",
       "      <td>[[-8.612964, 41.140359], [-8.613378, 41.14035]...</td>\n",
       "      <td>[8a7b63adb2cffff, 8a7b63adb2cffff, 8a7b63adb2e...</td>\n",
       "      <td>65</td>\n",
       "      <td>65</td>\n",
       "    </tr>\n",
       "    <tr>\n",
       "      <th>3</th>\n",
       "      <td>1372636854620000520</td>\n",
       "      <td>C</td>\n",
       "      <td>NaN</td>\n",
       "      <td>NaN</td>\n",
       "      <td>20000520</td>\n",
       "      <td>1372636854</td>\n",
       "      <td>A</td>\n",
       "      <td>False</td>\n",
       "      <td>[[-8.574678, 41.151951], [-8.574705, 41.151942...</td>\n",
       "      <td>[8a7b63370727fff, 8a7b63370727fff, 8a7b6337072...</td>\n",
       "      <td>43</td>\n",
       "      <td>43</td>\n",
       "    </tr>\n",
       "    <tr>\n",
       "      <th>4</th>\n",
       "      <td>1372637091620000337</td>\n",
       "      <td>C</td>\n",
       "      <td>NaN</td>\n",
       "      <td>NaN</td>\n",
       "      <td>20000337</td>\n",
       "      <td>1372637091</td>\n",
       "      <td>A</td>\n",
       "      <td>False</td>\n",
       "      <td>[[-8.645994, 41.18049], [-8.645949, 41.180517]...</td>\n",
       "      <td>[8a7b63adea37fff, 8a7b63adea37fff, 8a7b63adea0...</td>\n",
       "      <td>29</td>\n",
       "      <td>29</td>\n",
       "    </tr>\n",
       "  </tbody>\n",
       "</table>\n",
       "</div>"
      ],
      "text/plain": [
       "               TRIP_ID CALL_TYPE  ORIGIN_CALL  ORIGIN_STAND   TAXI_ID  \\\n",
       "0  1372636858620000589         C          NaN           NaN  20000589   \n",
       "1  1372637303620000596         B          NaN           7.0  20000596   \n",
       "2  1372636951620000320         C          NaN           NaN  20000320   \n",
       "3  1372636854620000520         C          NaN           NaN  20000520   \n",
       "4  1372637091620000337         C          NaN           NaN  20000337   \n",
       "\n",
       "    TIMESTAMP DAY_TYPE  MISSING_DATA  \\\n",
       "0  1372636858        A         False   \n",
       "1  1372637303        A         False   \n",
       "2  1372636951        A         False   \n",
       "3  1372636854        A         False   \n",
       "4  1372637091        A         False   \n",
       "\n",
       "                                            POLYLINE  \\\n",
       "0  [[-8.618643, 41.141412], [-8.618499, 41.141376...   \n",
       "1  [[-8.639847, 41.159826], [-8.640351, 41.159871...   \n",
       "2  [[-8.612964, 41.140359], [-8.613378, 41.14035]...   \n",
       "3  [[-8.574678, 41.151951], [-8.574705, 41.151942...   \n",
       "4  [[-8.645994, 41.18049], [-8.645949, 41.180517]...   \n",
       "\n",
       "                                        Tokenization  Nb_points  \\\n",
       "0  [8a7b63adb347fff, 8a7b63adb35ffff, 8a7b63adbad...         23   \n",
       "1  [8a7b63ad8047fff, 8a7b63ad8047fff, 8a7b63ad814...         19   \n",
       "2  [8a7b63adb2cffff, 8a7b63adb2cffff, 8a7b63adb2e...         65   \n",
       "3  [8a7b63370727fff, 8a7b63370727fff, 8a7b6337072...         43   \n",
       "4  [8a7b63adea37fff, 8a7b63adea37fff, 8a7b63adea0...         29   \n",
       "\n",
       "   Nb_points_token  \n",
       "0               23  \n",
       "1               19  \n",
       "2               65  \n",
       "3               43  \n",
       "4               29  "
      ]
     },
     "execution_count": 21,
     "metadata": {},
     "output_type": "execute_result"
    }
   ],
   "source": [
    "data_loaded.head()"
   ]
  },
  {
   "cell_type": "code",
   "execution_count": 22,
   "id": "aaf05448",
   "metadata": {},
   "outputs": [
    {
     "data": {
      "text/html": [
       "<div>\n",
       "<style scoped>\n",
       "    .dataframe tbody tr th:only-of-type {\n",
       "        vertical-align: middle;\n",
       "    }\n",
       "\n",
       "    .dataframe tbody tr th {\n",
       "        vertical-align: top;\n",
       "    }\n",
       "\n",
       "    .dataframe thead th {\n",
       "        text-align: right;\n",
       "    }\n",
       "</style>\n",
       "<table border=\"1\" class=\"dataframe\">\n",
       "  <thead>\n",
       "    <tr style=\"text-align: right;\">\n",
       "      <th></th>\n",
       "      <th>TRIP_ID</th>\n",
       "      <th>CALL_TYPE</th>\n",
       "      <th>ORIGIN_CALL</th>\n",
       "      <th>ORIGIN_STAND</th>\n",
       "      <th>TAXI_ID</th>\n",
       "      <th>TIMESTAMP</th>\n",
       "      <th>DAY_TYPE</th>\n",
       "      <th>MISSING_DATA</th>\n",
       "      <th>POLYLINE</th>\n",
       "      <th>Tokenization</th>\n",
       "      <th>Nb_points</th>\n",
       "    </tr>\n",
       "  </thead>\n",
       "  <tbody>\n",
       "    <tr>\n",
       "      <th>0</th>\n",
       "      <td>1372636858620000589</td>\n",
       "      <td>C</td>\n",
       "      <td>NaN</td>\n",
       "      <td>NaN</td>\n",
       "      <td>20000589</td>\n",
       "      <td>1372636858</td>\n",
       "      <td>A</td>\n",
       "      <td>False</td>\n",
       "      <td>[[-8.618643, 41.141412], [-8.618499, 41.141376...</td>\n",
       "      <td>[8a7b63adb347fff, 8a7b63adb35ffff, 8a7b63adbad...</td>\n",
       "      <td>23</td>\n",
       "    </tr>\n",
       "    <tr>\n",
       "      <th>1</th>\n",
       "      <td>1372637303620000596</td>\n",
       "      <td>B</td>\n",
       "      <td>NaN</td>\n",
       "      <td>7.0</td>\n",
       "      <td>20000596</td>\n",
       "      <td>1372637303</td>\n",
       "      <td>A</td>\n",
       "      <td>False</td>\n",
       "      <td>[[-8.639847, 41.159826], [-8.640351, 41.159871...</td>\n",
       "      <td>[8a7b63ad8047fff, 8a7b63ad8047fff, 8a7b63ad814...</td>\n",
       "      <td>19</td>\n",
       "    </tr>\n",
       "    <tr>\n",
       "      <th>2</th>\n",
       "      <td>1372636951620000320</td>\n",
       "      <td>C</td>\n",
       "      <td>NaN</td>\n",
       "      <td>NaN</td>\n",
       "      <td>20000320</td>\n",
       "      <td>1372636951</td>\n",
       "      <td>A</td>\n",
       "      <td>False</td>\n",
       "      <td>[[-8.612964, 41.140359], [-8.613378, 41.14035]...</td>\n",
       "      <td>[8a7b63adb2cffff, 8a7b63adb2cffff, 8a7b63adb2e...</td>\n",
       "      <td>65</td>\n",
       "    </tr>\n",
       "    <tr>\n",
       "      <th>3</th>\n",
       "      <td>1372636854620000520</td>\n",
       "      <td>C</td>\n",
       "      <td>NaN</td>\n",
       "      <td>NaN</td>\n",
       "      <td>20000520</td>\n",
       "      <td>1372636854</td>\n",
       "      <td>A</td>\n",
       "      <td>False</td>\n",
       "      <td>[[-8.574678, 41.151951], [-8.574705, 41.151942...</td>\n",
       "      <td>[8a7b63370727fff, 8a7b63370727fff, 8a7b6337072...</td>\n",
       "      <td>43</td>\n",
       "    </tr>\n",
       "    <tr>\n",
       "      <th>4</th>\n",
       "      <td>1372637091620000337</td>\n",
       "      <td>C</td>\n",
       "      <td>NaN</td>\n",
       "      <td>NaN</td>\n",
       "      <td>20000337</td>\n",
       "      <td>1372637091</td>\n",
       "      <td>A</td>\n",
       "      <td>False</td>\n",
       "      <td>[[-8.645994, 41.18049], [-8.645949, 41.180517]...</td>\n",
       "      <td>[8a7b63adea37fff, 8a7b63adea37fff, 8a7b63adea0...</td>\n",
       "      <td>29</td>\n",
       "    </tr>\n",
       "    <tr>\n",
       "      <th>...</th>\n",
       "      <td>...</td>\n",
       "      <td>...</td>\n",
       "      <td>...</td>\n",
       "      <td>...</td>\n",
       "      <td>...</td>\n",
       "      <td>...</td>\n",
       "      <td>...</td>\n",
       "      <td>...</td>\n",
       "      <td>...</td>\n",
       "      <td>...</td>\n",
       "      <td>...</td>\n",
       "    </tr>\n",
       "    <tr>\n",
       "      <th>1710665</th>\n",
       "      <td>1404171463620000698</td>\n",
       "      <td>C</td>\n",
       "      <td>NaN</td>\n",
       "      <td>NaN</td>\n",
       "      <td>20000698</td>\n",
       "      <td>1404171463</td>\n",
       "      <td>A</td>\n",
       "      <td>False</td>\n",
       "      <td>[[-8.612469, 41.14602], [-8.612487, 41.145993]...</td>\n",
       "      <td>[8a7b63adb297fff, 8a7b63adb297fff, 8a7b63adb29...</td>\n",
       "      <td>32</td>\n",
       "    </tr>\n",
       "    <tr>\n",
       "      <th>1710666</th>\n",
       "      <td>1404171367620000670</td>\n",
       "      <td>C</td>\n",
       "      <td>NaN</td>\n",
       "      <td>NaN</td>\n",
       "      <td>20000670</td>\n",
       "      <td>1404171367</td>\n",
       "      <td>A</td>\n",
       "      <td>False</td>\n",
       "      <td>[[-8.610138, 41.140845], [-8.610174, 41.140935...</td>\n",
       "      <td>[8a7b63375957fff, 8a7b63375957fff, 8a7b63adb2c...</td>\n",
       "      <td>30</td>\n",
       "    </tr>\n",
       "    <tr>\n",
       "      <th>1710667</th>\n",
       "      <td>1388745716620000264</td>\n",
       "      <td>C</td>\n",
       "      <td>NaN</td>\n",
       "      <td>NaN</td>\n",
       "      <td>20000264</td>\n",
       "      <td>1388745716</td>\n",
       "      <td>A</td>\n",
       "      <td>False</td>\n",
       "      <td>[]</td>\n",
       "      <td>[]</td>\n",
       "      <td>0</td>\n",
       "    </tr>\n",
       "    <tr>\n",
       "      <th>1710668</th>\n",
       "      <td>1404141826620000248</td>\n",
       "      <td>B</td>\n",
       "      <td>NaN</td>\n",
       "      <td>12.0</td>\n",
       "      <td>20000248</td>\n",
       "      <td>1404141826</td>\n",
       "      <td>A</td>\n",
       "      <td>False</td>\n",
       "      <td>[[-8.630712, 41.154885], [-8.63073, 41.154813]...</td>\n",
       "      <td>[8a7b63adb907fff, 8a7b63adb907fff, 8a7b63adb90...</td>\n",
       "      <td>62</td>\n",
       "    </tr>\n",
       "    <tr>\n",
       "      <th>1710669</th>\n",
       "      <td>1404157147620000079</td>\n",
       "      <td>B</td>\n",
       "      <td>NaN</td>\n",
       "      <td>34.0</td>\n",
       "      <td>20000079</td>\n",
       "      <td>1404157147</td>\n",
       "      <td>A</td>\n",
       "      <td>False</td>\n",
       "      <td>[[-8.615538, 41.140629], [-8.615421, 41.140746...</td>\n",
       "      <td>[8a7b63adb257fff, 8a7b63adb257fff, 8a7b63adb25...</td>\n",
       "      <td>27</td>\n",
       "    </tr>\n",
       "  </tbody>\n",
       "</table>\n",
       "<p>1710670 rows × 11 columns</p>\n",
       "</div>"
      ],
      "text/plain": [
       "                     TRIP_ID CALL_TYPE  ORIGIN_CALL  ORIGIN_STAND   TAXI_ID  \\\n",
       "0        1372636858620000589         C          NaN           NaN  20000589   \n",
       "1        1372637303620000596         B          NaN           7.0  20000596   \n",
       "2        1372636951620000320         C          NaN           NaN  20000320   \n",
       "3        1372636854620000520         C          NaN           NaN  20000520   \n",
       "4        1372637091620000337         C          NaN           NaN  20000337   \n",
       "...                      ...       ...          ...           ...       ...   \n",
       "1710665  1404171463620000698         C          NaN           NaN  20000698   \n",
       "1710666  1404171367620000670         C          NaN           NaN  20000670   \n",
       "1710667  1388745716620000264         C          NaN           NaN  20000264   \n",
       "1710668  1404141826620000248         B          NaN          12.0  20000248   \n",
       "1710669  1404157147620000079         B          NaN          34.0  20000079   \n",
       "\n",
       "          TIMESTAMP DAY_TYPE  MISSING_DATA  \\\n",
       "0        1372636858        A         False   \n",
       "1        1372637303        A         False   \n",
       "2        1372636951        A         False   \n",
       "3        1372636854        A         False   \n",
       "4        1372637091        A         False   \n",
       "...             ...      ...           ...   \n",
       "1710665  1404171463        A         False   \n",
       "1710666  1404171367        A         False   \n",
       "1710667  1388745716        A         False   \n",
       "1710668  1404141826        A         False   \n",
       "1710669  1404157147        A         False   \n",
       "\n",
       "                                                  POLYLINE  \\\n",
       "0        [[-8.618643, 41.141412], [-8.618499, 41.141376...   \n",
       "1        [[-8.639847, 41.159826], [-8.640351, 41.159871...   \n",
       "2        [[-8.612964, 41.140359], [-8.613378, 41.14035]...   \n",
       "3        [[-8.574678, 41.151951], [-8.574705, 41.151942...   \n",
       "4        [[-8.645994, 41.18049], [-8.645949, 41.180517]...   \n",
       "...                                                    ...   \n",
       "1710665  [[-8.612469, 41.14602], [-8.612487, 41.145993]...   \n",
       "1710666  [[-8.610138, 41.140845], [-8.610174, 41.140935...   \n",
       "1710667                                                 []   \n",
       "1710668  [[-8.630712, 41.154885], [-8.63073, 41.154813]...   \n",
       "1710669  [[-8.615538, 41.140629], [-8.615421, 41.140746...   \n",
       "\n",
       "                                              Tokenization  Nb_points  \n",
       "0        [8a7b63adb347fff, 8a7b63adb35ffff, 8a7b63adbad...         23  \n",
       "1        [8a7b63ad8047fff, 8a7b63ad8047fff, 8a7b63ad814...         19  \n",
       "2        [8a7b63adb2cffff, 8a7b63adb2cffff, 8a7b63adb2e...         65  \n",
       "3        [8a7b63370727fff, 8a7b63370727fff, 8a7b6337072...         43  \n",
       "4        [8a7b63adea37fff, 8a7b63adea37fff, 8a7b63adea0...         29  \n",
       "...                                                    ...        ...  \n",
       "1710665  [8a7b63adb297fff, 8a7b63adb297fff, 8a7b63adb29...         32  \n",
       "1710666  [8a7b63375957fff, 8a7b63375957fff, 8a7b63adb2c...         30  \n",
       "1710667                                                 []          0  \n",
       "1710668  [8a7b63adb907fff, 8a7b63adb907fff, 8a7b63adb90...         62  \n",
       "1710669  [8a7b63adb257fff, 8a7b63adb257fff, 8a7b63adb25...         27  \n",
       "\n",
       "[1710670 rows x 11 columns]"
      ]
     },
     "execution_count": 22,
     "metadata": {},
     "output_type": "execute_result"
    }
   ],
   "source": [
    "#data_loaded.drop('Nb_points_token',axis=1)"
   ]
  },
  {
   "cell_type": "code",
   "execution_count": 23,
   "id": "580bbe68",
   "metadata": {},
   "outputs": [
    {
     "name": "stdout",
     "output_type": "stream",
     "text": [
      "<class 'pandas.core.frame.DataFrame'>\n",
      "Index: 1710670 entries, 0 to 1710669\n",
      "Data columns (total 12 columns):\n",
      " #   Column           Dtype  \n",
      "---  ------           -----  \n",
      " 0   TRIP_ID          int64  \n",
      " 1   CALL_TYPE        object \n",
      " 2   ORIGIN_CALL      float64\n",
      " 3   ORIGIN_STAND     float64\n",
      " 4   TAXI_ID          int64  \n",
      " 5   TIMESTAMP        int64  \n",
      " 6   DAY_TYPE         object \n",
      " 7   MISSING_DATA     bool   \n",
      " 8   POLYLINE         object \n",
      " 9   Tokenization     object \n",
      " 10  Nb_points        int64  \n",
      " 11  Nb_points_token  int64  \n",
      "dtypes: bool(1), float64(2), int64(5), object(4)\n",
      "memory usage: 158.2+ MB\n"
     ]
    }
   ],
   "source": [
    "data_loaded.info()"
   ]
  },
  {
   "cell_type": "markdown",
   "id": "ea660696",
   "metadata": {},
   "source": [
    "## Troncature"
   ]
  },
  {
   "cell_type": "markdown",
   "id": "8d504343",
   "metadata": {},
   "source": [
    "Le problème que nous rencontrons est que BERT a pour entrée maximale 512 tokens. Or certaines trajectoires dépasse ce seuil. Afin de pouvoir utiliser BERT dans le cas de longues trajectoires, plusieurs s'offrent à nous. Une d'elle consiste à ne considérer que la fin de la trajectoire étudiée si elle est trop longue. C'est celle que nous mettons en oeuvre ici.\n",
    "\n",
    "Nous avons besoin de connaitre la taille que prendra le contexte à concaténer pour rentrer dans la limite des 512 tokens après concaténation. Nous la fixons avec la variable \"limite_entrée\" à 400 pour le moment.\n",
    "\n",
    "On commence par une étape d'étude de nos données : on regarde la proportion de trajectoire trop longues, les longueurs moyennes, ... "
   ]
  },
  {
   "cell_type": "code",
   "execution_count": 24,
   "id": "33e78a49",
   "metadata": {},
   "outputs": [],
   "source": [
    "## On commence par faire une copie de data_loaded au cas où on ferait des modifications non voulues de data_loaded et de perdre la bonne version\n",
    "df=data_loaded.copy()"
   ]
  },
  {
   "cell_type": "code",
   "execution_count": 25,
   "id": "08e6928f",
   "metadata": {},
   "outputs": [],
   "source": [
    "## On se donne une idée de la longueur max des trajectoires considérées\n",
    "\n",
    "def recup_max(dataset, col):\n",
    "    maximum=0\n",
    "    for i in range(len(dataset[col])):\n",
    "        if maximum<dataset[col][i]:\n",
    "            maximum=dataset[col][i]\n",
    "            position=i\n",
    "    return [maximum,position]\n",
    "\n",
    "#On peut rérer le max directement avec max(dataf['Nb_points']) mais cela donne pas la ligne."
   ]
  },
  {
   "cell_type": "code",
   "execution_count": 26,
   "id": "d80fd41f",
   "metadata": {},
   "outputs": [
    {
     "data": {
      "text/plain": [
       "(3881, 1093727)"
      ]
     },
     "execution_count": 26,
     "metadata": {},
     "output_type": "execute_result"
    }
   ],
   "source": [
    "maximum,position=recup_max(df, 'Nb_points')\n",
    "maximum,position"
   ]
  },
  {
   "cell_type": "code",
   "execution_count": 29,
   "id": "2f9f2452",
   "metadata": {},
   "outputs": [
    {
     "name": "stdout",
     "output_type": "stream",
     "text": [
      "1947 0.001138150549200021\n"
     ]
    }
   ],
   "source": [
    "\"\"\"\n",
    "#Fonction pour avoir une idée du nombre/de la proportion de trajectoires trop longues\n",
    "\n",
    "max_bert = 512\n",
    "\n",
    "def compter_cb_trop_long(dataset,col):\n",
    "    liste=[]\n",
    "    for i in range(len(dataset[col])):\n",
    "        if dataset[col][i]>max_bert:\n",
    "            liste.append(i)\n",
    "    return [len(liste),liste]\n",
    "\n",
    "compteur,lis=compter_cb_trop_long(df,'Nb_points')\n",
    "print(compteur,compteur/len(df.index))\n",
    "    \n",
    "\n",
    "\"\"\"\n"
   ]
  },
  {
   "cell_type": "code",
   "execution_count": 30,
   "id": "dd649c98",
   "metadata": {},
   "outputs": [
    {
     "data": {
      "text/plain": [
       "48.758314578498485"
      ]
     },
     "execution_count": 30,
     "metadata": {},
     "output_type": "execute_result"
    }
   ],
   "source": [
    "longueur_moyenne = df['Nb_points'].mean()\n",
    "longueur_moyenne"
   ]
  },
  {
   "cell_type": "code",
   "execution_count": 31,
   "id": "93ace40d",
   "metadata": {},
   "outputs": [
    {
     "data": {
      "text/plain": [
       "41.0"
      ]
     },
     "execution_count": 31,
     "metadata": {},
     "output_type": "execute_result"
    }
   ],
   "source": [
    "stat.median(df['Nb_points'])"
   ]
  },
  {
   "cell_type": "code",
   "execution_count": 32,
   "id": "8392ac5a",
   "metadata": {},
   "outputs": [
    {
     "data": {
      "text/plain": [
       "35"
      ]
     },
     "execution_count": 32,
     "metadata": {},
     "output_type": "execute_result"
    }
   ],
   "source": [
    "stat.mode(df['Nb_points'])"
   ]
  },
  {
   "cell_type": "code",
   "execution_count": 35,
   "id": "571380b8",
   "metadata": {},
   "outputs": [
    {
     "data": {
      "text/plain": [
       "45.65371070883209"
      ]
     },
     "execution_count": 35,
     "metadata": {},
     "output_type": "execute_result"
    }
   ],
   "source": [
    "stat.pstdev(df['Nb_points'])"
   ]
  },
  {
   "cell_type": "code",
   "execution_count": 36,
   "id": "c88e61fa",
   "metadata": {},
   "outputs": [
    {
     "data": {
      "text/plain": [
       "2084.2613014857293"
      ]
     },
     "execution_count": 36,
     "metadata": {},
     "output_type": "execute_result"
    }
   ],
   "source": [
    "stat.pvariance(df['Nb_points'])"
   ]
  },
  {
   "cell_type": "code",
   "execution_count": 37,
   "id": "39151716",
   "metadata": {},
   "outputs": [],
   "source": [
    "\n",
    "limite_entree=400 #trajectoire maximale qu'on fixe (nb de jetons)\n",
    "\n",
    "\n",
    "def troncature(datasetav,datasetap,limite_entree): # modifie le datasetap sans toucher au datasetav\n",
    "#Retourne le nb de trajectoire modifiées\n",
    "\n",
    "    nb=0\n",
    "    for i in range(len(datasetav['Nb_points'])): # on parcourt les lignes de la colonne 'Nb_points'\n",
    "        longueur=datasetav['Nb_points'][i]\n",
    "        if longueur>limite_entree: #si trop long\n",
    "            nb+=1 \n",
    "            \n",
    "            \n",
    "            #Si on veut garder le début de la trajectoire :\n",
    "            # datasetap['POLYLINE'][i]=datasetav['POLYLINE'][i][:limite_entree] \n",
    "            # datasetap['Tokenization'][i]=datasetav['Tokenization'][i][:limite_entree]    \n",
    "            \n",
    "            #Si on veut garder la fin de la trajectoire :\n",
    "            indice_deb= longueur-limite_entree\n",
    "            datasetap['POLYLINE'][i]=datasetav['POLYLINE'][i][indice_deb:] \n",
    "            datasetap['Tokenization'][i]=datasetav['Tokenization'][i][indice_deb:]    \n",
    "            \n",
    "            \n",
    "    return nb"
   ]
  },
  {
   "cell_type": "code",
   "execution_count": 38,
   "id": "049afe1b",
   "metadata": {},
   "outputs": [],
   "source": [
    "#On garde des copies\n",
    "data_truncated=df.copy()"
   ]
  },
  {
   "cell_type": "code",
   "execution_count": 39,
   "id": "1a463d3a",
   "metadata": {},
   "outputs": [
    {
     "name": "stderr",
     "output_type": "stream",
     "text": [
      "C:\\Users\\fc891936\\AppData\\Local\\Temp\\ipykernel_27244\\2526360032.py:20: SettingWithCopyWarning: \n",
      "A value is trying to be set on a copy of a slice from a DataFrame\n",
      "\n",
      "See the caveats in the documentation: https://pandas.pydata.org/pandas-docs/stable/user_guide/indexing.html#returning-a-view-versus-a-copy\n",
      "  datasetap['POLYLINE'][i]=datasetav['POLYLINE'][i][indice_deb:]\n",
      "C:\\Users\\fc891936\\AppData\\Local\\Temp\\ipykernel_27244\\2526360032.py:21: SettingWithCopyWarning: \n",
      "A value is trying to be set on a copy of a slice from a DataFrame\n",
      "\n",
      "See the caveats in the documentation: https://pandas.pydata.org/pandas-docs/stable/user_guide/indexing.html#returning-a-view-versus-a-copy\n",
      "  datasetap['Tokenization'][i]=datasetav['Tokenization'][i][indice_deb:]\n"
     ]
    },
    {
     "data": {
      "text/plain": [
       "3437"
      ]
     },
     "execution_count": 39,
     "metadata": {},
     "output_type": "execute_result"
    }
   ],
   "source": [
    "#On effectue la troncature\n",
    "troncature(df,data_truncated,limite_entree)"
   ]
  },
  {
   "cell_type": "code",
   "execution_count": 40,
   "id": "1b96cda2",
   "metadata": {},
   "outputs": [
    {
     "data": {
      "text/html": [
       "<div>\n",
       "<style scoped>\n",
       "    .dataframe tbody tr th:only-of-type {\n",
       "        vertical-align: middle;\n",
       "    }\n",
       "\n",
       "    .dataframe tbody tr th {\n",
       "        vertical-align: top;\n",
       "    }\n",
       "\n",
       "    .dataframe thead th {\n",
       "        text-align: right;\n",
       "    }\n",
       "</style>\n",
       "<table border=\"1\" class=\"dataframe\">\n",
       "  <thead>\n",
       "    <tr style=\"text-align: right;\">\n",
       "      <th></th>\n",
       "      <th>TRIP_ID</th>\n",
       "      <th>CALL_TYPE</th>\n",
       "      <th>ORIGIN_CALL</th>\n",
       "      <th>ORIGIN_STAND</th>\n",
       "      <th>TAXI_ID</th>\n",
       "      <th>TIMESTAMP</th>\n",
       "      <th>DAY_TYPE</th>\n",
       "      <th>MISSING_DATA</th>\n",
       "      <th>POLYLINE</th>\n",
       "      <th>Tokenization</th>\n",
       "      <th>Nb_points</th>\n",
       "      <th>Nb_points_token</th>\n",
       "    </tr>\n",
       "  </thead>\n",
       "  <tbody>\n",
       "    <tr>\n",
       "      <th>0</th>\n",
       "      <td>1372636858620000589</td>\n",
       "      <td>C</td>\n",
       "      <td>NaN</td>\n",
       "      <td>NaN</td>\n",
       "      <td>20000589</td>\n",
       "      <td>1372636858</td>\n",
       "      <td>A</td>\n",
       "      <td>False</td>\n",
       "      <td>[[-8.618643, 41.141412], [-8.618499, 41.141376...</td>\n",
       "      <td>[8a7b63adb347fff, 8a7b63adb35ffff, 8a7b63adbad...</td>\n",
       "      <td>23</td>\n",
       "      <td>23</td>\n",
       "    </tr>\n",
       "    <tr>\n",
       "      <th>1</th>\n",
       "      <td>1372637303620000596</td>\n",
       "      <td>B</td>\n",
       "      <td>NaN</td>\n",
       "      <td>7.0</td>\n",
       "      <td>20000596</td>\n",
       "      <td>1372637303</td>\n",
       "      <td>A</td>\n",
       "      <td>False</td>\n",
       "      <td>[[-8.639847, 41.159826], [-8.640351, 41.159871...</td>\n",
       "      <td>[8a7b63ad8047fff, 8a7b63ad8047fff, 8a7b63ad814...</td>\n",
       "      <td>19</td>\n",
       "      <td>19</td>\n",
       "    </tr>\n",
       "    <tr>\n",
       "      <th>2</th>\n",
       "      <td>1372636951620000320</td>\n",
       "      <td>C</td>\n",
       "      <td>NaN</td>\n",
       "      <td>NaN</td>\n",
       "      <td>20000320</td>\n",
       "      <td>1372636951</td>\n",
       "      <td>A</td>\n",
       "      <td>False</td>\n",
       "      <td>[[-8.612964, 41.140359], [-8.613378, 41.14035]...</td>\n",
       "      <td>[8a7b63adb2cffff, 8a7b63adb2cffff, 8a7b63adb2e...</td>\n",
       "      <td>65</td>\n",
       "      <td>65</td>\n",
       "    </tr>\n",
       "    <tr>\n",
       "      <th>3</th>\n",
       "      <td>1372636854620000520</td>\n",
       "      <td>C</td>\n",
       "      <td>NaN</td>\n",
       "      <td>NaN</td>\n",
       "      <td>20000520</td>\n",
       "      <td>1372636854</td>\n",
       "      <td>A</td>\n",
       "      <td>False</td>\n",
       "      <td>[[-8.574678, 41.151951], [-8.574705, 41.151942...</td>\n",
       "      <td>[8a7b63370727fff, 8a7b63370727fff, 8a7b6337072...</td>\n",
       "      <td>43</td>\n",
       "      <td>43</td>\n",
       "    </tr>\n",
       "    <tr>\n",
       "      <th>4</th>\n",
       "      <td>1372637091620000337</td>\n",
       "      <td>C</td>\n",
       "      <td>NaN</td>\n",
       "      <td>NaN</td>\n",
       "      <td>20000337</td>\n",
       "      <td>1372637091</td>\n",
       "      <td>A</td>\n",
       "      <td>False</td>\n",
       "      <td>[[-8.645994, 41.18049], [-8.645949, 41.180517]...</td>\n",
       "      <td>[8a7b63adea37fff, 8a7b63adea37fff, 8a7b63adea0...</td>\n",
       "      <td>29</td>\n",
       "      <td>29</td>\n",
       "    </tr>\n",
       "  </tbody>\n",
       "</table>\n",
       "</div>"
      ],
      "text/plain": [
       "               TRIP_ID CALL_TYPE  ORIGIN_CALL  ORIGIN_STAND   TAXI_ID  \\\n",
       "0  1372636858620000589         C          NaN           NaN  20000589   \n",
       "1  1372637303620000596         B          NaN           7.0  20000596   \n",
       "2  1372636951620000320         C          NaN           NaN  20000320   \n",
       "3  1372636854620000520         C          NaN           NaN  20000520   \n",
       "4  1372637091620000337         C          NaN           NaN  20000337   \n",
       "\n",
       "    TIMESTAMP DAY_TYPE  MISSING_DATA  \\\n",
       "0  1372636858        A         False   \n",
       "1  1372637303        A         False   \n",
       "2  1372636951        A         False   \n",
       "3  1372636854        A         False   \n",
       "4  1372637091        A         False   \n",
       "\n",
       "                                            POLYLINE  \\\n",
       "0  [[-8.618643, 41.141412], [-8.618499, 41.141376...   \n",
       "1  [[-8.639847, 41.159826], [-8.640351, 41.159871...   \n",
       "2  [[-8.612964, 41.140359], [-8.613378, 41.14035]...   \n",
       "3  [[-8.574678, 41.151951], [-8.574705, 41.151942...   \n",
       "4  [[-8.645994, 41.18049], [-8.645949, 41.180517]...   \n",
       "\n",
       "                                        Tokenization  Nb_points  \\\n",
       "0  [8a7b63adb347fff, 8a7b63adb35ffff, 8a7b63adbad...         23   \n",
       "1  [8a7b63ad8047fff, 8a7b63ad8047fff, 8a7b63ad814...         19   \n",
       "2  [8a7b63adb2cffff, 8a7b63adb2cffff, 8a7b63adb2e...         65   \n",
       "3  [8a7b63370727fff, 8a7b63370727fff, 8a7b6337072...         43   \n",
       "4  [8a7b63adea37fff, 8a7b63adea37fff, 8a7b63adea0...         29   \n",
       "\n",
       "   Nb_points_token  \n",
       "0               23  \n",
       "1               19  \n",
       "2               65  \n",
       "3               43  \n",
       "4               29  "
      ]
     },
     "execution_count": 40,
     "metadata": {},
     "output_type": "execute_result"
    }
   ],
   "source": [
    "data_truncated.head()"
   ]
  },
  {
   "cell_type": "code",
   "execution_count": 44,
   "id": "4920ddc5",
   "metadata": {},
   "outputs": [],
   "source": [
    "#on maj le nb de points dans la trajectoire\n",
    "\n",
    "data_truncated['Nb_points'] = data_truncated['POLYLINE'].apply(lambda x: count_points(x))"
   ]
  },
  {
   "cell_type": "code",
   "execution_count": 42,
   "id": "01feb006",
   "metadata": {},
   "outputs": [
    {
     "data": {
      "text/plain": [
       "400"
      ]
     },
     "execution_count": 42,
     "metadata": {},
     "output_type": "execute_result"
    }
   ],
   "source": [
    "max(data_truncated['Nb_points'])"
   ]
  },
  {
   "cell_type": "markdown",
   "id": "896ae8cb",
   "metadata": {},
   "source": [
    "On a obtenu une version avec les trajectoires tronquées pour ne pas avoir de trajectoires trop longues."
   ]
  },
  {
   "cell_type": "markdown",
   "id": "90b5cfb9",
   "metadata": {},
   "source": [
    "## Détection de trajectoires trop courtes\n",
    "Le but est d'enlever des potentielles trajectoires de moins de 3 points."
   ]
  },
  {
   "cell_type": "code",
   "execution_count": 46,
   "id": "4cde16ad",
   "metadata": {},
   "outputs": [],
   "source": [
    "data_truncated_copy=data_truncated.copy()"
   ]
  },
  {
   "cell_type": "code",
   "execution_count": 47,
   "id": "e09d45df",
   "metadata": {},
   "outputs": [],
   "source": [
    "def liste_traj_trop_courtes(dataframe_a) :\n",
    "    index_to_remove =[]\n",
    "    for i in range(len(dataframe_a['POLYLINE'])):\n",
    "        if dataframe_a['Nb_points'][i]<3:\n",
    "            index_to_remove.append(i)\n",
    "    return index_to_remove\n",
    "    "
   ]
  },
  {
   "cell_type": "code",
   "execution_count": 48,
   "id": "7a6e5a33",
   "metadata": {},
   "outputs": [],
   "source": [
    "liste_index_a_enlever=liste_traj_trop_courtes(data_loaded)"
   ]
  },
  {
   "cell_type": "code",
   "execution_count": 49,
   "id": "257b3a19",
   "metadata": {},
   "outputs": [
    {
     "data": {
      "text/plain": [
       "43904"
      ]
     },
     "execution_count": 49,
     "metadata": {},
     "output_type": "execute_result"
    }
   ],
   "source": [
    "len(liste_index_a_enlever)"
   ]
  },
  {
   "cell_type": "code",
   "execution_count": 50,
   "id": "172a11e8",
   "metadata": {},
   "outputs": [
    {
     "data": {
      "text/plain": [
       "True"
      ]
     },
     "execution_count": 50,
     "metadata": {},
     "output_type": "execute_result"
    }
   ],
   "source": [
    "liste_traj_trop_courtes(data_loaded) == liste_traj_trop_courtes(data_truncated)"
   ]
  },
  {
   "cell_type": "code",
   "execution_count": 51,
   "id": "335ff0ab",
   "metadata": {},
   "outputs": [
    {
     "data": {
      "text/plain": [
       "(0.025664798003121585, 43904)"
      ]
     },
     "execution_count": 51,
     "metadata": {},
     "output_type": "execute_result"
    }
   ],
   "source": [
    "len(liste_index_a_enlever)/len(data_truncated.index), len(liste_index_a_enlever)"
   ]
  },
  {
   "cell_type": "code",
   "execution_count": 52,
   "id": "6d81250c",
   "metadata": {},
   "outputs": [
    {
     "data": {
      "text/plain": [
       "54"
      ]
     },
     "execution_count": 52,
     "metadata": {},
     "output_type": "execute_result"
    }
   ],
   "source": [
    "liste_index_a_enlever[0]"
   ]
  },
  {
   "cell_type": "code",
   "execution_count": 40,
   "id": "74dd2391",
   "metadata": {},
   "outputs": [
    {
     "data": {
      "text/plain": [
       "'54'"
      ]
     },
     "execution_count": 40,
     "metadata": {},
     "output_type": "execute_result"
    }
   ],
   "source": [
    "data_loaded.iloc[54].name"
   ]
  },
  {
   "cell_type": "code",
   "execution_count": 33,
   "id": "714f25e5",
   "metadata": {},
   "outputs": [
    {
     "data": {
      "text/plain": [
       "int"
      ]
     },
     "execution_count": 33,
     "metadata": {},
     "output_type": "execute_result"
    }
   ],
   "source": [
    "type(liste_index_a_enlever[0])"
   ]
  },
  {
   "cell_type": "code",
   "execution_count": 53,
   "id": "915e45d1",
   "metadata": {},
   "outputs": [],
   "source": [
    "\n",
    "def to_string_with_cote (liste):\n",
    "    for i in range(len(liste)):\n",
    "        liste[i] = str(liste[i])\n",
    "\n",
    "    return liste"
   ]
  },
  {
   "cell_type": "code",
   "execution_count": 60,
   "id": "26512fa9",
   "metadata": {},
   "outputs": [
    {
     "data": {
      "text/plain": [
       "[\"'1'\", \"'2'\", \"'3'\"]"
      ]
     },
     "execution_count": 60,
     "metadata": {},
     "output_type": "execute_result"
    }
   ],
   "source": [
    "to_string_with_cote ([1,2,3])"
   ]
  },
  {
   "cell_type": "code",
   "execution_count": 108,
   "id": "1fdcd95e",
   "metadata": {},
   "outputs": [],
   "source": [
    "def remove_traj_too_short(dataframe):\n",
    "    list_traj_to_remove = liste_traj_trop_courtes(dataframe)\n",
    "    list_traj_to_remove=to_string_with_cote(list_traj_to_remove)\n",
    "    dataframe_new=dataframe.drop(index=list_traj_to_remove)\n",
    "    \n",
    "    return dataframe_new\n",
    "    \n",
    "        "
   ]
  },
  {
   "cell_type": "code",
   "execution_count": 109,
   "id": "9fe24b74",
   "metadata": {},
   "outputs": [],
   "source": [
    "data_clean=remove_traj_too_short(data_loaded)"
   ]
  },
  {
   "cell_type": "code",
   "execution_count": 110,
   "id": "d2de466d",
   "metadata": {},
   "outputs": [],
   "source": [
    "data_clean_truncated=remove_traj_too_short(data_truncated)"
   ]
  },
  {
   "cell_type": "code",
   "execution_count": 57,
   "id": "ab2f6b8c",
   "metadata": {},
   "outputs": [
    {
     "data": {
      "text/plain": [
       "True"
      ]
     },
     "execution_count": 57,
     "metadata": {},
     "output_type": "execute_result"
    }
   ],
   "source": [
    "len(data_clean.index)==len(data_loaded.index)-len(liste_index_a_enlever)"
   ]
  },
  {
   "cell_type": "code",
   "execution_count": 69,
   "id": "67c2b2f4",
   "metadata": {},
   "outputs": [
    {
     "data": {
      "text/plain": [
       "Index(['0', '1', '2', '3', '4', '5', '6', '7', '8', '9',\n",
       "       ...\n",
       "       '427657', '427658', '427659', '427660', '427661', '427662', '427663',\n",
       "       '427664', '427665', '427666'],\n",
       "      dtype='object', length=427667)"
      ]
     },
     "execution_count": 69,
     "metadata": {},
     "output_type": "execute_result"
    }
   ],
   "source": [
    "data_loaded.index"
   ]
  },
  {
   "cell_type": "code",
   "execution_count": 59,
   "id": "8cd2ffb4",
   "metadata": {},
   "outputs": [
    {
     "data": {
      "text/plain": [
       "TRIP_ID                                          1372637230620000503\n",
       "CALL_TYPE                                                          C\n",
       "ORIGIN_CALL                                                      NaN\n",
       "ORIGIN_STAND                                                     NaN\n",
       "TAXI_ID                                                     20000503\n",
       "TIMESTAMP                                                 1372637230\n",
       "DAY_TYPE                                                           A\n",
       "MISSING_DATA                                                   False\n",
       "POLYLINE           [[-8.630568, 41.154795], [-8.63064, 41.154813]...\n",
       "Tokenization       [8a7b63adb907fff, 8a7b63adb907fff, 8a7b63adb92...\n",
       "Nb_points                                                         39\n",
       "Nb_points_token                                                   39\n",
       "Name: 55, dtype: object"
      ]
     },
     "execution_count": 59,
     "metadata": {},
     "output_type": "execute_result"
    }
   ],
   "source": [
    "data_clean.iloc[54]"
   ]
  },
  {
   "cell_type": "code",
   "execution_count": 60,
   "id": "bd03dec9",
   "metadata": {},
   "outputs": [],
   "source": [
    "# Serializing json\n",
    "json_object = json.dumps(data_clean.to_dict())\n",
    "\n",
    "# Writing to sample.json\n",
    "with open(\"train_clean.json\", \"w\") as outfile:\n",
    "    outfile.write(json_object)"
   ]
  },
  {
   "cell_type": "code",
   "execution_count": 111,
   "id": "a3bc6b0a",
   "metadata": {},
   "outputs": [],
   "source": [
    "# Serializing json\n",
    "json_object = json.dumps(data_clean_truncated.to_dict())\n",
    "\n",
    "# Writing to sample.json\n",
    "with open(\"train_clean_truncated.json\", \"w\") as outfile:\n",
    "    outfile.write(json_object)"
   ]
  },
  {
   "cell_type": "markdown",
   "id": "a34eb10d",
   "metadata": {},
   "source": [
    "## Définition des fonctions de séparation"
   ]
  },
  {
   "cell_type": "markdown",
   "id": "a3d16226",
   "metadata": {},
   "source": [
    "Pour le moment, on ne veut prédire qu'un seul point."
   ]
  },
  {
   "cell_type": "code",
   "execution_count": 33,
   "id": "3ba357b9",
   "metadata": {},
   "outputs": [],
   "source": [
    "def padding_et_sep(traj):\n",
    "    destination = traj[-1]\n",
    "    a_predire= traj[-2]\n",
    "    deb=traj[:-2] #on enleve les deux derniers /!\\ pas de = car pop modifie la liste et renvoie l'élément enlevé\n",
    "    while len(deb)<limite_entree-2:\n",
    "        deb.append('[PAD]')\n",
    "    return (deb, a_predire, destination )\n",
    "    \n"
   ]
  },
  {
   "cell_type": "code",
   "execution_count": 37,
   "id": "526b67ac",
   "metadata": {},
   "outputs": [],
   "source": [
    "traj_input, traj_target, traj_dest = separation(dataf['POLYLINE'][0])"
   ]
  },
  {
   "cell_type": "code",
   "execution_count": 38,
   "id": "85799a6f",
   "metadata": {},
   "outputs": [
    {
     "data": {
      "text/plain": [
       "398"
      ]
     },
     "execution_count": 38,
     "metadata": {},
     "output_type": "execute_result"
    }
   ],
   "source": [
    "len(traj_input)"
   ]
  },
  {
   "cell_type": "code",
   "execution_count": 39,
   "id": "3d6b731e",
   "metadata": {},
   "outputs": [
    {
     "data": {
      "text/plain": [
       "[[-8.618643, 41.141412],\n",
       " [-8.618499, 41.141376],\n",
       " [-8.620326, 41.14251],\n",
       " [-8.622153, 41.143815],\n",
       " [-8.623953, 41.144373],\n",
       " [-8.62668, 41.144778],\n",
       " [-8.627373, 41.144697],\n",
       " [-8.630226, 41.14521],\n",
       " [-8.632746, 41.14692],\n",
       " [-8.631738, 41.148225],\n",
       " [-8.629938, 41.150385],\n",
       " [-8.62911, 41.151213],\n",
       " [-8.629128, 41.15124],\n",
       " [-8.628786, 41.152203],\n",
       " [-8.628687, 41.152374],\n",
       " [-8.628759, 41.152518],\n",
       " [-8.630838, 41.15268],\n",
       " [-8.632323, 41.153022],\n",
       " [-8.631144, 41.154489],\n",
       " [-8.630829, 41.154507],\n",
       " [-8.630829, 41.154516],\n",
       " '[PAD]',\n",
       " '[PAD]',\n",
       " '[PAD]',\n",
       " '[PAD]',\n",
       " '[PAD]',\n",
       " '[PAD]',\n",
       " '[PAD]',\n",
       " '[PAD]',\n",
       " '[PAD]',\n",
       " '[PAD]',\n",
       " '[PAD]',\n",
       " '[PAD]',\n",
       " '[PAD]',\n",
       " '[PAD]',\n",
       " '[PAD]',\n",
       " '[PAD]',\n",
       " '[PAD]',\n",
       " '[PAD]',\n",
       " '[PAD]',\n",
       " '[PAD]',\n",
       " '[PAD]',\n",
       " '[PAD]',\n",
       " '[PAD]',\n",
       " '[PAD]',\n",
       " '[PAD]',\n",
       " '[PAD]',\n",
       " '[PAD]',\n",
       " '[PAD]',\n",
       " '[PAD]',\n",
       " '[PAD]',\n",
       " '[PAD]',\n",
       " '[PAD]',\n",
       " '[PAD]',\n",
       " '[PAD]',\n",
       " '[PAD]',\n",
       " '[PAD]',\n",
       " '[PAD]',\n",
       " '[PAD]',\n",
       " '[PAD]',\n",
       " '[PAD]',\n",
       " '[PAD]',\n",
       " '[PAD]',\n",
       " '[PAD]',\n",
       " '[PAD]',\n",
       " '[PAD]',\n",
       " '[PAD]',\n",
       " '[PAD]',\n",
       " '[PAD]',\n",
       " '[PAD]',\n",
       " '[PAD]',\n",
       " '[PAD]',\n",
       " '[PAD]',\n",
       " '[PAD]',\n",
       " '[PAD]',\n",
       " '[PAD]',\n",
       " '[PAD]',\n",
       " '[PAD]',\n",
       " '[PAD]',\n",
       " '[PAD]',\n",
       " '[PAD]',\n",
       " '[PAD]',\n",
       " '[PAD]',\n",
       " '[PAD]',\n",
       " '[PAD]',\n",
       " '[PAD]',\n",
       " '[PAD]',\n",
       " '[PAD]',\n",
       " '[PAD]',\n",
       " '[PAD]',\n",
       " '[PAD]',\n",
       " '[PAD]',\n",
       " '[PAD]',\n",
       " '[PAD]',\n",
       " '[PAD]',\n",
       " '[PAD]',\n",
       " '[PAD]',\n",
       " '[PAD]',\n",
       " '[PAD]',\n",
       " '[PAD]',\n",
       " '[PAD]',\n",
       " '[PAD]',\n",
       " '[PAD]',\n",
       " '[PAD]',\n",
       " '[PAD]',\n",
       " '[PAD]',\n",
       " '[PAD]',\n",
       " '[PAD]',\n",
       " '[PAD]',\n",
       " '[PAD]',\n",
       " '[PAD]',\n",
       " '[PAD]',\n",
       " '[PAD]',\n",
       " '[PAD]',\n",
       " '[PAD]',\n",
       " '[PAD]',\n",
       " '[PAD]',\n",
       " '[PAD]',\n",
       " '[PAD]',\n",
       " '[PAD]',\n",
       " '[PAD]',\n",
       " '[PAD]',\n",
       " '[PAD]',\n",
       " '[PAD]',\n",
       " '[PAD]',\n",
       " '[PAD]',\n",
       " '[PAD]',\n",
       " '[PAD]',\n",
       " '[PAD]',\n",
       " '[PAD]',\n",
       " '[PAD]',\n",
       " '[PAD]',\n",
       " '[PAD]',\n",
       " '[PAD]',\n",
       " '[PAD]',\n",
       " '[PAD]',\n",
       " '[PAD]',\n",
       " '[PAD]',\n",
       " '[PAD]',\n",
       " '[PAD]',\n",
       " '[PAD]',\n",
       " '[PAD]',\n",
       " '[PAD]',\n",
       " '[PAD]',\n",
       " '[PAD]',\n",
       " '[PAD]',\n",
       " '[PAD]',\n",
       " '[PAD]',\n",
       " '[PAD]',\n",
       " '[PAD]',\n",
       " '[PAD]',\n",
       " '[PAD]',\n",
       " '[PAD]',\n",
       " '[PAD]',\n",
       " '[PAD]',\n",
       " '[PAD]',\n",
       " '[PAD]',\n",
       " '[PAD]',\n",
       " '[PAD]',\n",
       " '[PAD]',\n",
       " '[PAD]',\n",
       " '[PAD]',\n",
       " '[PAD]',\n",
       " '[PAD]',\n",
       " '[PAD]',\n",
       " '[PAD]',\n",
       " '[PAD]',\n",
       " '[PAD]',\n",
       " '[PAD]',\n",
       " '[PAD]',\n",
       " '[PAD]',\n",
       " '[PAD]',\n",
       " '[PAD]',\n",
       " '[PAD]',\n",
       " '[PAD]',\n",
       " '[PAD]',\n",
       " '[PAD]',\n",
       " '[PAD]',\n",
       " '[PAD]',\n",
       " '[PAD]',\n",
       " '[PAD]',\n",
       " '[PAD]',\n",
       " '[PAD]',\n",
       " '[PAD]',\n",
       " '[PAD]',\n",
       " '[PAD]',\n",
       " '[PAD]',\n",
       " '[PAD]',\n",
       " '[PAD]',\n",
       " '[PAD]',\n",
       " '[PAD]',\n",
       " '[PAD]',\n",
       " '[PAD]',\n",
       " '[PAD]',\n",
       " '[PAD]',\n",
       " '[PAD]',\n",
       " '[PAD]',\n",
       " '[PAD]',\n",
       " '[PAD]',\n",
       " '[PAD]',\n",
       " '[PAD]',\n",
       " '[PAD]',\n",
       " '[PAD]',\n",
       " '[PAD]',\n",
       " '[PAD]',\n",
       " '[PAD]',\n",
       " '[PAD]',\n",
       " '[PAD]',\n",
       " '[PAD]',\n",
       " '[PAD]',\n",
       " '[PAD]',\n",
       " '[PAD]',\n",
       " '[PAD]',\n",
       " '[PAD]',\n",
       " '[PAD]',\n",
       " '[PAD]',\n",
       " '[PAD]',\n",
       " '[PAD]',\n",
       " '[PAD]',\n",
       " '[PAD]',\n",
       " '[PAD]',\n",
       " '[PAD]',\n",
       " '[PAD]',\n",
       " '[PAD]',\n",
       " '[PAD]',\n",
       " '[PAD]',\n",
       " '[PAD]',\n",
       " '[PAD]',\n",
       " '[PAD]',\n",
       " '[PAD]',\n",
       " '[PAD]',\n",
       " '[PAD]',\n",
       " '[PAD]',\n",
       " '[PAD]',\n",
       " '[PAD]',\n",
       " '[PAD]',\n",
       " '[PAD]',\n",
       " '[PAD]',\n",
       " '[PAD]',\n",
       " '[PAD]',\n",
       " '[PAD]',\n",
       " '[PAD]',\n",
       " '[PAD]',\n",
       " '[PAD]',\n",
       " '[PAD]',\n",
       " '[PAD]',\n",
       " '[PAD]',\n",
       " '[PAD]',\n",
       " '[PAD]',\n",
       " '[PAD]',\n",
       " '[PAD]',\n",
       " '[PAD]',\n",
       " '[PAD]',\n",
       " '[PAD]',\n",
       " '[PAD]',\n",
       " '[PAD]',\n",
       " '[PAD]',\n",
       " '[PAD]',\n",
       " '[PAD]',\n",
       " '[PAD]',\n",
       " '[PAD]',\n",
       " '[PAD]',\n",
       " '[PAD]',\n",
       " '[PAD]',\n",
       " '[PAD]',\n",
       " '[PAD]',\n",
       " '[PAD]',\n",
       " '[PAD]',\n",
       " '[PAD]',\n",
       " '[PAD]',\n",
       " '[PAD]',\n",
       " '[PAD]',\n",
       " '[PAD]',\n",
       " '[PAD]',\n",
       " '[PAD]',\n",
       " '[PAD]',\n",
       " '[PAD]',\n",
       " '[PAD]',\n",
       " '[PAD]',\n",
       " '[PAD]',\n",
       " '[PAD]',\n",
       " '[PAD]',\n",
       " '[PAD]',\n",
       " '[PAD]',\n",
       " '[PAD]',\n",
       " '[PAD]',\n",
       " '[PAD]',\n",
       " '[PAD]',\n",
       " '[PAD]',\n",
       " '[PAD]',\n",
       " '[PAD]',\n",
       " '[PAD]',\n",
       " '[PAD]',\n",
       " '[PAD]',\n",
       " '[PAD]',\n",
       " '[PAD]',\n",
       " '[PAD]',\n",
       " '[PAD]',\n",
       " '[PAD]',\n",
       " '[PAD]',\n",
       " '[PAD]',\n",
       " '[PAD]',\n",
       " '[PAD]',\n",
       " '[PAD]',\n",
       " '[PAD]',\n",
       " '[PAD]',\n",
       " '[PAD]',\n",
       " '[PAD]',\n",
       " '[PAD]',\n",
       " '[PAD]',\n",
       " '[PAD]',\n",
       " '[PAD]',\n",
       " '[PAD]',\n",
       " '[PAD]',\n",
       " '[PAD]',\n",
       " '[PAD]',\n",
       " '[PAD]',\n",
       " '[PAD]',\n",
       " '[PAD]',\n",
       " '[PAD]',\n",
       " '[PAD]',\n",
       " '[PAD]',\n",
       " '[PAD]',\n",
       " '[PAD]',\n",
       " '[PAD]',\n",
       " '[PAD]',\n",
       " '[PAD]',\n",
       " '[PAD]',\n",
       " '[PAD]',\n",
       " '[PAD]',\n",
       " '[PAD]',\n",
       " '[PAD]',\n",
       " '[PAD]',\n",
       " '[PAD]',\n",
       " '[PAD]',\n",
       " '[PAD]',\n",
       " '[PAD]',\n",
       " '[PAD]',\n",
       " '[PAD]',\n",
       " '[PAD]',\n",
       " '[PAD]',\n",
       " '[PAD]',\n",
       " '[PAD]',\n",
       " '[PAD]',\n",
       " '[PAD]',\n",
       " '[PAD]',\n",
       " '[PAD]',\n",
       " '[PAD]',\n",
       " '[PAD]',\n",
       " '[PAD]',\n",
       " '[PAD]',\n",
       " '[PAD]',\n",
       " '[PAD]',\n",
       " '[PAD]',\n",
       " '[PAD]',\n",
       " '[PAD]',\n",
       " '[PAD]',\n",
       " '[PAD]',\n",
       " '[PAD]',\n",
       " '[PAD]',\n",
       " '[PAD]',\n",
       " '[PAD]',\n",
       " '[PAD]',\n",
       " '[PAD]',\n",
       " '[PAD]',\n",
       " '[PAD]',\n",
       " '[PAD]',\n",
       " '[PAD]',\n",
       " '[PAD]',\n",
       " '[PAD]',\n",
       " '[PAD]',\n",
       " '[PAD]',\n",
       " '[PAD]',\n",
       " '[PAD]',\n",
       " '[PAD]',\n",
       " '[PAD]',\n",
       " '[PAD]',\n",
       " '[PAD]',\n",
       " '[PAD]',\n",
       " '[PAD]',\n",
       " '[PAD]',\n",
       " '[PAD]',\n",
       " '[PAD]',\n",
       " '[PAD]',\n",
       " '[PAD]',\n",
       " '[PAD]',\n",
       " '[PAD]',\n",
       " '[PAD]',\n",
       " '[PAD]',\n",
       " '[PAD]',\n",
       " '[PAD]',\n",
       " '[PAD]',\n",
       " '[PAD]',\n",
       " '[PAD]',\n",
       " '[PAD]',\n",
       " '[PAD]',\n",
       " '[PAD]',\n",
       " '[PAD]']"
      ]
     },
     "execution_count": 39,
     "metadata": {},
     "output_type": "execute_result"
    }
   ],
   "source": [
    "traj_input"
   ]
  },
  {
   "cell_type": "code",
   "execution_count": 40,
   "id": "f59725a1",
   "metadata": {},
   "outputs": [
    {
     "data": {
      "text/plain": [
       "([-8.630829, 41.154498], [-8.630838, 41.154489])"
      ]
     },
     "execution_count": 40,
     "metadata": {},
     "output_type": "execute_result"
    }
   ],
   "source": [
    "traj_target , traj_dest"
   ]
  },
  {
   "cell_type": "code",
   "execution_count": 204,
   "id": "6a534593",
   "metadata": {},
   "outputs": [
    {
     "ename": "IndexError",
     "evalue": "list index out of range",
     "output_type": "error",
     "traceback": [
      "\u001b[1;31m---------------------------------------------------------------------------\u001b[0m",
      "\u001b[1;31mIndexError\u001b[0m                                Traceback (most recent call last)",
      "Input \u001b[1;32mIn [204]\u001b[0m, in \u001b[0;36m<cell line: 1>\u001b[1;34m()\u001b[0m\n\u001b[1;32m----> 1\u001b[0m df_to_load[\u001b[38;5;124m'\u001b[39m\u001b[38;5;124mtraj_input\u001b[39m\u001b[38;5;124m'\u001b[39m],df_to_load[\u001b[38;5;124m'\u001b[39m\u001b[38;5;124mtraj_target\u001b[39m\u001b[38;5;124m'\u001b[39m],df_to_load[\u001b[38;5;124m'\u001b[39m\u001b[38;5;124mtraj_dest\u001b[39m\u001b[38;5;124m'\u001b[39m]\u001b[38;5;241m=\u001b[39m\u001b[43mdataf\u001b[49m\u001b[43m[\u001b[49m\u001b[38;5;124;43m'\u001b[39;49m\u001b[38;5;124;43mPOLYLINE\u001b[39;49m\u001b[38;5;124;43m'\u001b[39;49m\u001b[43m]\u001b[49m\u001b[38;5;241;43m.\u001b[39;49m\u001b[43mapply\u001b[49m\u001b[43m(\u001b[49m\u001b[38;5;28;43;01mlambda\u001b[39;49;00m\u001b[43m \u001b[49m\u001b[43mx\u001b[49m\u001b[43m:\u001b[49m\u001b[43m \u001b[49m\u001b[43mseparation\u001b[49m\u001b[43m(\u001b[49m\u001b[43mx\u001b[49m\u001b[43m)\u001b[49m\u001b[43m)\u001b[49m\n",
      "File \u001b[1;32mC:\\ProgramData\\Anaconda3\\lib\\site-packages\\pandas\\core\\series.py:4433\u001b[0m, in \u001b[0;36mSeries.apply\u001b[1;34m(self, func, convert_dtype, args, **kwargs)\u001b[0m\n\u001b[0;32m   4323\u001b[0m \u001b[38;5;28;01mdef\u001b[39;00m \u001b[38;5;21mapply\u001b[39m(\n\u001b[0;32m   4324\u001b[0m     \u001b[38;5;28mself\u001b[39m,\n\u001b[0;32m   4325\u001b[0m     func: AggFuncType,\n\u001b[1;32m   (...)\u001b[0m\n\u001b[0;32m   4328\u001b[0m     \u001b[38;5;241m*\u001b[39m\u001b[38;5;241m*\u001b[39mkwargs,\n\u001b[0;32m   4329\u001b[0m ) \u001b[38;5;241m-\u001b[39m\u001b[38;5;241m>\u001b[39m DataFrame \u001b[38;5;241m|\u001b[39m Series:\n\u001b[0;32m   4330\u001b[0m     \u001b[38;5;124;03m\"\"\"\u001b[39;00m\n\u001b[0;32m   4331\u001b[0m \u001b[38;5;124;03m    Invoke function on values of Series.\u001b[39;00m\n\u001b[0;32m   4332\u001b[0m \n\u001b[1;32m   (...)\u001b[0m\n\u001b[0;32m   4431\u001b[0m \u001b[38;5;124;03m    dtype: float64\u001b[39;00m\n\u001b[0;32m   4432\u001b[0m \u001b[38;5;124;03m    \"\"\"\u001b[39;00m\n\u001b[1;32m-> 4433\u001b[0m     \u001b[38;5;28;01mreturn\u001b[39;00m \u001b[43mSeriesApply\u001b[49m\u001b[43m(\u001b[49m\u001b[38;5;28;43mself\u001b[39;49m\u001b[43m,\u001b[49m\u001b[43m \u001b[49m\u001b[43mfunc\u001b[49m\u001b[43m,\u001b[49m\u001b[43m \u001b[49m\u001b[43mconvert_dtype\u001b[49m\u001b[43m,\u001b[49m\u001b[43m \u001b[49m\u001b[43margs\u001b[49m\u001b[43m,\u001b[49m\u001b[43m \u001b[49m\u001b[43mkwargs\u001b[49m\u001b[43m)\u001b[49m\u001b[38;5;241;43m.\u001b[39;49m\u001b[43mapply\u001b[49m\u001b[43m(\u001b[49m\u001b[43m)\u001b[49m\n",
      "File \u001b[1;32mC:\\ProgramData\\Anaconda3\\lib\\site-packages\\pandas\\core\\apply.py:1082\u001b[0m, in \u001b[0;36mSeriesApply.apply\u001b[1;34m(self)\u001b[0m\n\u001b[0;32m   1078\u001b[0m \u001b[38;5;28;01mif\u001b[39;00m \u001b[38;5;28misinstance\u001b[39m(\u001b[38;5;28mself\u001b[39m\u001b[38;5;241m.\u001b[39mf, \u001b[38;5;28mstr\u001b[39m):\n\u001b[0;32m   1079\u001b[0m     \u001b[38;5;66;03m# if we are a string, try to dispatch\u001b[39;00m\n\u001b[0;32m   1080\u001b[0m     \u001b[38;5;28;01mreturn\u001b[39;00m \u001b[38;5;28mself\u001b[39m\u001b[38;5;241m.\u001b[39mapply_str()\n\u001b[1;32m-> 1082\u001b[0m \u001b[38;5;28;01mreturn\u001b[39;00m \u001b[38;5;28;43mself\u001b[39;49m\u001b[38;5;241;43m.\u001b[39;49m\u001b[43mapply_standard\u001b[49m\u001b[43m(\u001b[49m\u001b[43m)\u001b[49m\n",
      "File \u001b[1;32mC:\\ProgramData\\Anaconda3\\lib\\site-packages\\pandas\\core\\apply.py:1137\u001b[0m, in \u001b[0;36mSeriesApply.apply_standard\u001b[1;34m(self)\u001b[0m\n\u001b[0;32m   1131\u001b[0m         values \u001b[38;5;241m=\u001b[39m obj\u001b[38;5;241m.\u001b[39mastype(\u001b[38;5;28mobject\u001b[39m)\u001b[38;5;241m.\u001b[39m_values\n\u001b[0;32m   1132\u001b[0m         \u001b[38;5;66;03m# error: Argument 2 to \"map_infer\" has incompatible type\u001b[39;00m\n\u001b[0;32m   1133\u001b[0m         \u001b[38;5;66;03m# \"Union[Callable[..., Any], str, List[Union[Callable[..., Any], str]],\u001b[39;00m\n\u001b[0;32m   1134\u001b[0m         \u001b[38;5;66;03m# Dict[Hashable, Union[Union[Callable[..., Any], str],\u001b[39;00m\n\u001b[0;32m   1135\u001b[0m         \u001b[38;5;66;03m# List[Union[Callable[..., Any], str]]]]]\"; expected\u001b[39;00m\n\u001b[0;32m   1136\u001b[0m         \u001b[38;5;66;03m# \"Callable[[Any], Any]\"\u001b[39;00m\n\u001b[1;32m-> 1137\u001b[0m         mapped \u001b[38;5;241m=\u001b[39m \u001b[43mlib\u001b[49m\u001b[38;5;241;43m.\u001b[39;49m\u001b[43mmap_infer\u001b[49m\u001b[43m(\u001b[49m\n\u001b[0;32m   1138\u001b[0m \u001b[43m            \u001b[49m\u001b[43mvalues\u001b[49m\u001b[43m,\u001b[49m\n\u001b[0;32m   1139\u001b[0m \u001b[43m            \u001b[49m\u001b[43mf\u001b[49m\u001b[43m,\u001b[49m\u001b[43m  \u001b[49m\u001b[38;5;66;43;03m# type: ignore[arg-type]\u001b[39;49;00m\n\u001b[0;32m   1140\u001b[0m \u001b[43m            \u001b[49m\u001b[43mconvert\u001b[49m\u001b[38;5;241;43m=\u001b[39;49m\u001b[38;5;28;43mself\u001b[39;49m\u001b[38;5;241;43m.\u001b[39;49m\u001b[43mconvert_dtype\u001b[49m\u001b[43m,\u001b[49m\n\u001b[0;32m   1141\u001b[0m \u001b[43m        \u001b[49m\u001b[43m)\u001b[49m\n\u001b[0;32m   1143\u001b[0m \u001b[38;5;28;01mif\u001b[39;00m \u001b[38;5;28mlen\u001b[39m(mapped) \u001b[38;5;129;01mand\u001b[39;00m \u001b[38;5;28misinstance\u001b[39m(mapped[\u001b[38;5;241m0\u001b[39m], ABCSeries):\n\u001b[0;32m   1144\u001b[0m     \u001b[38;5;66;03m# GH#43986 Need to do list(mapped) in order to get treated as nested\u001b[39;00m\n\u001b[0;32m   1145\u001b[0m     \u001b[38;5;66;03m#  See also GH#25959 regarding EA support\u001b[39;00m\n\u001b[0;32m   1146\u001b[0m     \u001b[38;5;28;01mreturn\u001b[39;00m obj\u001b[38;5;241m.\u001b[39m_constructor_expanddim(\u001b[38;5;28mlist\u001b[39m(mapped), index\u001b[38;5;241m=\u001b[39mobj\u001b[38;5;241m.\u001b[39mindex)\n",
      "File \u001b[1;32mC:\\ProgramData\\Anaconda3\\lib\\site-packages\\pandas\\_libs\\lib.pyx:2870\u001b[0m, in \u001b[0;36mpandas._libs.lib.map_infer\u001b[1;34m()\u001b[0m\n",
      "Input \u001b[1;32mIn [204]\u001b[0m, in \u001b[0;36m<lambda>\u001b[1;34m(x)\u001b[0m\n\u001b[1;32m----> 1\u001b[0m df_to_load[\u001b[38;5;124m'\u001b[39m\u001b[38;5;124mtraj_input\u001b[39m\u001b[38;5;124m'\u001b[39m],df_to_load[\u001b[38;5;124m'\u001b[39m\u001b[38;5;124mtraj_target\u001b[39m\u001b[38;5;124m'\u001b[39m],df_to_load[\u001b[38;5;124m'\u001b[39m\u001b[38;5;124mtraj_dest\u001b[39m\u001b[38;5;124m'\u001b[39m]\u001b[38;5;241m=\u001b[39mdataf[\u001b[38;5;124m'\u001b[39m\u001b[38;5;124mPOLYLINE\u001b[39m\u001b[38;5;124m'\u001b[39m]\u001b[38;5;241m.\u001b[39mapply(\u001b[38;5;28;01mlambda\u001b[39;00m x: \u001b[43mseparation\u001b[49m\u001b[43m(\u001b[49m\u001b[43mx\u001b[49m\u001b[43m)\u001b[49m)\n",
      "Input \u001b[1;32mIn [198]\u001b[0m, in \u001b[0;36mseparation\u001b[1;34m(traj)\u001b[0m\n\u001b[0;32m      1\u001b[0m \u001b[38;5;28;01mdef\u001b[39;00m \u001b[38;5;21mseparation\u001b[39m(traj):\n\u001b[0;32m      2\u001b[0m     destination \u001b[38;5;241m=\u001b[39m traj[\u001b[38;5;241m-\u001b[39m\u001b[38;5;241m1\u001b[39m]\n\u001b[1;32m----> 3\u001b[0m     a_predire\u001b[38;5;241m=\u001b[39m \u001b[43mtraj\u001b[49m\u001b[43m[\u001b[49m\u001b[38;5;241;43m-\u001b[39;49m\u001b[38;5;241;43m2\u001b[39;49m\u001b[43m]\u001b[49m\n\u001b[0;32m      4\u001b[0m     deb\u001b[38;5;241m=\u001b[39mtraj[:\u001b[38;5;241m-\u001b[39m\u001b[38;5;241m2\u001b[39m] \u001b[38;5;66;03m#on enleve les deux derniers /!\\ pas de = car pop modifie la liste et renvoie l'élément enlevé\u001b[39;00m\n\u001b[0;32m      5\u001b[0m     \u001b[38;5;28;01mwhile\u001b[39;00m \u001b[38;5;28mlen\u001b[39m(deb)\u001b[38;5;241m<\u001b[39mlimite_entree\u001b[38;5;241m-\u001b[39m\u001b[38;5;241m2\u001b[39m:\n",
      "\u001b[1;31mIndexError\u001b[0m: list index out of range"
     ]
    }
   ],
   "source": [
    "df_to_load['traj_input'],df_to_load['traj_target'],df_to_load['traj_dest']=dataf['POLYLINE'].apply(lambda x: separation(x))"
   ]
  },
  {
   "cell_type": "code",
   "execution_count": null,
   "id": "0bf72307",
   "metadata": {},
   "outputs": [],
   "source": []
  }
 ],
 "metadata": {
  "kernelspec": {
   "display_name": "Python 3 (ipykernel)",
   "language": "python",
   "name": "python3"
  },
  "language_info": {
   "codemirror_mode": {
    "name": "ipython",
    "version": 3
   },
   "file_extension": ".py",
   "mimetype": "text/x-python",
   "name": "python",
   "nbconvert_exporter": "python",
   "pygments_lexer": "ipython3",
   "version": "3.9.12"
  }
 },
 "nbformat": 4,
 "nbformat_minor": 5
}
