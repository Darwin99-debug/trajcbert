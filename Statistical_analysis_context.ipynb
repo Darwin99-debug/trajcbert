{
 "cells": [
  {
   "attachments": {},
   "cell_type": "markdown",
   "id": "c61bc518",
   "metadata": {},
   "source": [
    "# Imports"
   ]
  },
  {
   "cell_type": "code",
   "execution_count": 1,
   "id": "c23ed4e9",
   "metadata": {},
   "outputs": [
    {
     "name": "stdout",
     "output_type": "stream",
     "text": [
      "Defaulting to user installation because normal site-packages is not writeable\n",
      "Requirement already satisfied: pandas in c:\\programdata\\anaconda3\\lib\\site-packages (1.4.2)\n",
      "Requirement already satisfied: numpy>=1.18.5 in c:\\programdata\\anaconda3\\lib\\site-packages (from pandas) (1.21.5)\n",
      "Requirement already satisfied: python-dateutil>=2.8.1 in c:\\programdata\\anaconda3\\lib\\site-packages (from pandas) (2.8.2)\n",
      "Requirement already satisfied: pytz>=2020.1 in c:\\programdata\\anaconda3\\lib\\site-packages (from pandas) (2021.3)\n",
      "Requirement already satisfied: six>=1.5 in c:\\programdata\\anaconda3\\lib\\site-packages (from python-dateutil>=2.8.1->pandas) (1.16.0)\n"
     ]
    }
   ],
   "source": [
    "!pip install pandas\n",
    "import numpy as np\n",
    "import pandas as pd\n",
    "from numpy import genfromtxt\n",
    "import matplotlib.pyplot as plt\n",
    "import ast\n",
    "import json"
   ]
  },
  {
   "cell_type": "code",
   "execution_count": 2,
   "id": "0aaa80c9",
   "metadata": {},
   "outputs": [
    {
     "data": {
      "text/plain": [
       "4"
      ]
     },
     "execution_count": 2,
     "metadata": {},
     "output_type": "execute_result"
    }
   ],
   "source": [
    "import gc \n",
    "gc.collect()"
   ]
  },
  {
   "cell_type": "code",
   "execution_count": 3,
   "id": "5e090b19",
   "metadata": {},
   "outputs": [],
   "source": [
    "import statistics as stat"
   ]
  },
  {
   "attachments": {},
   "cell_type": "markdown",
   "id": "1df280d9",
   "metadata": {},
   "source": [
    "# Chargement des données"
   ]
  },
  {
   "attachments": {},
   "cell_type": "markdown",
   "id": "9cdee31d",
   "metadata": {},
   "source": [
    "Ici pour l'instant on teste sur une version raccourcie du jeu de données sinon c'est trop long. "
   ]
  },
  {
   "cell_type": "code",
   "execution_count": 4,
   "id": "4d3dd7ff",
   "metadata": {},
   "outputs": [
    {
     "name": "stdout",
     "output_type": "stream",
     "text": [
      "<class 'dict'>\n"
     ]
    }
   ],
   "source": [
    "# Opening JSON file small version\n",
    "#with open('train_porto_tokenized_small_1st_partV2.json', 'r') as openfile:\n",
    "# Opening JSON file full version\n",
    "with open('/home/daril_kw/data/02.06.23/train_clean_truncated.json', 'r') as openfile:\n",
    "\n",
    " \n",
    "    # Reading from json file\n",
    "    json_loaded = json.load(openfile)\n",
    " \n",
    "# print(json_loaded)\n",
    "print(type(json_loaded))"
   ]
  },
  {
   "cell_type": "code",
   "execution_count": null,
   "id": "c756a323",
   "metadata": {},
   "outputs": [],
   "source": [
    "with open('/home/daril_kw/data/02.06.23/train_clean_truncated.json', 'r') as openfile:\n",
    "\n",
    " \n",
    "    \n",
    "    json_loaded = json.load(openfile)\n",
    " \n",
    "\n",
    "print(type(json_loaded))"
   ]
  },
  {
   "attachments": {},
   "cell_type": "markdown",
   "id": "9f3e4c1a",
   "metadata": {},
   "source": [
    "On met en dataframe les données chargées."
   ]
  },
  {
   "cell_type": "code",
   "execution_count": 5,
   "id": "a79d98a9",
   "metadata": {},
   "outputs": [],
   "source": [
    "data_clean_truncated = pd.DataFrame(data=json_loaded)"
   ]
  },
  {
   "attachments": {},
   "cell_type": "markdown",
   "id": "54a238a9",
   "metadata": {},
   "source": [
    "On vérifie la tête de nos données et leur type :"
   ]
  },
  {
   "cell_type": "code",
   "execution_count": 6,
   "id": "0e4c8706",
   "metadata": {},
   "outputs": [
    {
     "name": "stdout",
     "output_type": "stream",
     "text": [
      "<class 'pandas.core.frame.DataFrame'>\n",
      "Index: 1666766 entries, 0 to 1710669\n",
      "Data columns (total 12 columns):\n",
      " #   Column           Non-Null Count    Dtype  \n",
      "---  ------           --------------    -----  \n",
      " 0   TRIP_ID          1666766 non-null  int64  \n",
      " 1   CALL_TYPE        1666766 non-null  object \n",
      " 2   ORIGIN_CALL      362170 non-null   float64\n",
      " 3   ORIGIN_STAND     796269 non-null   float64\n",
      " 4   TAXI_ID          1666766 non-null  int64  \n",
      " 5   TIMESTAMP        1666766 non-null  int64  \n",
      " 6   DAY_TYPE         1666766 non-null  object \n",
      " 7   MISSING_DATA     1666766 non-null  bool   \n",
      " 8   POLYLINE         1666766 non-null  object \n",
      " 9   Tokenization     1666766 non-null  object \n",
      " 10  Nb_points        1666766 non-null  int64  \n",
      " 11  Nb_points_token  1666766 non-null  int64  \n",
      "dtypes: bool(1), float64(2), int64(5), object(4)\n",
      "memory usage: 154.2+ MB\n"
     ]
    }
   ],
   "source": [
    "data_clean_truncated.info()"
   ]
  },
  {
   "cell_type": "code",
   "execution_count": 48,
   "id": "8324329d",
   "metadata": {},
   "outputs": [
    {
     "data": {
      "text/html": [
       "<div>\n",
       "<style scoped>\n",
       "    .dataframe tbody tr th:only-of-type {\n",
       "        vertical-align: middle;\n",
       "    }\n",
       "\n",
       "    .dataframe tbody tr th {\n",
       "        vertical-align: top;\n",
       "    }\n",
       "\n",
       "    .dataframe thead th {\n",
       "        text-align: right;\n",
       "    }\n",
       "</style>\n",
       "<table border=\"1\" class=\"dataframe\">\n",
       "  <thead>\n",
       "    <tr style=\"text-align: right;\">\n",
       "      <th></th>\n",
       "      <th>TRIP_ID</th>\n",
       "      <th>CALL_TYPE</th>\n",
       "      <th>ORIGIN_CALL</th>\n",
       "      <th>ORIGIN_STAND</th>\n",
       "      <th>TAXI_ID</th>\n",
       "      <th>TIMESTAMP</th>\n",
       "      <th>DAY_TYPE</th>\n",
       "      <th>MISSING_DATA</th>\n",
       "      <th>POLYLINE</th>\n",
       "      <th>Tokenization</th>\n",
       "      <th>Nb_points</th>\n",
       "    </tr>\n",
       "  </thead>\n",
       "  <tbody>\n",
       "    <tr>\n",
       "      <th>0</th>\n",
       "      <td>1372636858620000589</td>\n",
       "      <td>C</td>\n",
       "      <td>NaN</td>\n",
       "      <td>NaN</td>\n",
       "      <td>20000589</td>\n",
       "      <td>1372636858</td>\n",
       "      <td>A</td>\n",
       "      <td>False</td>\n",
       "      <td>[[-8.618643, 41.141412], [-8.618499, 41.141376...</td>\n",
       "      <td>[8a7b63adb347fff, 8a7b63adb35ffff, 8a7b63adbad...</td>\n",
       "      <td>23</td>\n",
       "    </tr>\n",
       "    <tr>\n",
       "      <th>1</th>\n",
       "      <td>1372637303620000596</td>\n",
       "      <td>B</td>\n",
       "      <td>NaN</td>\n",
       "      <td>7.0</td>\n",
       "      <td>20000596</td>\n",
       "      <td>1372637303</td>\n",
       "      <td>A</td>\n",
       "      <td>False</td>\n",
       "      <td>[[-8.639847, 41.159826], [-8.640351, 41.159871...</td>\n",
       "      <td>[8a7b63ad8047fff, 8a7b63ad8047fff, 8a7b63ad814...</td>\n",
       "      <td>19</td>\n",
       "    </tr>\n",
       "    <tr>\n",
       "      <th>2</th>\n",
       "      <td>1372636951620000320</td>\n",
       "      <td>C</td>\n",
       "      <td>NaN</td>\n",
       "      <td>NaN</td>\n",
       "      <td>20000320</td>\n",
       "      <td>1372636951</td>\n",
       "      <td>A</td>\n",
       "      <td>False</td>\n",
       "      <td>[[-8.612964, 41.140359], [-8.613378, 41.14035]...</td>\n",
       "      <td>[8a7b63adb2cffff, 8a7b63adb2cffff, 8a7b63adb2e...</td>\n",
       "      <td>65</td>\n",
       "    </tr>\n",
       "    <tr>\n",
       "      <th>3</th>\n",
       "      <td>1372636854620000520</td>\n",
       "      <td>C</td>\n",
       "      <td>NaN</td>\n",
       "      <td>NaN</td>\n",
       "      <td>20000520</td>\n",
       "      <td>1372636854</td>\n",
       "      <td>A</td>\n",
       "      <td>False</td>\n",
       "      <td>[[-8.574678, 41.151951], [-8.574705, 41.151942...</td>\n",
       "      <td>[8a7b63370727fff, 8a7b63370727fff, 8a7b6337072...</td>\n",
       "      <td>43</td>\n",
       "    </tr>\n",
       "    <tr>\n",
       "      <th>4</th>\n",
       "      <td>1372637091620000337</td>\n",
       "      <td>C</td>\n",
       "      <td>NaN</td>\n",
       "      <td>NaN</td>\n",
       "      <td>20000337</td>\n",
       "      <td>1372637091</td>\n",
       "      <td>A</td>\n",
       "      <td>False</td>\n",
       "      <td>[[-8.645994, 41.18049], [-8.645949, 41.180517]...</td>\n",
       "      <td>[8a7b63adea37fff, 8a7b63adea37fff, 8a7b63adea0...</td>\n",
       "      <td>29</td>\n",
       "    </tr>\n",
       "    <tr>\n",
       "      <th>...</th>\n",
       "      <td>...</td>\n",
       "      <td>...</td>\n",
       "      <td>...</td>\n",
       "      <td>...</td>\n",
       "      <td>...</td>\n",
       "      <td>...</td>\n",
       "      <td>...</td>\n",
       "      <td>...</td>\n",
       "      <td>...</td>\n",
       "      <td>...</td>\n",
       "      <td>...</td>\n",
       "    </tr>\n",
       "    <tr>\n",
       "      <th>1710663</th>\n",
       "      <td>1388660427620000585</td>\n",
       "      <td>C</td>\n",
       "      <td>NaN</td>\n",
       "      <td>NaN</td>\n",
       "      <td>20000585</td>\n",
       "      <td>1388660427</td>\n",
       "      <td>A</td>\n",
       "      <td>False</td>\n",
       "      <td>[[-8.60697, 41.162283], [-8.60697, 41.16231], ...</td>\n",
       "      <td>[8a7b63374857fff, 8a7b63374857fff, 8a7b6337485...</td>\n",
       "      <td>194</td>\n",
       "    </tr>\n",
       "    <tr>\n",
       "      <th>1710665</th>\n",
       "      <td>1404171463620000698</td>\n",
       "      <td>C</td>\n",
       "      <td>NaN</td>\n",
       "      <td>NaN</td>\n",
       "      <td>20000698</td>\n",
       "      <td>1404171463</td>\n",
       "      <td>A</td>\n",
       "      <td>False</td>\n",
       "      <td>[[-8.612469, 41.14602], [-8.612487, 41.145993]...</td>\n",
       "      <td>[8a7b63adb297fff, 8a7b63adb297fff, 8a7b63adb29...</td>\n",
       "      <td>32</td>\n",
       "    </tr>\n",
       "    <tr>\n",
       "      <th>1710666</th>\n",
       "      <td>1404171367620000670</td>\n",
       "      <td>C</td>\n",
       "      <td>NaN</td>\n",
       "      <td>NaN</td>\n",
       "      <td>20000670</td>\n",
       "      <td>1404171367</td>\n",
       "      <td>A</td>\n",
       "      <td>False</td>\n",
       "      <td>[[-8.610138, 41.140845], [-8.610174, 41.140935...</td>\n",
       "      <td>[8a7b63375957fff, 8a7b63375957fff, 8a7b63adb2c...</td>\n",
       "      <td>30</td>\n",
       "    </tr>\n",
       "    <tr>\n",
       "      <th>1710668</th>\n",
       "      <td>1404141826620000248</td>\n",
       "      <td>B</td>\n",
       "      <td>NaN</td>\n",
       "      <td>12.0</td>\n",
       "      <td>20000248</td>\n",
       "      <td>1404141826</td>\n",
       "      <td>A</td>\n",
       "      <td>False</td>\n",
       "      <td>[[-8.630712, 41.154885], [-8.63073, 41.154813]...</td>\n",
       "      <td>[8a7b63adb907fff, 8a7b63adb907fff, 8a7b63adb90...</td>\n",
       "      <td>62</td>\n",
       "    </tr>\n",
       "    <tr>\n",
       "      <th>1710669</th>\n",
       "      <td>1404157147620000079</td>\n",
       "      <td>B</td>\n",
       "      <td>NaN</td>\n",
       "      <td>34.0</td>\n",
       "      <td>20000079</td>\n",
       "      <td>1404157147</td>\n",
       "      <td>A</td>\n",
       "      <td>False</td>\n",
       "      <td>[[-8.615538, 41.140629], [-8.615421, 41.140746...</td>\n",
       "      <td>[8a7b63adb257fff, 8a7b63adb257fff, 8a7b63adb25...</td>\n",
       "      <td>27</td>\n",
       "    </tr>\n",
       "  </tbody>\n",
       "</table>\n",
       "<p>1666766 rows × 11 columns</p>\n",
       "</div>"
      ],
      "text/plain": [
       "                     TRIP_ID CALL_TYPE  ORIGIN_CALL  ORIGIN_STAND   TAXI_ID  \\\n",
       "0        1372636858620000589         C          NaN           NaN  20000589   \n",
       "1        1372637303620000596         B          NaN           7.0  20000596   \n",
       "2        1372636951620000320         C          NaN           NaN  20000320   \n",
       "3        1372636854620000520         C          NaN           NaN  20000520   \n",
       "4        1372637091620000337         C          NaN           NaN  20000337   \n",
       "...                      ...       ...          ...           ...       ...   \n",
       "1710663  1388660427620000585         C          NaN           NaN  20000585   \n",
       "1710665  1404171463620000698         C          NaN           NaN  20000698   \n",
       "1710666  1404171367620000670         C          NaN           NaN  20000670   \n",
       "1710668  1404141826620000248         B          NaN          12.0  20000248   \n",
       "1710669  1404157147620000079         B          NaN          34.0  20000079   \n",
       "\n",
       "          TIMESTAMP DAY_TYPE  MISSING_DATA  \\\n",
       "0        1372636858        A         False   \n",
       "1        1372637303        A         False   \n",
       "2        1372636951        A         False   \n",
       "3        1372636854        A         False   \n",
       "4        1372637091        A         False   \n",
       "...             ...      ...           ...   \n",
       "1710663  1388660427        A         False   \n",
       "1710665  1404171463        A         False   \n",
       "1710666  1404171367        A         False   \n",
       "1710668  1404141826        A         False   \n",
       "1710669  1404157147        A         False   \n",
       "\n",
       "                                                  POLYLINE  \\\n",
       "0        [[-8.618643, 41.141412], [-8.618499, 41.141376...   \n",
       "1        [[-8.639847, 41.159826], [-8.640351, 41.159871...   \n",
       "2        [[-8.612964, 41.140359], [-8.613378, 41.14035]...   \n",
       "3        [[-8.574678, 41.151951], [-8.574705, 41.151942...   \n",
       "4        [[-8.645994, 41.18049], [-8.645949, 41.180517]...   \n",
       "...                                                    ...   \n",
       "1710663  [[-8.60697, 41.162283], [-8.60697, 41.16231], ...   \n",
       "1710665  [[-8.612469, 41.14602], [-8.612487, 41.145993]...   \n",
       "1710666  [[-8.610138, 41.140845], [-8.610174, 41.140935...   \n",
       "1710668  [[-8.630712, 41.154885], [-8.63073, 41.154813]...   \n",
       "1710669  [[-8.615538, 41.140629], [-8.615421, 41.140746...   \n",
       "\n",
       "                                              Tokenization  Nb_points  \n",
       "0        [8a7b63adb347fff, 8a7b63adb35ffff, 8a7b63adbad...         23  \n",
       "1        [8a7b63ad8047fff, 8a7b63ad8047fff, 8a7b63ad814...         19  \n",
       "2        [8a7b63adb2cffff, 8a7b63adb2cffff, 8a7b63adb2e...         65  \n",
       "3        [8a7b63370727fff, 8a7b63370727fff, 8a7b6337072...         43  \n",
       "4        [8a7b63adea37fff, 8a7b63adea37fff, 8a7b63adea0...         29  \n",
       "...                                                    ...        ...  \n",
       "1710663  [8a7b63374857fff, 8a7b63374857fff, 8a7b6337485...        194  \n",
       "1710665  [8a7b63adb297fff, 8a7b63adb297fff, 8a7b63adb29...         32  \n",
       "1710666  [8a7b63375957fff, 8a7b63375957fff, 8a7b63adb2c...         30  \n",
       "1710668  [8a7b63adb907fff, 8a7b63adb907fff, 8a7b63adb90...         62  \n",
       "1710669  [8a7b63adb257fff, 8a7b63adb257fff, 8a7b63adb25...         27  \n",
       "\n",
       "[1666766 rows x 11 columns]"
      ]
     },
     "execution_count": 48,
     "metadata": {},
     "output_type": "execute_result"
    }
   ],
   "source": [
    "#data_clean_truncated=data_clean_truncated.drop('Nb_points_token', axis=1)"
   ]
  },
  {
   "attachments": {},
   "cell_type": "markdown",
   "id": "6cfad2dc",
   "metadata": {},
   "source": [
    "# Analyse statistique des attributs du dataset\n",
    "\n",
    "Le but ici est de pouvoir évaluer quels attributs parmi le CALL_TYPE, le TAXI_ID, le TIMESTAMP, le DAY_TYPE et MISSING_DATA pourraient être pris dans les données de contextes."
   ]
  },
  {
   "cell_type": "code",
   "execution_count": 12,
   "id": "266d850a",
   "metadata": {},
   "outputs": [],
   "source": [
    "# On stocke le nb d'entrée ie de lignes dqns le dataset\n",
    "nb_total_entries = len(data_clean_truncated.index)"
   ]
  },
  {
   "attachments": {},
   "cell_type": "markdown",
   "id": "5e90ccc9",
   "metadata": {},
   "source": [
    "## Call type"
   ]
  },
  {
   "cell_type": "code",
   "execution_count": 50,
   "id": "7abb7411",
   "metadata": {},
   "outputs": [
    {
     "data": {
      "text/plain": [
       "True"
      ]
     },
     "execution_count": 50,
     "metadata": {},
     "output_type": "execute_result"
    }
   ],
   "source": [
    "data_clean_truncated['CALL_TYPE'].count()==nb_total_entries"
   ]
  },
  {
   "attachments": {},
   "cell_type": "markdown",
   "id": "d8ef7833",
   "metadata": {},
   "source": [
    "Il ne manque jamais cette colonne."
   ]
  },
  {
   "cell_type": "code",
   "execution_count": 51,
   "id": "04b7dbd2",
   "metadata": {},
   "outputs": [
    {
     "data": {
      "text/plain": [
       "'B'"
      ]
     },
     "execution_count": 51,
     "metadata": {},
     "output_type": "execute_result"
    }
   ],
   "source": [
    "stat.mode(data_clean_truncated['CALL_TYPE'])"
   ]
  },
  {
   "attachments": {},
   "cell_type": "markdown",
   "id": "ff429068",
   "metadata": {},
   "source": [
    "Le mode (valeur la plus fréquente) est B."
   ]
  },
  {
   "cell_type": "code",
   "execution_count": 52,
   "id": "4ca4d981",
   "metadata": {},
   "outputs": [
    {
     "data": {
      "text/plain": [
       "<AxesSubplot:>"
      ]
     },
     "execution_count": 52,
     "metadata": {},
     "output_type": "execute_result"
    },
    {
     "data": {
      "image/png": "[encoded data removed]",
      "text/plain": [
       "<Figure size 432x288 with 1 Axes>"
      ]
     },
     "metadata": {
      "needs_background": "light"
     },
     "output_type": "display_data"
    }
   ],
   "source": [
    "data_clean_truncated['CALL_TYPE'].hist()"
   ]
  },
  {
   "cell_type": "code",
   "execution_count": 53,
   "id": "c021d554",
   "metadata": {},
   "outputs": [
    {
     "data": {
      "text/plain": [
       "CALL_TYPE\n",
       "A    362170\n",
       "B    807446\n",
       "C    497150\n",
       "dtype: int64"
      ]
     },
     "execution_count": 53,
     "metadata": {},
     "output_type": "execute_result"
    }
   ],
   "source": [
    "data_clean_truncated.groupby('CALL_TYPE').size()"
   ]
  },
  {
   "attachments": {},
   "cell_type": "markdown",
   "id": "7b6e16e2",
   "metadata": {},
   "source": [
    "__Conclusion :__ on prend l'attribut 'CALL_TYPE' dans le contexte."
   ]
  },
  {
   "attachments": {},
   "cell_type": "markdown",
   "id": "51b2e013",
   "metadata": {},
   "source": [
    "## Taxi id"
   ]
  },
  {
   "cell_type": "code",
   "execution_count": 54,
   "id": "37aeaf89",
   "metadata": {},
   "outputs": [
    {
     "data": {
      "text/plain": [
       "True"
      ]
     },
     "execution_count": 54,
     "metadata": {},
     "output_type": "execute_result"
    }
   ],
   "source": [
    "data_clean_truncated['TAXI_ID'].count()==nb_total_entries"
   ]
  },
  {
   "attachments": {},
   "cell_type": "markdown",
   "id": "535af93c",
   "metadata": {},
   "source": [
    "Il ne manque jamais cette colonne.\n",
    "\n",
    "On peut regarder le nombre de trajets enregistrés pour chaque taxi (identifiés par leur id)."
   ]
  },
  {
   "cell_type": "code",
   "execution_count": 55,
   "id": "4838b383",
   "metadata": {},
   "outputs": [
    {
     "data": {
      "text/plain": [
       "TAXI_ID\n",
       "20000001    2735\n",
       "20000002    3751\n",
       "20000003    1868\n",
       "20000004    4887\n",
       "20000005    6051\n",
       "            ... \n",
       "20000903    2332\n",
       "20000904    4925\n",
       "20000941       4\n",
       "20000969      25\n",
       "20000981       1\n",
       "Length: 442, dtype: int64"
      ]
     },
     "execution_count": 55,
     "metadata": {},
     "output_type": "execute_result"
    }
   ],
   "source": [
    "data_clean_truncated.groupby('TAXI_ID').size()"
   ]
  },
  {
   "cell_type": "code",
   "execution_count": 56,
   "id": "26fe6e04",
   "metadata": {},
   "outputs": [
    {
     "data": {
      "text/plain": [
       "(3770.9638009049772, 3694.0)"
      ]
     },
     "execution_count": 56,
     "metadata": {},
     "output_type": "execute_result"
    }
   ],
   "source": [
    "data_clean_truncated.groupby('TAXI_ID').size().mean(),stat.median(data_clean_truncated.groupby('TAXI_ID').size())"
   ]
  },
  {
   "cell_type": "code",
   "execution_count": 57,
   "id": "1e4fc388",
   "metadata": {},
   "outputs": [
    {
     "data": {
      "text/plain": [
       "<AxesSubplot:>"
      ]
     },
     "execution_count": 57,
     "metadata": {},
     "output_type": "execute_result"
    },
    {
     "data": {
      "image/png": "[encoded data removed]",
      "text/plain": [
       "<Figure size 432x288 with 1 Axes>"
      ]
     },
     "metadata": {
      "needs_background": "light"
     },
     "output_type": "display_data"
    }
   ],
   "source": [
    "data_clean_truncated.groupby('TAXI_ID').size().hist()\n"
   ]
  },
  {
   "attachments": {},
   "cell_type": "markdown",
   "id": "422380b2",
   "metadata": {},
   "source": [
    "__Conclusion :__ on peut prendre l'attribut 'TAXI_ID' dans le contexte."
   ]
  },
  {
   "attachments": {},
   "cell_type": "markdown",
   "id": "2ba4e863",
   "metadata": {},
   "source": [
    "## Day type"
   ]
  },
  {
   "attachments": {},
   "cell_type": "markdown",
   "id": "256238fd",
   "metadata": {},
   "source": [
    "Le mode est A."
   ]
  },
  {
   "cell_type": "code",
   "execution_count": 58,
   "id": "6f2c91a5",
   "metadata": {},
   "outputs": [
    {
     "data": {
      "text/plain": [
       "'A'"
      ]
     },
     "execution_count": 58,
     "metadata": {},
     "output_type": "execute_result"
    }
   ],
   "source": [
    "stat.mode(data_clean_truncated['DAY_TYPE'])"
   ]
  },
  {
   "attachments": {},
   "cell_type": "markdown",
   "id": "dfa8c867",
   "metadata": {},
   "source": [
    "Le problème est qu'on n'a que le type de jour A :"
   ]
  },
  {
   "cell_type": "code",
   "execution_count": 59,
   "id": "2b87c75e",
   "metadata": {},
   "outputs": [
    {
     "data": {
      "text/plain": [
       "<AxesSubplot:>"
      ]
     },
     "execution_count": 59,
     "metadata": {},
     "output_type": "execute_result"
    },
    {
     "data": {
      "image/png": "[encoded data removed]",
      "text/plain": [
       "<Figure size 432x288 with 1 Axes>"
      ]
     },
     "metadata": {
      "needs_background": "light"
     },
     "output_type": "display_data"
    }
   ],
   "source": [
    "data_clean_truncated['DAY_TYPE'].hist()"
   ]
  },
  {
   "cell_type": "code",
   "execution_count": 60,
   "id": "dce2e657",
   "metadata": {},
   "outputs": [
    {
     "data": {
      "text/plain": [
       "True"
      ]
     },
     "execution_count": 60,
     "metadata": {},
     "output_type": "execute_result"
    }
   ],
   "source": [
    "'A' in data_clean_truncated['DAY_TYPE'].to_list()"
   ]
  },
  {
   "cell_type": "code",
   "execution_count": 61,
   "id": "81c92e25",
   "metadata": {},
   "outputs": [
    {
     "data": {
      "text/plain": [
       "False"
      ]
     },
     "execution_count": 61,
     "metadata": {},
     "output_type": "execute_result"
    }
   ],
   "source": [
    "('B' or 'C') in data_clean_truncated['DAY_TYPE'].to_list()"
   ]
  },
  {
   "attachments": {},
   "cell_type": "markdown",
   "id": "7c10f599",
   "metadata": {},
   "source": []
  },
  {
   "attachments": {},
   "cell_type": "markdown",
   "id": "0e2a51c2",
   "metadata": {},
   "source": [
    "__Conclusion :__ on ne prend pas l'attribut 'DAY_TYPE' dans le contexte."
   ]
  },
  {
   "attachments": {},
   "cell_type": "markdown",
   "id": "a7c74088",
   "metadata": {},
   "source": [
    "## Missing data"
   ]
  },
  {
   "attachments": {},
   "cell_type": "markdown",
   "id": "cf9b0672",
   "metadata": {},
   "source": [
    "Le mode est False."
   ]
  },
  {
   "cell_type": "code",
   "execution_count": 62,
   "id": "786a15c0",
   "metadata": {},
   "outputs": [
    {
     "data": {
      "text/plain": [
       "False"
      ]
     },
     "execution_count": 62,
     "metadata": {},
     "output_type": "execute_result"
    }
   ],
   "source": [
    "stat.mode(data_clean_truncated['MISSING_DATA'])"
   ]
  },
  {
   "attachments": {},
   "cell_type": "markdown",
   "id": "3cd09edf",
   "metadata": {},
   "source": [
    "On a trop peu d'occurences pour la classe 'True'."
   ]
  },
  {
   "cell_type": "code",
   "execution_count": 63,
   "id": "7e9d6d8d",
   "metadata": {},
   "outputs": [
    {
     "name": "stdout",
     "output_type": "stream",
     "text": [
      "False has occurred 1666758 times\n"
     ]
    }
   ],
   "source": [
    "import operator as op\n",
    "\n",
    "print(f\"{False} has occurred {op.countOf(data_clean_truncated['MISSING_DATA'], False)} times\")"
   ]
  },
  {
   "cell_type": "code",
   "execution_count": 64,
   "id": "2fdc2e50",
   "metadata": {},
   "outputs": [
    {
     "name": "stdout",
     "output_type": "stream",
     "text": [
      "True has occurred 8 times\n"
     ]
    }
   ],
   "source": [
    "\n",
    "print(f\"{True} has occurred {op.countOf(data_clean_truncated['MISSING_DATA'], True)} times\")"
   ]
  },
  {
   "attachments": {},
   "cell_type": "markdown",
   "id": "11933eb2",
   "metadata": {},
   "source": [
    "On avait le champ rempli pour chaque trajectoire (cf le .info plus haut): il y a juste très peu de Missing_data à True."
   ]
  },
  {
   "attachments": {},
   "cell_type": "markdown",
   "id": "e879da35",
   "metadata": {},
   "source": [
    "__Conclusion :__ on ne prend pas l'attribut 'MISSING_DATA' dans le contexte."
   ]
  },
  {
   "attachments": {},
   "cell_type": "markdown",
   "id": "43309379",
   "metadata": {},
   "source": [
    "## Timestamp"
   ]
  },
  {
   "attachments": {},
   "cell_type": "markdown",
   "id": "a6f962ae",
   "metadata": {},
   "source": [
    "Le TES ayant démontré l'intêrét de prendre en compte le timestamp comme information de contexte, nous intégrerons cet élément à notre contexte en entrée de BERT. Nous l'utiliserons en priorité pour nos premiers tests."
   ]
  },
  {
   "attachments": {},
   "cell_type": "markdown",
   "id": "59dd7d48",
   "metadata": {},
   "source": [
    "On vérifie que le nombre de trajet par valeur d'horodatage :"
   ]
  },
  {
   "cell_type": "code",
   "execution_count": 27,
   "id": "39bf55fc",
   "metadata": {},
   "outputs": [
    {
     "data": {
      "text/plain": [
       "TIMESTAMP\n",
       "1372636853    1\n",
       "1372636854    1\n",
       "1372636858    1\n",
       "1372636875    1\n",
       "1372636896    1\n",
       "             ..\n",
       "1404172578    1\n",
       "1404172626    1\n",
       "1404172716    1\n",
       "1404172718    1\n",
       "1404172736    1\n",
       "Length: 1614151, dtype: int64"
      ]
     },
     "execution_count": 27,
     "metadata": {},
     "output_type": "execute_result"
    }
   ],
   "source": [
    "data_clean_truncated.groupby('TIMESTAMP').size()"
   ]
  },
  {
   "cell_type": "code",
   "execution_count": 17,
   "id": "b8f8019f",
   "metadata": {},
   "outputs": [
    {
     "data": {
      "text/plain": [
       "False"
      ]
     },
     "execution_count": 17,
     "metadata": {},
     "output_type": "execute_result"
    }
   ],
   "source": [
    "# Rq : le timestamp n'est pas unique\n",
    "len(data_clean_truncated.groupby('TIMESTAMP'))!=nb_total_entries \n",
    "# this function helps  to find the unique values in a column\n",
    "#data_clean_truncated['TIMESTAMP'].unique()\n"
   ]
  },
  {
   "cell_type": "code",
   "execution_count": 33,
   "id": "8f11ab81",
   "metadata": {},
   "outputs": [
    {
     "data": {
      "text/plain": [
       "<AxesSubplot:>"
      ]
     },
     "execution_count": 33,
     "metadata": {},
     "output_type": "execute_result"
    },
    {
     "data": {
      "image/png": "[encoded data removed]",
      "text/plain": [
       "<Figure size 432x288 with 1 Axes>"
      ]
     },
     "metadata": {
      "needs_background": "light"
     },
     "output_type": "display_data"
    }
   ],
   "source": [
    "data_clean_truncated.groupby('TIMESTAMP').size().hist()"
   ]
  },
  {
   "attachments": {},
   "cell_type": "markdown",
   "id": "f6bdc16e",
   "metadata": {},
   "source": [
    "Remarque : on a quelques timestamps qui apparaissent plusieurs fois, mais il faut les interpréter comme des coincidences."
   ]
  },
  {
   "attachments": {},
   "cell_type": "markdown",
   "id": "e6812cbd",
   "metadata": {},
   "source": [
    "## Remarque : matrice de corrélation "
   ]
  },
  {
   "cell_type": "code",
   "execution_count": 66,
   "id": "c98ef51f",
   "metadata": {},
   "outputs": [
    {
     "data": {
      "text/html": [
       "<div>\n",
       "<style scoped>\n",
       "    .dataframe tbody tr th:only-of-type {\n",
       "        vertical-align: middle;\n",
       "    }\n",
       "\n",
       "    .dataframe tbody tr th {\n",
       "        vertical-align: top;\n",
       "    }\n",
       "\n",
       "    .dataframe thead th {\n",
       "        text-align: right;\n",
       "    }\n",
       "</style>\n",
       "<table border=\"1\" class=\"dataframe\">\n",
       "  <thead>\n",
       "    <tr style=\"text-align: right;\">\n",
       "      <th></th>\n",
       "      <th>TRIP_ID</th>\n",
       "      <th>ORIGIN_CALL</th>\n",
       "      <th>ORIGIN_STAND</th>\n",
       "      <th>TAXI_ID</th>\n",
       "      <th>TIMESTAMP</th>\n",
       "      <th>MISSING_DATA</th>\n",
       "      <th>Nb_points</th>\n",
       "      <th>Nb_points_token</th>\n",
       "    </tr>\n",
       "  </thead>\n",
       "  <tbody>\n",
       "    <tr>\n",
       "      <th>TRIP_ID</th>\n",
       "      <td>1.000000</td>\n",
       "      <td>0.026924</td>\n",
       "      <td>0.001904</td>\n",
       "      <td>-0.000919</td>\n",
       "      <td>1.000000</td>\n",
       "      <td>-0.000691</td>\n",
       "      <td>0.011623</td>\n",
       "      <td>0.009131</td>\n",
       "    </tr>\n",
       "    <tr>\n",
       "      <th>ORIGIN_CALL</th>\n",
       "      <td>0.026924</td>\n",
       "      <td>1.000000</td>\n",
       "      <td>NaN</td>\n",
       "      <td>-0.002021</td>\n",
       "      <td>0.026924</td>\n",
       "      <td>-0.001249</td>\n",
       "      <td>-0.054190</td>\n",
       "      <td>-0.051549</td>\n",
       "    </tr>\n",
       "    <tr>\n",
       "      <th>ORIGIN_STAND</th>\n",
       "      <td>0.001904</td>\n",
       "      <td>NaN</td>\n",
       "      <td>1.000000</td>\n",
       "      <td>0.016102</td>\n",
       "      <td>0.001904</td>\n",
       "      <td>0.000782</td>\n",
       "      <td>-0.044596</td>\n",
       "      <td>-0.039864</td>\n",
       "    </tr>\n",
       "    <tr>\n",
       "      <th>TAXI_ID</th>\n",
       "      <td>-0.000919</td>\n",
       "      <td>-0.002021</td>\n",
       "      <td>0.016102</td>\n",
       "      <td>1.000000</td>\n",
       "      <td>-0.000919</td>\n",
       "      <td>0.002133</td>\n",
       "      <td>0.011546</td>\n",
       "      <td>0.013129</td>\n",
       "    </tr>\n",
       "    <tr>\n",
       "      <th>TIMESTAMP</th>\n",
       "      <td>1.000000</td>\n",
       "      <td>0.026924</td>\n",
       "      <td>0.001904</td>\n",
       "      <td>-0.000919</td>\n",
       "      <td>1.000000</td>\n",
       "      <td>-0.000691</td>\n",
       "      <td>0.011623</td>\n",
       "      <td>0.009131</td>\n",
       "    </tr>\n",
       "    <tr>\n",
       "      <th>MISSING_DATA</th>\n",
       "      <td>-0.000691</td>\n",
       "      <td>-0.001249</td>\n",
       "      <td>0.000782</td>\n",
       "      <td>0.002133</td>\n",
       "      <td>-0.000691</td>\n",
       "      <td>1.000000</td>\n",
       "      <td>0.003671</td>\n",
       "      <td>0.003406</td>\n",
       "    </tr>\n",
       "    <tr>\n",
       "      <th>Nb_points</th>\n",
       "      <td>0.011623</td>\n",
       "      <td>-0.054190</td>\n",
       "      <td>-0.044596</td>\n",
       "      <td>0.011546</td>\n",
       "      <td>0.011623</td>\n",
       "      <td>0.003671</td>\n",
       "      <td>1.000000</td>\n",
       "      <td>0.910556</td>\n",
       "    </tr>\n",
       "    <tr>\n",
       "      <th>Nb_points_token</th>\n",
       "      <td>0.009131</td>\n",
       "      <td>-0.051549</td>\n",
       "      <td>-0.039864</td>\n",
       "      <td>0.013129</td>\n",
       "      <td>0.009131</td>\n",
       "      <td>0.003406</td>\n",
       "      <td>0.910556</td>\n",
       "      <td>1.000000</td>\n",
       "    </tr>\n",
       "  </tbody>\n",
       "</table>\n",
       "</div>"
      ],
      "text/plain": [
       "                  TRIP_ID  ORIGIN_CALL  ORIGIN_STAND   TAXI_ID  TIMESTAMP  \\\n",
       "TRIP_ID          1.000000     0.026924      0.001904 -0.000919   1.000000   \n",
       "ORIGIN_CALL      0.026924     1.000000           NaN -0.002021   0.026924   \n",
       "ORIGIN_STAND     0.001904          NaN      1.000000  0.016102   0.001904   \n",
       "TAXI_ID         -0.000919    -0.002021      0.016102  1.000000  -0.000919   \n",
       "TIMESTAMP        1.000000     0.026924      0.001904 -0.000919   1.000000   \n",
       "MISSING_DATA    -0.000691    -0.001249      0.000782  0.002133  -0.000691   \n",
       "Nb_points        0.011623    -0.054190     -0.044596  0.011546   0.011623   \n",
       "Nb_points_token  0.009131    -0.051549     -0.039864  0.013129   0.009131   \n",
       "\n",
       "                 MISSING_DATA  Nb_points  Nb_points_token  \n",
       "TRIP_ID             -0.000691   0.011623         0.009131  \n",
       "ORIGIN_CALL         -0.001249  -0.054190        -0.051549  \n",
       "ORIGIN_STAND         0.000782  -0.044596        -0.039864  \n",
       "TAXI_ID              0.002133   0.011546         0.013129  \n",
       "TIMESTAMP           -0.000691   0.011623         0.009131  \n",
       "MISSING_DATA         1.000000   0.003671         0.003406  \n",
       "Nb_points            0.003671   1.000000         0.910556  \n",
       "Nb_points_token      0.003406   0.910556         1.000000  "
      ]
     },
     "execution_count": 66,
     "metadata": {},
     "output_type": "execute_result"
    }
   ],
   "source": [
    "data_clean_truncated.corr()"
   ]
  },
  {
   "cell_type": "code",
   "execution_count": null,
   "id": "244682ec",
   "metadata": {},
   "outputs": [],
   "source": [
    "#TODO : regarder pourquoi pas 1 de corrélation entre Nb_points et Nb_points_token"
   ]
  },
  {
   "attachments": {},
   "cell_type": "markdown",
   "id": "16cdb2cc",
   "metadata": {},
   "source": [
    "__Conclusion :__ Les attributs n'étant pas corrélés entre eux, on n'a pas d'objection de ce côté pour prendre des attributs en même temps. "
   ]
  },
  {
   "attachments": {},
   "cell_type": "markdown",
   "id": "f5af2891",
   "metadata": {},
   "source": [
    "## Autres\n",
    "On regarde quelques caractéristiques indépendantes du contexte.\n",
    "### Trajectoires : longueur\n",
    "\n",
    "(Après troncature)"
   ]
  },
  {
   "cell_type": "code",
   "execution_count": 19,
   "id": "dc87fc73",
   "metadata": {},
   "outputs": [
    {
     "data": {
      "text/plain": [
       "(42.0, 49.48624581974914, 35)"
      ]
     },
     "execution_count": 19,
     "metadata": {},
     "output_type": "execute_result"
    }
   ],
   "source": [
    "stat.median(data_clean_truncated['Nb_points']), stat.mean(data_clean_truncated['Nb_points']), stat.mode(data_clean_truncated['Nb_points'])"
   ]
  },
  {
   "cell_type": "code",
   "execution_count": 20,
   "id": "d680e35c",
   "metadata": {},
   "outputs": [
    {
     "data": {
      "image/png": "[encoded data removed]",
      "text/plain": [
       "<Figure size 432x288 with 1 Axes>"
      ]
     },
     "metadata": {
      "needs_background": "light"
     },
     "output_type": "display_data"
    }
   ],
   "source": [
    "import matplotlib.pyplot as plt\n",
    "\n",
    "\n",
    "# create histogram\n",
    "plt.hist(data_clean_truncated['Nb_points'].to_list())\n",
    "# display histogram\n",
    "plt.show()\n"
   ]
  },
  {
   "cell_type": "code",
   "execution_count": 21,
   "id": "f45d4f07",
   "metadata": {},
   "outputs": [
    {
     "data": {
      "text/plain": [
       "400"
      ]
     },
     "execution_count": 21,
     "metadata": {},
     "output_type": "execute_result"
    }
   ],
   "source": [
    "max(data_clean_truncated['Nb_points'])"
   ]
  }
 ],
 "metadata": {
  "kernelspec": {
   "display_name": "Python 3 (ipykernel)",
   "language": "python",
   "name": "python3"
  },
  "language_info": {
   "codemirror_mode": {
    "name": "ipython",
    "version": 3
   },
   "file_extension": ".py",
   "mimetype": "text/x-python",
   "name": "python",
   "nbconvert_exporter": "python",
   "pygments_lexer": "ipython3",
   "version": "3.9.12"
  }
 },
 "nbformat": 4,
 "nbformat_minor": 5
}
