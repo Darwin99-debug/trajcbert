{
 "cells": [
  {
   "cell_type": "markdown",
   "id": "e5c4d2e0",
   "metadata": {},
   "source": [
    "# Imports"
   ]
  },
  {
   "cell_type": "code",
   "execution_count": 1,
   "id": "f59bf523",
   "metadata": {},
   "outputs": [
    {
     "name": "stdout",
     "output_type": "stream",
     "text": [
      "Requirement already satisfied: pandas in /home/daril_kw/.venv/lib/python3.10/site-packages (2.1.4)\n",
      "Requirement already satisfied: numpy<2,>=1.22.4 in /home/daril_kw/.venv/lib/python3.10/site-packages (from pandas) (1.26.2)\n",
      "Requirement already satisfied: python-dateutil>=2.8.2 in /home/daril_kw/.venv/lib/python3.10/site-packages (from pandas) (2.8.2)\n",
      "Requirement already satisfied: pytz>=2020.1 in /home/daril_kw/.venv/lib/python3.10/site-packages (from pandas) (2023.3.post1)\n",
      "Requirement already satisfied: tzdata>=2022.1 in /home/daril_kw/.venv/lib/python3.10/site-packages (from pandas) (2023.3)\n",
      "Requirement already satisfied: six>=1.5 in /home/daril_kw/.venv/lib/python3.10/site-packages (from python-dateutil>=2.8.2->pandas) (1.16.0)\n",
      "\n",
      "\u001b[1m[\u001b[0m\u001b[34;49mnotice\u001b[0m\u001b[1;39;49m]\u001b[0m\u001b[39;49m A new release of pip is available: \u001b[0m\u001b[31;49m23.3.1\u001b[0m\u001b[39;49m -> \u001b[0m\u001b[32;49m23.3.2\u001b[0m\n",
      "\u001b[1m[\u001b[0m\u001b[34;49mnotice\u001b[0m\u001b[1;39;49m]\u001b[0m\u001b[39;49m To update, run: \u001b[0m\u001b[32;49mpip install --upgrade pip\u001b[0m\n"
     ]
    }
   ],
   "source": [
    "!pip install pandas"
   ]
  },
  {
   "cell_type": "code",
   "execution_count": 2,
   "id": "dc7ee18a",
   "metadata": {},
   "outputs": [],
   "source": [
    "import numpy as np\n",
    "import pandas as pd\n",
    "from numpy import genfromtxt\n",
    "import matplotlib.pyplot as plt"
   ]
  },
  {
   "cell_type": "code",
   "execution_count": 10,
   "id": "a009f990",
   "metadata": {},
   "outputs": [],
   "source": [
    "# csv_data = pd.read_csv('train.csv')\n",
    "csv_data = pd.read_csv('/home/daril_kw/data/02.06.23/train_clean.json')\n"
   ]
  },
  {
   "cell_type": "markdown",
   "id": "515f7462",
   "metadata": {},
   "source": [
    " # Définition des fonctions"
   ]
  },
  {
   "cell_type": "code",
   "execution_count": 11,
   "id": "c5a88532",
   "metadata": {},
   "outputs": [],
   "source": [
    "def parcourir_couples(polyline) : #polyline de type string\n",
    "    polyline = polyline[1:(len(polyline)-1)]\n",
    "    #l'idée est de récupérer les couples en identifiant les \" ],[ \"\n",
    "    polyline_n=polyline[1:(len(polyline)-1)] #on enlève les crochets de la liste au complet\n",
    "    couple = []\n",
    "    i=0\n",
    "    while i<len(polyline_n):\n",
    "        if polyline_n[i]=='[':\n",
    "            deb_couple = i\n",
    "            while i<len(polyline_n) and polyline_n[i]!=']':\n",
    "                i+=1\n",
    "            couple.append(polyline_n[deb_couple:i+1])\n",
    "        i+=1\n",
    "    return couple\n",
    "\n",
    "#on récupère la liste ci-dessus et on convertit en float chaque nombre qui était stocké en string\n",
    "def polyline2listcoord(polyline): \n",
    "    liste=parcourir_couples(polyline)\n",
    "    couples =[]\n",
    "    couples_float = []\n",
    "    for i in liste :\n",
    "        couple=i[1:(len(i)-1)]\n",
    "        couples.append(couple)\n",
    "\n",
    "        j=0\n",
    "         #on sépare la longitude et la latitude en identifiant la virgule du couple, puis on recupère avant et après\n",
    "        while j<len(couple) and couple[j]!=',':\n",
    "            j+=1\n",
    "        if couple[j]==',':\n",
    "            longitude = couple[0:j]\n",
    "            latitude = couple[j+1:(len(couple))]\n",
    "        couples_float.append([float(latitude),float(longitude)])\n",
    "        #attention à l'ordre : h3 demande latitude et longiture dans cet ordre alors que le polyline est l'ensemble \n",
    "        #les couples longitude et latitude dans cet ordre\n",
    "            \n",
    "    #return liste, couples, couples_float\n",
    "    return(couples_float)\n"
   ]
  },
  {
   "cell_type": "markdown",
   "id": "d93a4912",
   "metadata": {},
   "source": [
    "# Récupération de la colonne et application des fonctions "
   ]
  },
  {
   "cell_type": "code",
   "execution_count": 12,
   "id": "6ef688ff",
   "metadata": {},
   "outputs": [
    {
     "data": {
      "text/plain": [
       "[[41.141376, -8.618499],\n",
       " [41.14251, -8.620326],\n",
       " [41.143815, -8.622153],\n",
       " [41.144373, -8.623953],\n",
       " [41.144778, -8.62668],\n",
       " [41.144697, -8.627373],\n",
       " [41.14521, -8.630226],\n",
       " [41.14692, -8.632746],\n",
       " [41.148225, -8.631738],\n",
       " [41.150385, -8.629938],\n",
       " [41.151213, -8.62911],\n",
       " [41.15124, -8.629128],\n",
       " [41.152203, -8.628786],\n",
       " [41.152374, -8.628687],\n",
       " [41.152518, -8.628759],\n",
       " [41.15268, -8.630838],\n",
       " [41.153022, -8.632323],\n",
       " [41.154489, -8.631144],\n",
       " [41.154507, -8.630829],\n",
       " [41.154516, -8.630829],\n",
       " [41.154498, -8.630829],\n",
       " [41.15448, -8.630838]]"
      ]
     },
     "execution_count": 12,
     "metadata": {},
     "output_type": "execute_result"
    }
   ],
   "source": [
    "poly_list = csv_data['POLYLINE']\n",
    "polyline2listcoord(poly_list[0])"
   ]
  },
  {
   "cell_type": "code",
   "execution_count": null,
   "id": "89a36956",
   "metadata": {},
   "outputs": [],
   "source": [
    "csv_data.head()"
   ]
  },
  {
   "cell_type": "code",
   "execution_count": 13,
   "id": "9b7234b1",
   "metadata": {},
   "outputs": [],
   "source": [
    "data_formated = csv_data.apply(lambda x:polyline2listcoord(x.POLYLINE), axis=1)"
   ]
  },
  {
   "cell_type": "code",
   "execution_count": null,
   "id": "5b2bec9c",
   "metadata": {},
   "outputs": [],
   "source": [
    "type(data_formated)"
   ]
  },
  {
   "cell_type": "markdown",
   "id": "706846f1",
   "metadata": {},
   "source": [
    "On modifie le dataset avec la nouvelle colonne."
   ]
  },
  {
   "cell_type": "code",
   "execution_count": null,
   "id": "ab43fa82",
   "metadata": {},
   "outputs": [],
   "source": [
    "csv_data_2 = csv_data\n",
    "csv_data_2['POLYLINE'] = data_formated"
   ]
  },
  {
   "cell_type": "markdown",
   "id": "40dd13f6",
   "metadata": {},
   "source": [
    "On vérifie le résultat et les formats dans la colonne polyline."
   ]
  },
  {
   "cell_type": "code",
   "execution_count": null,
   "id": "e5bf830e",
   "metadata": {},
   "outputs": [],
   "source": [
    "type(csv_data_2['POLYLINE'][0]),csv_data_2['POLYLINE'][0] "
   ]
  },
  {
   "cell_type": "code",
   "execution_count": null,
   "id": "8e72ed01",
   "metadata": {},
   "outputs": [],
   "source": [
    "type(csv_data_2['POLYLINE'][1][4]), csv_data_2['POLYLINE'][1][4]"
   ]
  },
  {
   "cell_type": "code",
   "execution_count": null,
   "id": "892c61e3",
   "metadata": {},
   "outputs": [],
   "source": [
    "type(csv_data_2['POLYLINE'][2][1][0]), csv_data_2['POLYLINE'][2][1][0]"
   ]
  },
  {
   "cell_type": "markdown",
   "id": "2b4fb1ec",
   "metadata": {},
   "source": [
    "## Sauvegarde dans un fichier"
   ]
  },
  {
   "cell_type": "code",
   "execution_count": null,
   "id": "e856a509",
   "metadata": {},
   "outputs": [],
   "source": [
    "csv_data_2.to_csv('formated_trajectories.csv')"
   ]
  },
  {
   "cell_type": "markdown",
   "id": "8be7548c",
   "metadata": {},
   "source": [
    "## Test de chargement"
   ]
  },
  {
   "cell_type": "code",
   "execution_count": null,
   "id": "cc5d4e8c",
   "metadata": {},
   "outputs": [],
   "source": [
    "csv_data_charge = pd.read_csv('formated_trajectories.csv')"
   ]
  },
  {
   "cell_type": "code",
   "execution_count": null,
   "id": "a346e44e",
   "metadata": {},
   "outputs": [],
   "source": [
    "type(csv_data_charge['POLYLINE'][0])"
   ]
  },
  {
   "cell_type": "markdown",
   "id": "aac22f48",
   "metadata": {},
   "source": [
    "**Conclusion : c'est le fait d'enregistrer en csv et de le charger qui fait qu'on a des strings au lieu de float**\n",
    "\n",
    "Une solution pourrait être d'ajouter des colonnes au fichier afin de ne pas stocker des listes de liste et donc espérer pouvoir stocker en float, mais très laborieux (on ne connait pas la longueur des trajectoires a priori etc)"
   ]
  },
  {
   "cell_type": "markdown",
   "id": "d095f061",
   "metadata": {},
   "source": [
    "## Tokenization"
   ]
  },
  {
   "cell_type": "markdown",
   "id": "62ac29c2",
   "metadata": {},
   "source": [
    "__On fait la tokenization pour les trajectoires du polyline__"
   ]
  },
  {
   "cell_type": "code",
   "execution_count": null,
   "id": "0f204184",
   "metadata": {},
   "outputs": [],
   "source": [
    "import h3"
   ]
  },
  {
   "cell_type": "code",
   "execution_count": null,
   "id": "82e12306",
   "metadata": {},
   "outputs": [],
   "source": [
    "reso=10\n",
    "\n",
    "def tokenize_list(polyline) :\n",
    "    for i in range(len(polyline)) :\n",
    "        polyline[i]=h3.geo_to_h3(polyline[i][0], polyline[i][1], reso)\n",
    "    return polyline\n",
    "        "
   ]
  },
  {
   "cell_type": "code",
   "execution_count": null,
   "id": "b0e960eb",
   "metadata": {},
   "outputs": [],
   "source": [
    "data_tokenized = csv_data_2.apply(lambda x: tokenize_list(x.POLYLINE), axis=1)"
   ]
  },
  {
   "cell_type": "code",
   "execution_count": null,
   "id": "b2e1853b",
   "metadata": {},
   "outputs": [],
   "source": [
    "type(data_tokenized)"
   ]
  },
  {
   "cell_type": "code",
   "execution_count": null,
   "id": "aac2c331",
   "metadata": {},
   "outputs": [],
   "source": [
    "csv_data_token = csv_data\n",
    "csv_data_token['POLYLINE'] = data_tokenized"
   ]
  },
  {
   "cell_type": "code",
   "execution_count": null,
   "id": "102fe608",
   "metadata": {},
   "outputs": [],
   "source": [
    "type(csv_data_token['POLYLINE'][0]),csv_data_token['POLYLINE'][0] "
   ]
  },
  {
   "cell_type": "markdown",
   "id": "34c15376",
   "metadata": {},
   "source": [
    "On remplace le polyline par la version tokenizée et on sauvegarde le résultat dans un fichier"
   ]
  },
  {
   "cell_type": "code",
   "execution_count": null,
   "id": "246647fa",
   "metadata": {},
   "outputs": [],
   "source": [
    "csv_data_token.to_csv('tokenized_trajectories.csv')"
   ]
  },
  {
   "cell_type": "code",
   "execution_count": 6,
   "id": "82d79345",
   "metadata": {},
   "outputs": [],
   "source": [
    "csv_data_token_c = pd.read_csv('tokenized_trajectories.csv')"
   ]
  },
  {
   "cell_type": "code",
   "execution_count": 7,
   "id": "95180ee9",
   "metadata": {},
   "outputs": [
    {
     "name": "stdout",
     "output_type": "stream",
     "text": [
      "<class 'pandas.core.frame.DataFrame'>\n",
      "RangeIndex: 1710670 entries, 0 to 1710669\n",
      "Data columns (total 10 columns):\n",
      " #   Column        Dtype  \n",
      "---  ------        -----  \n",
      " 0   Unnamed: 0    int64  \n",
      " 1   TRIP_ID       int64  \n",
      " 2   CALL_TYPE     object \n",
      " 3   ORIGIN_CALL   float64\n",
      " 4   ORIGIN_STAND  float64\n",
      " 5   TAXI_ID       int64  \n",
      " 6   TIMESTAMP     int64  \n",
      " 7   DAY_TYPE      object \n",
      " 8   MISSING_DATA  bool   \n",
      " 9   POLYLINE      object \n",
      "dtypes: bool(1), float64(2), int64(4), object(3)\n",
      "memory usage: 119.1+ MB\n"
     ]
    }
   ],
   "source": [
    "csv_data_token_c.info()"
   ]
  },
  {
   "cell_type": "code",
   "execution_count": 8,
   "id": "7cce2cd9",
   "metadata": {},
   "outputs": [
    {
     "data": {
      "text/plain": [
       "(str,\n",
       " \"['8a39220f062ffff', '8a39220f0627fff', '8a39220f0707fff', '8a39220f009ffff', '8a39220f0097fff', '8a39220f054ffff', '8a39220f0547fff', '8a39220f0cc7fff', '8a39220f0ceffff', '8a39220f0c4ffff', '8a39220f0137fff', '8a39220f0137fff', '8a39220f0137fff', '8a39220f0127fff', '8a39220f0127fff', '8a39220f0897fff', '8a39220f0d4ffff', '8a39220f08a7fff', '8a39220f08a7fff', '8a39220f08a7fff', '8a39220f08a7fff', '8a39220f08a7fff']\")"
      ]
     },
     "execution_count": 8,
     "metadata": {},
     "output_type": "execute_result"
    }
   ],
   "source": [
    "type(csv_data_token_c['POLYLINE'][0]),csv_data_token_c['POLYLINE'][0]"
   ]
  },
  {
   "cell_type": "code",
   "execution_count": null,
   "id": "0558eebd",
   "metadata": {},
   "outputs": [],
   "source": [
    "h3.geo_to_h3( 41.141376, -8.618499,10)"
   ]
  },
  {
   "cell_type": "markdown",
   "id": "e0eb5904",
   "metadata": {},
   "source": [
    "On a bien la même chose : la tokenization semble avoir fonctionné.\n",
    "\n",
    "__A présent, on fait de même mais au lieu de remplacer le polyline par sa version tokenizée, on met les deux colonnes.__"
   ]
  },
  {
   "cell_type": "code",
   "execution_count": 9,
   "id": "7ca052db",
   "metadata": {},
   "outputs": [],
   "source": [
    "csv_data_full = csv_data_token_c\n",
    "csv_data_full.insert(9, \"Trajectory\",0,allow_duplicates=False)"
   ]
  },
  {
   "cell_type": "code",
   "execution_count": 14,
   "id": "5868f08a",
   "metadata": {},
   "outputs": [],
   "source": [
    "csv_data_full['Trajectory']=data_formated"
   ]
  },
  {
   "cell_type": "code",
   "execution_count": 15,
   "id": "4b9abb1d",
   "metadata": {},
   "outputs": [
    {
     "data": {
      "text/html": [
       "<div>\n",
       "<style scoped>\n",
       "    .dataframe tbody tr th:only-of-type {\n",
       "        vertical-align: middle;\n",
       "    }\n",
       "\n",
       "    .dataframe tbody tr th {\n",
       "        vertical-align: top;\n",
       "    }\n",
       "\n",
       "    .dataframe thead th {\n",
       "        text-align: right;\n",
       "    }\n",
       "</style>\n",
       "<table border=\"1\" class=\"dataframe\">\n",
       "  <thead>\n",
       "    <tr style=\"text-align: right;\">\n",
       "      <th></th>\n",
       "      <th>Unnamed: 0</th>\n",
       "      <th>TRIP_ID</th>\n",
       "      <th>CALL_TYPE</th>\n",
       "      <th>ORIGIN_CALL</th>\n",
       "      <th>ORIGIN_STAND</th>\n",
       "      <th>TAXI_ID</th>\n",
       "      <th>TIMESTAMP</th>\n",
       "      <th>DAY_TYPE</th>\n",
       "      <th>MISSING_DATA</th>\n",
       "      <th>Trajectory</th>\n",
       "      <th>POLYLINE</th>\n",
       "    </tr>\n",
       "  </thead>\n",
       "  <tbody>\n",
       "    <tr>\n",
       "      <th>0</th>\n",
       "      <td>0</td>\n",
       "      <td>1372636858620000589</td>\n",
       "      <td>C</td>\n",
       "      <td>NaN</td>\n",
       "      <td>NaN</td>\n",
       "      <td>20000589</td>\n",
       "      <td>1372636858</td>\n",
       "      <td>A</td>\n",
       "      <td>False</td>\n",
       "      <td>[[41.141376, -8.618499], [41.14251, -8.620326]...</td>\n",
       "      <td>['8a39220f062ffff', '8a39220f0627fff', '8a3922...</td>\n",
       "    </tr>\n",
       "    <tr>\n",
       "      <th>1</th>\n",
       "      <td>1</td>\n",
       "      <td>1372637303620000596</td>\n",
       "      <td>B</td>\n",
       "      <td>NaN</td>\n",
       "      <td>7.0</td>\n",
       "      <td>20000596</td>\n",
       "      <td>1372637303</td>\n",
       "      <td>A</td>\n",
       "      <td>False</td>\n",
       "      <td>[[41.159871, -8.640351], [41.160114, -8.642196...</td>\n",
       "      <td>['8a39220f4757fff', '8a39220f470ffff', '8a3922...</td>\n",
       "    </tr>\n",
       "    <tr>\n",
       "      <th>2</th>\n",
       "      <td>2</td>\n",
       "      <td>1372636951620000320</td>\n",
       "      <td>C</td>\n",
       "      <td>NaN</td>\n",
       "      <td>NaN</td>\n",
       "      <td>20000320</td>\n",
       "      <td>1372636951</td>\n",
       "      <td>A</td>\n",
       "      <td>False</td>\n",
       "      <td>[[41.14035, -8.613378], [41.140278, -8.614215]...</td>\n",
       "      <td>['8a39220f39a7fff', '8a39220f065ffff', '8a3922...</td>\n",
       "    </tr>\n",
       "    <tr>\n",
       "      <th>3</th>\n",
       "      <td>3</td>\n",
       "      <td>1372636854620000520</td>\n",
       "      <td>C</td>\n",
       "      <td>NaN</td>\n",
       "      <td>NaN</td>\n",
       "      <td>20000520</td>\n",
       "      <td>1372636854</td>\n",
       "      <td>A</td>\n",
       "      <td>False</td>\n",
       "      <td>[[41.151942, -8.574705], [41.151933, -8.574696...</td>\n",
       "      <td>['8a39220c458ffff', '8a39220c458ffff', '8a3922...</td>\n",
       "    </tr>\n",
       "    <tr>\n",
       "      <th>4</th>\n",
       "      <td>4</td>\n",
       "      <td>1372637091620000337</td>\n",
       "      <td>C</td>\n",
       "      <td>NaN</td>\n",
       "      <td>NaN</td>\n",
       "      <td>20000337</td>\n",
       "      <td>1372637091</td>\n",
       "      <td>A</td>\n",
       "      <td>False</td>\n",
       "      <td>[[41.180517, -8.645949], [41.180049, -8.646048...</td>\n",
       "      <td>['8a392201b58ffff', '8a392201b58ffff', '8a3922...</td>\n",
       "    </tr>\n",
       "  </tbody>\n",
       "</table>\n",
       "</div>"
      ],
      "text/plain": [
       "   Unnamed: 0              TRIP_ID CALL_TYPE  ORIGIN_CALL  ORIGIN_STAND  \\\n",
       "0           0  1372636858620000589         C          NaN           NaN   \n",
       "1           1  1372637303620000596         B          NaN           7.0   \n",
       "2           2  1372636951620000320         C          NaN           NaN   \n",
       "3           3  1372636854620000520         C          NaN           NaN   \n",
       "4           4  1372637091620000337         C          NaN           NaN   \n",
       "\n",
       "    TAXI_ID   TIMESTAMP DAY_TYPE  MISSING_DATA  \\\n",
       "0  20000589  1372636858        A         False   \n",
       "1  20000596  1372637303        A         False   \n",
       "2  20000320  1372636951        A         False   \n",
       "3  20000520  1372636854        A         False   \n",
       "4  20000337  1372637091        A         False   \n",
       "\n",
       "                                          Trajectory  \\\n",
       "0  [[41.141376, -8.618499], [41.14251, -8.620326]...   \n",
       "1  [[41.159871, -8.640351], [41.160114, -8.642196...   \n",
       "2  [[41.14035, -8.613378], [41.140278, -8.614215]...   \n",
       "3  [[41.151942, -8.574705], [41.151933, -8.574696...   \n",
       "4  [[41.180517, -8.645949], [41.180049, -8.646048...   \n",
       "\n",
       "                                            POLYLINE  \n",
       "0  ['8a39220f062ffff', '8a39220f0627fff', '8a3922...  \n",
       "1  ['8a39220f4757fff', '8a39220f470ffff', '8a3922...  \n",
       "2  ['8a39220f39a7fff', '8a39220f065ffff', '8a3922...  \n",
       "3  ['8a39220c458ffff', '8a39220c458ffff', '8a3922...  \n",
       "4  ['8a392201b58ffff', '8a392201b58ffff', '8a3922...  "
      ]
     },
     "execution_count": 15,
     "metadata": {},
     "output_type": "execute_result"
    }
   ],
   "source": [
    "csv_data_full.head()"
   ]
  },
  {
   "cell_type": "code",
   "execution_count": 16,
   "id": "8788c44a",
   "metadata": {},
   "outputs": [
    {
     "data": {
      "text/plain": [
       "(list,\n",
       " [[41.141376, -8.618499],\n",
       "  [41.14251, -8.620326],\n",
       "  [41.143815, -8.622153],\n",
       "  [41.144373, -8.623953],\n",
       "  [41.144778, -8.62668],\n",
       "  [41.144697, -8.627373],\n",
       "  [41.14521, -8.630226],\n",
       "  [41.14692, -8.632746],\n",
       "  [41.148225, -8.631738],\n",
       "  [41.150385, -8.629938],\n",
       "  [41.151213, -8.62911],\n",
       "  [41.15124, -8.629128],\n",
       "  [41.152203, -8.628786],\n",
       "  [41.152374, -8.628687],\n",
       "  [41.152518, -8.628759],\n",
       "  [41.15268, -8.630838],\n",
       "  [41.153022, -8.632323],\n",
       "  [41.154489, -8.631144],\n",
       "  [41.154507, -8.630829],\n",
       "  [41.154516, -8.630829],\n",
       "  [41.154498, -8.630829],\n",
       "  [41.15448, -8.630838]])"
      ]
     },
     "execution_count": 16,
     "metadata": {},
     "output_type": "execute_result"
    }
   ],
   "source": [
    "type(csv_data_full['Trajectory'][0]),csv_data_full['Trajectory'][0]"
   ]
  },
  {
   "cell_type": "markdown",
   "id": "1711ef67",
   "metadata": {},
   "source": [
    "Dans la version \"résultat direct du calcul\", on a bien une liste.\n",
    "\n",
    "On enregistre le résultat avec les deux dans un fichier : "
   ]
  },
  {
   "cell_type": "code",
   "execution_count": 17,
   "id": "29636423",
   "metadata": {},
   "outputs": [],
   "source": [
    "csv_data_full.to_csv('dataset_traj&token.csv')"
   ]
  },
  {
   "cell_type": "code",
   "execution_count": 18,
   "id": "c3249851",
   "metadata": {},
   "outputs": [],
   "source": [
    "csv_test_load_all=pd.read_csv('dataset_traj&token.csv')"
   ]
  },
  {
   "cell_type": "code",
   "execution_count": 19,
   "id": "cc949637",
   "metadata": {},
   "outputs": [
    {
     "data": {
      "text/plain": [
       "(str,\n",
       " '[[41.141376, -8.618499], [41.14251, -8.620326], [41.143815, -8.622153], [41.144373, -8.623953], [41.144778, -8.62668], [41.144697, -8.627373], [41.14521, -8.630226], [41.14692, -8.632746], [41.148225, -8.631738], [41.150385, -8.629938], [41.151213, -8.62911], [41.15124, -8.629128], [41.152203, -8.628786], [41.152374, -8.628687], [41.152518, -8.628759], [41.15268, -8.630838], [41.153022, -8.632323], [41.154489, -8.631144], [41.154507, -8.630829], [41.154516, -8.630829], [41.154498, -8.630829], [41.15448, -8.630838]]')"
      ]
     },
     "execution_count": 19,
     "metadata": {},
     "output_type": "execute_result"
    }
   ],
   "source": [
    "type(csv_test_load_all['Trajectory'][0]),csv_test_load_all['Trajectory'][0]"
   ]
  },
  {
   "cell_type": "markdown",
   "id": "f65f5dcd",
   "metadata": {},
   "source": [
    "Dans la version chargée, on se retrouve à nouveau avec une chaîne de caractères. "
   ]
  },
  {
   "cell_type": "code",
   "execution_count": 20,
   "id": "20d252ea",
   "metadata": {},
   "outputs": [
    {
     "data": {
      "text/html": [
       "<div>\n",
       "<style scoped>\n",
       "    .dataframe tbody tr th:only-of-type {\n",
       "        vertical-align: middle;\n",
       "    }\n",
       "\n",
       "    .dataframe tbody tr th {\n",
       "        vertical-align: top;\n",
       "    }\n",
       "\n",
       "    .dataframe thead th {\n",
       "        text-align: right;\n",
       "    }\n",
       "</style>\n",
       "<table border=\"1\" class=\"dataframe\">\n",
       "  <thead>\n",
       "    <tr style=\"text-align: right;\">\n",
       "      <th></th>\n",
       "      <th>Unnamed: 0.1</th>\n",
       "      <th>Unnamed: 0</th>\n",
       "      <th>TRIP_ID</th>\n",
       "      <th>CALL_TYPE</th>\n",
       "      <th>ORIGIN_CALL</th>\n",
       "      <th>ORIGIN_STAND</th>\n",
       "      <th>TAXI_ID</th>\n",
       "      <th>TIMESTAMP</th>\n",
       "      <th>DAY_TYPE</th>\n",
       "      <th>MISSING_DATA</th>\n",
       "      <th>Trajectory</th>\n",
       "      <th>POLYLINE</th>\n",
       "    </tr>\n",
       "  </thead>\n",
       "  <tbody>\n",
       "    <tr>\n",
       "      <th>0</th>\n",
       "      <td>0</td>\n",
       "      <td>0</td>\n",
       "      <td>1372636858620000589</td>\n",
       "      <td>C</td>\n",
       "      <td>NaN</td>\n",
       "      <td>NaN</td>\n",
       "      <td>20000589</td>\n",
       "      <td>1372636858</td>\n",
       "      <td>A</td>\n",
       "      <td>False</td>\n",
       "      <td>[[41.141376, -8.618499], [41.14251, -8.620326]...</td>\n",
       "      <td>['8a39220f062ffff', '8a39220f0627fff', '8a3922...</td>\n",
       "    </tr>\n",
       "    <tr>\n",
       "      <th>1</th>\n",
       "      <td>1</td>\n",
       "      <td>1</td>\n",
       "      <td>1372637303620000596</td>\n",
       "      <td>B</td>\n",
       "      <td>NaN</td>\n",
       "      <td>7.0</td>\n",
       "      <td>20000596</td>\n",
       "      <td>1372637303</td>\n",
       "      <td>A</td>\n",
       "      <td>False</td>\n",
       "      <td>[[41.159871, -8.640351], [41.160114, -8.642196...</td>\n",
       "      <td>['8a39220f4757fff', '8a39220f470ffff', '8a3922...</td>\n",
       "    </tr>\n",
       "    <tr>\n",
       "      <th>2</th>\n",
       "      <td>2</td>\n",
       "      <td>2</td>\n",
       "      <td>1372636951620000320</td>\n",
       "      <td>C</td>\n",
       "      <td>NaN</td>\n",
       "      <td>NaN</td>\n",
       "      <td>20000320</td>\n",
       "      <td>1372636951</td>\n",
       "      <td>A</td>\n",
       "      <td>False</td>\n",
       "      <td>[[41.14035, -8.613378], [41.140278, -8.614215]...</td>\n",
       "      <td>['8a39220f39a7fff', '8a39220f065ffff', '8a3922...</td>\n",
       "    </tr>\n",
       "    <tr>\n",
       "      <th>3</th>\n",
       "      <td>3</td>\n",
       "      <td>3</td>\n",
       "      <td>1372636854620000520</td>\n",
       "      <td>C</td>\n",
       "      <td>NaN</td>\n",
       "      <td>NaN</td>\n",
       "      <td>20000520</td>\n",
       "      <td>1372636854</td>\n",
       "      <td>A</td>\n",
       "      <td>False</td>\n",
       "      <td>[[41.151942, -8.574705], [41.151933, -8.574696...</td>\n",
       "      <td>['8a39220c458ffff', '8a39220c458ffff', '8a3922...</td>\n",
       "    </tr>\n",
       "    <tr>\n",
       "      <th>4</th>\n",
       "      <td>4</td>\n",
       "      <td>4</td>\n",
       "      <td>1372637091620000337</td>\n",
       "      <td>C</td>\n",
       "      <td>NaN</td>\n",
       "      <td>NaN</td>\n",
       "      <td>20000337</td>\n",
       "      <td>1372637091</td>\n",
       "      <td>A</td>\n",
       "      <td>False</td>\n",
       "      <td>[[41.180517, -8.645949], [41.180049, -8.646048...</td>\n",
       "      <td>['8a392201b58ffff', '8a392201b58ffff', '8a3922...</td>\n",
       "    </tr>\n",
       "  </tbody>\n",
       "</table>\n",
       "</div>"
      ],
      "text/plain": [
       "   Unnamed: 0.1  Unnamed: 0              TRIP_ID CALL_TYPE  ORIGIN_CALL  \\\n",
       "0             0           0  1372636858620000589         C          NaN   \n",
       "1             1           1  1372637303620000596         B          NaN   \n",
       "2             2           2  1372636951620000320         C          NaN   \n",
       "3             3           3  1372636854620000520         C          NaN   \n",
       "4             4           4  1372637091620000337         C          NaN   \n",
       "\n",
       "   ORIGIN_STAND   TAXI_ID   TIMESTAMP DAY_TYPE  MISSING_DATA  \\\n",
       "0           NaN  20000589  1372636858        A         False   \n",
       "1           7.0  20000596  1372637303        A         False   \n",
       "2           NaN  20000320  1372636951        A         False   \n",
       "3           NaN  20000520  1372636854        A         False   \n",
       "4           NaN  20000337  1372637091        A         False   \n",
       "\n",
       "                                          Trajectory  \\\n",
       "0  [[41.141376, -8.618499], [41.14251, -8.620326]...   \n",
       "1  [[41.159871, -8.640351], [41.160114, -8.642196...   \n",
       "2  [[41.14035, -8.613378], [41.140278, -8.614215]...   \n",
       "3  [[41.151942, -8.574705], [41.151933, -8.574696...   \n",
       "4  [[41.180517, -8.645949], [41.180049, -8.646048...   \n",
       "\n",
       "                                            POLYLINE  \n",
       "0  ['8a39220f062ffff', '8a39220f0627fff', '8a3922...  \n",
       "1  ['8a39220f4757fff', '8a39220f470ffff', '8a3922...  \n",
       "2  ['8a39220f39a7fff', '8a39220f065ffff', '8a3922...  \n",
       "3  ['8a39220c458ffff', '8a39220c458ffff', '8a3922...  \n",
       "4  ['8a392201b58ffff', '8a392201b58ffff', '8a3922...  "
      ]
     },
     "execution_count": 20,
     "metadata": {},
     "output_type": "execute_result"
    }
   ],
   "source": [
    "csv_test_load_all.head()"
   ]
  },
  {
   "cell_type": "markdown",
   "id": "deeba2ac",
   "metadata": {},
   "source": [
    "__Remarque :__ on a toujours le même problème de string. Que ce soit pour les tokens ou les points géographiques, on n'a pas des listes (de chaînes de caractères ou de floats) mais une seule gramde chaîn de caractère."
   ]
  },
  {
   "cell_type": "code",
   "execution_count": null,
   "id": "20d0268a",
   "metadata": {},
   "outputs": [],
   "source": []
  }
 ],
 "metadata": {
  "kernelspec": {
   "display_name": "Python 3 (ipykernel)",
   "language": "python",
   "name": "python3"
  },
  "language_info": {
   "codemirror_mode": {
    "name": "ipython",
    "version": 3
   },
   "file_extension": ".py",
   "mimetype": "text/x-python",
   "name": "python",
   "nbconvert_exporter": "python",
   "pygments_lexer": "ipython3",
   "version": "3.10.11"
  }
 },
 "nbformat": 4,
 "nbformat_minor": 5
}
