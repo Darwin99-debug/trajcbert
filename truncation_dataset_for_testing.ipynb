{
 "cells": [
  {
   "cell_type": "code",
   "execution_count": null,
   "metadata": {},
   "outputs": [],
   "source": [
    "#we load lists from pickle files\n",
    "import pickle\n",
    "with open('/home/daril_kw/data/input_ids_full.pkl', 'rb') as f:\n",
    "    input_ids=pickle.load(f)\n",
    "with open('/home/daril_kw/data/attention_masks_full.pkl', 'rb') as f:\n",
    "    attention_masks=pickle.load(f)\n",
    "with open('/home/daril_kw/data/targets_full.pkl', 'rb') as f:\n",
    "    targets=pickle.load(f)"
   ]
  },
  {
   "cell_type": "code",
   "execution_count": null,
   "metadata": {},
   "outputs": [],
   "source": [
    "#we go on the gpu with cuda\n",
    "import torch\n",
    "device = torch.device(\"cuda\" if torch.cuda.is_available() else \"cpu\")\n"
   ]
  },
  {
   "cell_type": "code",
   "execution_count": null,
   "metadata": {},
   "outputs": [],
   "source": [
    "#we keep only 1/100 of the data\n",
    "#since we have 1 666 766 data, we keep 16 667\n",
    "#16 667*100 = 1 666 700 which is close to 1 666 766\n",
    "input_ids = input_ids[:16667]\n",
    "attention_masks = attention_masks[:16667]\n",
    "targets = targets[:16667]\n"
   ]
  },
  {
   "cell_type": "code",
   "execution_count": null,
   "metadata": {},
   "outputs": [],
   "source": [
    "#we save the lists in pickle files\n",
    "with open('/home/daril_kw/data/input_ids_small.pkl', 'wb') as f:\n",
    "    pickle.dump(input_ids, f)\n",
    "\n",
    "with open('/home/daril_kw/data/attention_masks_small.pkl', 'wb') as f:\n",
    "    pickle.dump(attention_masks, f)\n",
    "\n",
    "with open('/home/daril_kw/data/targets_small.pkl', 'wb') as f:\n",
    "    pickle.dump(targets, f)\n"
   ]
  }
 ],
 "metadata": {
  "language_info": {
   "name": "python"
  },
  "orig_nbformat": 4
 },
 "nbformat": 4,
 "nbformat_minor": 2
}
